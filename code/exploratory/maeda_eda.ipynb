{
 "cells": [
  {
   "cell_type": "markdown",
   "metadata": {},
   "source": [
    "(c) 2023 Manuel Razo. This work is licensed under a [Creative Commons\n",
    "Attribution License CC-BY 4.0](https://creativecommons.org/licenses/by/4.0/).\n",
    "All code contained herein is licensed under an [MIT\n",
    "license](https://opensource.org/licenses/MIT)."
   ]
  },
  {
   "cell_type": "code",
   "execution_count": 32,
   "metadata": {},
   "outputs": [],
   "source": [
    "# Load project package\n",
    "@load_pkg Antibiotic\n",
    "\n",
    "import Revise\n",
    "# Import project package\n",
    "import Antibiotic \n",
    "\n",
    "# Import package to save outputs\n",
    "import BSON\n",
    "\n",
    "# Import package to handle DataFrames\n",
    "import DataFrames as DF\n",
    "import CSV\n",
    "\n",
    "# Import library to list files\n",
    "import Glob\n",
    "\n",
    "# Import packages to work with data\n",
    "import DataFrames as DF\n",
    "\n",
    "# Import statistical functions\n",
    "import Random\n",
    "import StatsBase\n",
    "\n",
    "# Import basic math\n",
    "import LinearAlgebra\n",
    "\n",
    "# Import ML libraries\n",
    "import Flux\n",
    "import NNlib\n",
    "import SimpleChains\n",
    "\n",
    "# Load CairoMakie for plotting\n",
    "using CairoMakie\n",
    "import ColorSchemes\n",
    "# Activate backend\n",
    "CairoMakie.activate!()\n",
    "\n",
    "# Set PBoC Plotting style\n",
    "Antibiotic.viz.pboc_makie!()"
   ]
  },
  {
   "attachments": {},
   "cell_type": "markdown",
   "metadata": {},
   "source": [
    "# Exploratory data analysis for Maeda et al., 2020 Nature Communications"
   ]
  },
  {
   "attachments": {},
   "cell_type": "markdown",
   "metadata": {},
   "source": [
    "In this notebook we will explore the resistance dataset from the [nature\n",
    "communications](https://www.nature.com/articles/s41467-020-19713-w) paper by\n",
    "Maeda et al.\n",
    "\n",
    "First, we will explore the IC50 data. Let's load the tidy data frame."
   ]
  },
  {
   "cell_type": "code",
   "execution_count": 2,
   "metadata": {},
   "outputs": [
    {
     "data": {
      "text/html": [
       "<div><div style = \"float: left;\"><span>5×6 DataFrame</span></div><div style = \"clear: both;\"></div></div><div class = \"data-frame\" style = \"overflow-x: scroll;\"><table class = \"data-frame\" style = \"margin-bottom: 6px;\"><thead><tr class = \"header\"><th class = \"rowNumber\" style = \"font-weight: bold; text-align: right;\">Row</th><th style = \"text-align: left;\">strain</th><th style = \"text-align: left;\">stress</th><th style = \"text-align: left;\">ic50</th><th style = \"text-align: left;\">background</th><th style = \"text-align: left;\">type</th><th style = \"text-align: left;\">resistance</th></tr><tr class = \"subheader headerLastRow\"><th class = \"rowNumber\" style = \"font-weight: bold; text-align: right;\"></th><th title = \"InlineStrings.String15\" style = \"text-align: left;\">String15</th><th title = \"InlineStrings.String15\" style = \"text-align: left;\">String15</th><th title = \"Float64\" style = \"text-align: left;\">Float64</th><th title = \"InlineStrings.String7\" style = \"text-align: left;\">String7</th><th title = \"InlineStrings.String7\" style = \"text-align: left;\">String7</th><th title = \"InlineStrings.String15\" style = \"text-align: left;\">String15</th></tr></thead><tbody><tr><td class = \"rowNumber\" style = \"font-weight: bold; text-align: right;\">1</td><td style = \"text-align: left;\">5.FOAE2</td><td style = \"text-align: left;\">NMNO</td><td style = \"text-align: right;\">-3.83195</td><td style = \"text-align: left;\">MDS42</td><td style = \"text-align: left;\">evolved</td><td style = \"text-align: left;\">5.FOA</td></tr><tr><td class = \"rowNumber\" style = \"font-weight: bold; text-align: right;\">2</td><td style = \"text-align: left;\">NMNOE5</td><td style = \"text-align: left;\">NMNO</td><td style = \"text-align: right;\">3.65591</td><td style = \"text-align: left;\">MDS42</td><td style = \"text-align: left;\">evolved</td><td style = \"text-align: left;\">NMNO</td></tr><tr><td class = \"rowNumber\" style = \"font-weight: bold; text-align: right;\">3</td><td style = \"text-align: left;\">NMNOE6</td><td style = \"text-align: left;\">NMNO</td><td style = \"text-align: right;\">4.91633</td><td style = \"text-align: left;\">MDS42</td><td style = \"text-align: left;\">evolved</td><td style = \"text-align: left;\">NMNO</td></tr><tr><td class = \"rowNumber\" style = \"font-weight: bold; text-align: right;\">4</td><td style = \"text-align: left;\">NMNOE1</td><td style = \"text-align: left;\">NMNO</td><td style = \"text-align: right;\">3.55628</td><td style = \"text-align: left;\">MDS42</td><td style = \"text-align: left;\">evolved</td><td style = \"text-align: left;\">NMNO</td></tr><tr><td class = \"rowNumber\" style = \"font-weight: bold; text-align: right;\">5</td><td style = \"text-align: left;\">NMNOE4</td><td style = \"text-align: left;\">NMNO</td><td style = \"text-align: right;\">3.2644</td><td style = \"text-align: left;\">MDS42</td><td style = \"text-align: left;\">evolved</td><td style = \"text-align: left;\">NMNO</td></tr></tbody></table></div>"
      ],
      "text/latex": [
       "\\begin{tabular}{r|cccccc}\n",
       "\t& strain & stress & ic50 & background & type & resistance\\\\\n",
       "\t\\hline\n",
       "\t& String15 & String15 & Float64 & String7 & String7 & String15\\\\\n",
       "\t\\hline\n",
       "\t1 & 5.FOAE2 & NMNO & -3.83195 & MDS42 & evolved & 5.FOA \\\\\n",
       "\t2 & NMNOE5 & NMNO & 3.65591 & MDS42 & evolved & NMNO \\\\\n",
       "\t3 & NMNOE6 & NMNO & 4.91633 & MDS42 & evolved & NMNO \\\\\n",
       "\t4 & NMNOE1 & NMNO & 3.55628 & MDS42 & evolved & NMNO \\\\\n",
       "\t5 & NMNOE4 & NMNO & 3.2644 & MDS42 & evolved & NMNO \\\\\n",
       "\\end{tabular}\n"
      ],
      "text/plain": [
       "\u001b[1m5×6 DataFrame\u001b[0m\n",
       "\u001b[1m Row \u001b[0m│\u001b[1m strain   \u001b[0m\u001b[1m stress   \u001b[0m\u001b[1m ic50     \u001b[0m\u001b[1m background \u001b[0m\u001b[1m type    \u001b[0m\u001b[1m resistance \u001b[0m\n",
       "     │\u001b[90m String15 \u001b[0m\u001b[90m String15 \u001b[0m\u001b[90m Float64  \u001b[0m\u001b[90m String7    \u001b[0m\u001b[90m String7 \u001b[0m\u001b[90m String15   \u001b[0m\n",
       "─────┼───────────────────────────────────────────────────────────────\n",
       "   1 │ 5.FOAE2   NMNO      -3.83195  MDS42       evolved  5.FOA\n",
       "   2 │ NMNOE5    NMNO       3.65591  MDS42       evolved  NMNO\n",
       "   3 │ NMNOE6    NMNO       4.91633  MDS42       evolved  NMNO\n",
       "   4 │ NMNOE1    NMNO       3.55628  MDS42       evolved  NMNO\n",
       "   5 │ NMNOE4    NMNO       3.2644   MDS42       evolved  NMNO"
      ]
     },
     "metadata": {},
     "output_type": "display_data"
    }
   ],
   "source": [
    "# Define data directory\n",
    "data_dir = \"$(git_root())/data/Maeda_2020\"\n",
    "\n",
    "# Load file into memory\n",
    "df_res = CSV.read(\"$(data_dir)/maeda_resistance_tidy.csv\", DF.DataFrame)\n",
    "\n",
    "last(df_res, 5)"
   ]
  },
  {
   "attachments": {},
   "cell_type": "markdown",
   "metadata": {},
   "source": [
    "## SVD on resistance data"
   ]
  },
  {
   "attachments": {},
   "cell_type": "markdown",
   "metadata": {},
   "source": [
    "As a first pass through the data, let's perform singular value decomposition on\n",
    "the resistance data. For this, we need to generate a matrix\n",
    "$\\underline{\\underline{R}}$ with the resistance values, where each column\n",
    "corresponds to one of the strains, and each row to each of the stresses."
   ]
  },
  {
   "cell_type": "code",
   "execution_count": 19,
   "metadata": {},
   "outputs": [],
   "source": [
    "# Initialize array to save data\n",
    "IC50_mat = Matrix{Float32}(\n",
    "    undef, length(unique(df_res.stress)), length(unique(df_res.strain))\n",
    ")\n",
    "# Group data by strain\n",
    "df_group = DF.groupby(df_res, :strain)\n",
    "\n",
    "# Extract unique stresses to make sure the matrix is built correctly\n",
    "stress = sort(unique(df_res.stress))\n",
    "\n",
    "# Loop through groups\n",
    "for (i, data) in enumerate(df_group)\n",
    "    # Sort data by stress\n",
    "    DF.sort!(data, :stress)\n",
    "    # Check that the stress are in the correct order\n",
    "    if all(data.stress .== stress)\n",
    "        # Add data to matrix\n",
    "        IC50_mat[:, i] = Float32.(data.ic50)\n",
    "    else\n",
    "        println(\"group $i stress does not match\")\n",
    "    end # if\n",
    "end # for\n",
    "\n",
    "# Generate mean-centered matrix\n",
    "IC50_center = IC50_mat .- StatsBase.mean(IC50_mat, dims=2);"
   ]
  },
  {
   "attachments": {},
   "cell_type": "markdown",
   "metadata": {},
   "source": [
    "Next, let's compute the singular value decomposition."
   ]
  },
  {
   "cell_type": "code",
   "execution_count": 83,
   "metadata": {},
   "outputs": [],
   "source": [
    "# Perform SVD on raw data\n",
    "U, Σ, V = LinearAlgebra.svd(IC50_mat)\n",
    "\n",
    "# Perform SVD on mean-centered data\n",
    "U_center, Σ_center, V_center = LinearAlgebra.svd(IC50_center);"
   ]
  },
  {
   "attachments": {},
   "cell_type": "markdown",
   "metadata": {},
   "source": [
    "Let's look at the singular value profile."
   ]
  },
  {
   "cell_type": "code",
   "execution_count": 84,
   "metadata": {},
   "outputs": [
    {
     "data": {
      "image/png": "[encoded data removed]"
     },
     "metadata": {},
     "output_type": "display_data"
    }
   ],
   "source": [
    "# Initialize figure\n",
    "fig = Figure(resolution=(600, 300))\n",
    "\n",
    "# Add axis\n",
    "ax = Axis(\n",
    "    fig[1, 1],\n",
    "    xlabel=\"singular value index\",\n",
    "    ylabel=\"singular value\",\n",
    "    # yscale=log10,\n",
    ")\n",
    "ax2 = Axis(\n",
    "    fig[1, 2],\n",
    "    xlabel=\"singular value index\",\n",
    "    ylabel=\"fraction of variance explained\",\n",
    "    # yscale=log10,\n",
    ")\n",
    "\n",
    "# Plot singular value spectrum\n",
    "scatterlines!(ax, Σ)\n",
    "scatterlines!(ax2, Σ_center .^2 ./ sum(Σ_center .^2))\n",
    "\n",
    "fig"
   ]
  },
  {
   "attachments": {},
   "cell_type": "markdown",
   "metadata": {},
   "source": [
    "## Training IRMAE on data"
   ]
  },
  {
   "attachments": {},
   "cell_type": "markdown",
   "metadata": {},
   "source": [
    "As an alternative to the SVD approach, let's instead attempt to train an\n",
    "intrinsically rank minimizing autoencoder on this dataset. "
   ]
  },
  {
   "cell_type": "code",
   "execution_count": 53,
   "metadata": {},
   "outputs": [],
   "source": [
    "# Define number of epohcs\n",
    "n_epoch = 10_000_000\n",
    "# Define how often error should be computd\n",
    "n_error = 10_000\n",
    "\n",
    "# Define filename\n",
    "fname = \"$(git_root())/code/processing/irmae_maeda/output/$(n_epoch)_epoch/\" *\n",
    "        \"irmae_20dimensions.bson\"\n",
    "# Load model\n",
    "irmae = BSON.load(fname)[:irmae]\n",
    "# Load mean squared error\n",
    "mse = BSON.load(fname)[:mse_flux]\n",
    "# Load standardized data\n",
    "data_std = BSON.load(fname)[:data_std];"
   ]
  },
  {
   "cell_type": "markdown",
   "metadata": {},
   "source": [
    "Before looking at the singular value spectrum, let's look at the mean squared\n",
    "error as a function of epoch to make sure that the IRMAEs were properly trained."
   ]
  },
  {
   "cell_type": "code",
   "execution_count": 51,
   "metadata": {},
   "outputs": [
    {
     "data": {
      "image/png": "[encoded data removed]"
     },
     "metadata": {},
     "output_type": "display_data"
    }
   ],
   "source": [
    "# Initialize figure\n",
    "fig = Figure(resolution=(450, 350))\n",
    "\n",
    "# Add axes\n",
    "ax = Axis(\n",
    "    fig[1, 1],\n",
    "    xlabel=\"epoch\",\n",
    "    ylabel=\"mean squared error\",\n",
    "    xscale=log10,\n",
    "    yscale=log10,\n",
    ")\n",
    "\n",
    "# Plot error over time\n",
    "lines!(\n",
    "    ax, \n",
    "    [collect(1:n_error:n_epoch); [n_epoch]],\n",
    "    mse\n",
    ")\n",
    "\n",
    "fig"
   ]
  },
  {
   "attachments": {},
   "cell_type": "markdown",
   "metadata": {},
   "source": [
    "This training curve look as expected. The longer the model is trained, the\n",
    "lower the reconstruction mean squared error gets."
   ]
  },
  {
   "attachments": {},
   "cell_type": "markdown",
   "metadata": {},
   "source": [
    "Let's compute the singular value decomposition of the latent-space\n",
    "representation."
   ]
  },
  {
   "cell_type": "code",
   "execution_count": 89,
   "metadata": {},
   "outputs": [],
   "source": [
    "# Define number of hidden layers\n",
    "n_hidden = 4\n",
    "# Define number of linear layers\n",
    "n_linear = 8\n",
    "# Define location of latent-space layer\n",
    "n_latent = n_hidden + n_linear + 1\n",
    "\n",
    "# Map data into latent space\n",
    "data_latent = Flux.activations(irmae, data_std)[n_latent]\n",
    "\n",
    "# Generate mean-centered latent space data\n",
    "data_latent_center = data_latent .- StatsBase.mean(data_latent, dims=2)\n",
    "\n",
    "# Perform singular value decomposition\n",
    "U_latent, Σ_latent, V_latent = LinearAlgebra.svd(data_latent)\n",
    "\n",
    "# Perform singular value decomposition on mean-centered data\n",
    "U_latent_center, Σ_latent_center, V_latent_center = LinearAlgebra.svd(\n",
    "    data_latent_center\n",
    ");"
   ]
  },
  {
   "cell_type": "code",
   "execution_count": 90,
   "metadata": {},
   "outputs": [
    {
     "data": {
      "image/png": "[encoded data removed]"
     },
     "metadata": {},
     "output_type": "display_data"
    }
   ],
   "source": [
    "# Initialize figure\n",
    "fig = Figure(resolution=(600, 300))\n",
    "\n",
    "# Add axis\n",
    "ax = Axis(\n",
    "    fig[1, 1],\n",
    "    xlabel=\"singular value index\",\n",
    "    ylabel=\"singular value\",\n",
    "    # yscale=log10,\n",
    ")\n",
    "ax2 = Axis(\n",
    "    fig[1, 2],\n",
    "    xlabel=\"singular value index\",\n",
    "    ylabel=\"fraction of variance explained\",\n",
    "    # yscale=log10,\n",
    ")\n",
    "\n",
    "# Plot singular value spectrum\n",
    "scatterlines!(ax, Σ_latent)\n",
    "scatterlines!(ax2, Σ_latent_center .^2 ./ sum(Σ_latent_center .^2))\n",
    "\n",
    "fig"
   ]
  },
  {
   "cell_type": "code",
   "execution_count": 67,
   "metadata": {},
   "outputs": [
    {
     "data": {
      "text/plain": [
       "2.3567543f-8"
      ]
     },
     "metadata": {},
     "output_type": "display_data"
    }
   ],
   "source": [
    "Flux.mse(irmae(data_std), data_std)"
   ]
  },
  {
   "cell_type": "code",
   "execution_count": 76,
   "metadata": {},
   "outputs": [
    {
     "data": {
      "text/plain": [
       "0.15053925930938364"
      ]
     },
     "metadata": {},
     "output_type": "display_data"
    }
   ],
   "source": [
    "# Compute SVD\n",
    "U_std, Σ_std, V_std = LinearAlgebra.svd(data_std)\n",
    "# Define index\n",
    "idx = 20\n",
    "\n",
    "# Truncate singular values\n",
    "Σ_std_trunc = zeros(length(Σ_std))\n",
    "Σ_std_trunc[1:idx] = Σ_std[1:idx]\n",
    "\n",
    "Flux.mse(data_std, (U_std * LinearAlgebra.Diagonal(Σ_std_trunc) * V_std'))\n"
   ]
  },
  {
   "cell_type": "code",
   "execution_count": null,
   "metadata": {},
   "outputs": [],
   "source": []
  }
 ],
 "metadata": {
  "kernelspec": {
   "display_name": "Julia 1.8.5",
   "language": "julia",
   "name": "julia-1.8"
  },
  "language_info": {
   "file_extension": ".jl",
   "mimetype": "application/julia",
   "name": "julia",
   "version": "1.8.5"
  },
  "orig_nbformat": 4
 },
 "nbformat": 4,
 "nbformat_minor": 2
}
