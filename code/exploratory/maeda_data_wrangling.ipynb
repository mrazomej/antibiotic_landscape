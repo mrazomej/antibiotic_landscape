{
 "cells": [
  {
   "cell_type": "markdown",
   "metadata": {},
   "source": [
    "(c) 2023 Manuel Razo. This work is licensed under a [Creative Commons\n",
    "Attribution License CC-BY 4.0](https://creativecommons.org/licenses/by/4.0/).\n",
    "All code contained herein is licensed under an [MIT\n",
    "license](https://opensource.org/licenses/MIT)."
   ]
  },
  {
   "cell_type": "code",
   "execution_count": 1,
   "metadata": {},
   "outputs": [],
   "source": [
    "# Load project package\n",
    "@load_pkg Antibiotic\n",
    "\n",
    "import Revise\n",
    "# Import project package\n",
    "import Antibiotic \n",
    "\n",
    "# Import package to handle DataFrames\n",
    "import DataFrames as DF\n",
    "import CSV\n",
    "\n",
    "# Import library to list files\n",
    "import Glob\n",
    "\n",
    "# Import packages to work with data\n",
    "import DataFrames as DF\n",
    "\n",
    "# Load CairoMakie for plotting\n",
    "using CairoMakie\n",
    "import ColorSchemes\n",
    "# Activate backend\n",
    "CairoMakie.activate!()\n",
    "\n",
    "# Set PBoC Plotting style\n",
    "Antibiotic.viz.pboc_makie!()"
   ]
  },
  {
   "attachments": {},
   "cell_type": "markdown",
   "metadata": {},
   "source": [
    "# Data wrangling for Maeda et al., 2020 Nature Communications"
   ]
  },
  {
   "attachments": {},
   "cell_type": "markdown",
   "metadata": {},
   "source": [
    "In this notebook we will explore the resistance dataset from the [nature\n",
    "communications](https://www.nature.com/articles/s41467-020-19713-w) paper by\n",
    "Maeda et al. The main objective is to transform the data into a workable format."
   ]
  },
  {
   "attachments": {},
   "cell_type": "markdown",
   "metadata": {},
   "source": [
    "## Resistance data"
   ]
  },
  {
   "cell_type": "markdown",
   "metadata": {},
   "source": [
    "\n",
    "The data provided along with the paper consists of the changes in IC50 with\n",
    "respect to the ancenstral strain for *E. coli* strains evolved in different\n",
    "stresses. In other words, the entries of the table are the change in the\n",
    "inhibitory concentration that reduces growth by 50% with respect to the\n",
    "ancestral strain.\n",
    "\n",
    "Let's load the data."
   ]
  },
  {
   "cell_type": "code",
   "execution_count": 2,
   "metadata": {},
   "outputs": [
    {
     "data": {
      "text/html": [
       "<div><div style = \"float: left;\"><span>5×49 DataFrame</span></div><div style = \"clear: both;\"></div></div><div class = \"data-frame\" style = \"overflow-x: scroll;\"><table class = \"data-frame\" style = \"margin-bottom: 6px;\"><thead><tr class = \"header\"><th class = \"rowNumber\" style = \"font-weight: bold; text-align: right;\">Row</th><th style = \"text-align: left;\">strain name</th><th style = \"text-align: left;\">CP</th><th style = \"text-align: left;\">RFP</th><th style = \"text-align: left;\">5.FU</th><th style = \"text-align: left;\">H2O2</th><th style = \"text-align: left;\">CMZ</th><th style = \"text-align: left;\">LVAL</th><th style = \"text-align: left;\">B.Cl.Ala</th><th style = \"text-align: left;\">AZT</th><th style = \"text-align: left;\">KM</th><th style = \"text-align: left;\">6.MP</th><th style = \"text-align: left;\">AF</th><th style = \"text-align: left;\">NiCl</th><th style = \"text-align: left;\">CBPC</th><th style = \"text-align: left;\">NFLX</th><th style = \"text-align: left;\">SDC</th><th style = \"text-align: left;\">SXZ</th><th style = \"text-align: left;\">FOS</th><th style = \"text-align: left;\">KTe</th><th style = \"text-align: left;\">PS</th><th style = \"text-align: left;\">BZ</th><th style = \"text-align: left;\">DCS</th><th style = \"text-align: left;\">MMC</th><th style = \"text-align: left;\">VCM</th><th style = \"text-align: left;\">ATP</th><th style = \"text-align: left;\">PLM</th><th style = \"text-align: left;\">PHEN</th><th style = \"text-align: left;\">3.AT</th><th style = \"text-align: left;\">NVA</th><th style = \"text-align: left;\">MEC</th><th style = \"text-align: left;\">TET</th><th style = \"text-align: left;\">M9</th><th style = \"text-align: left;\">NQO</th><th style = \"text-align: left;\">EDTA</th><th style = \"text-align: left;\">SHX</th><th style = \"text-align: left;\">PMZ</th><th style = \"text-align: left;\">NIT</th><th style = \"text-align: left;\">SS</th><th style = \"text-align: left;\">BSD</th><th style = \"text-align: left;\">GAH</th><th style = \"text-align: left;\">FTD</th><th style = \"text-align: left;\">EM</th><th style = \"text-align: left;\">HSE</th><th style = \"text-align: left;\">CCCP</th><th style = \"text-align: left;\">ABU</th><th style = \"text-align: left;\">PUR</th><th style = \"text-align: left;\">DVAL</th><th style = \"text-align: left;\">5.FOA</th><th style = \"text-align: left;\">NMNO</th></tr><tr class = \"subheader headerLastRow\"><th class = \"rowNumber\" style = \"font-weight: bold; text-align: right;\"></th><th title = \"InlineStrings.String15\" style = \"text-align: left;\">String15</th><th title = \"Float64\" style = \"text-align: left;\">Float64</th><th title = \"Float64\" style = \"text-align: left;\">Float64</th><th title = \"Float64\" style = \"text-align: left;\">Float64</th><th title = \"Float64\" style = \"text-align: left;\">Float64</th><th title = \"Float64\" style = \"text-align: left;\">Float64</th><th title = \"Float64\" style = \"text-align: left;\">Float64</th><th title = \"Float64\" style = \"text-align: left;\">Float64</th><th title = \"Float64\" style = \"text-align: left;\">Float64</th><th title = \"Float64\" style = \"text-align: left;\">Float64</th><th title = \"Float64\" style = \"text-align: left;\">Float64</th><th title = \"Float64\" style = \"text-align: left;\">Float64</th><th title = \"Float64\" style = \"text-align: left;\">Float64</th><th title = \"Float64\" style = \"text-align: left;\">Float64</th><th title = \"Float64\" style = \"text-align: left;\">Float64</th><th title = \"Float64\" style = \"text-align: left;\">Float64</th><th title = \"Float64\" style = \"text-align: left;\">Float64</th><th title = \"Float64\" style = \"text-align: left;\">Float64</th><th title = \"Float64\" style = \"text-align: left;\">Float64</th><th title = \"Float64\" style = \"text-align: left;\">Float64</th><th title = \"Float64\" style = \"text-align: left;\">Float64</th><th title = \"Float64\" style = \"text-align: left;\">Float64</th><th title = \"Float64\" style = \"text-align: left;\">Float64</th><th title = \"Float64\" style = \"text-align: left;\">Float64</th><th title = \"Float64\" style = \"text-align: left;\">Float64</th><th title = \"Float64\" style = \"text-align: left;\">Float64</th><th title = \"Float64\" style = \"text-align: left;\">Float64</th><th title = \"Float64\" style = \"text-align: left;\">Float64</th><th title = \"Float64\" style = \"text-align: left;\">Float64</th><th title = \"Float64\" style = \"text-align: left;\">Float64</th><th title = \"Float64\" style = \"text-align: left;\">Float64</th><th title = \"Float64\" style = \"text-align: left;\">Float64</th><th title = \"Float64\" style = \"text-align: left;\">Float64</th><th title = \"Float64\" style = \"text-align: left;\">Float64</th><th title = \"Float64\" style = \"text-align: left;\">Float64</th><th title = \"Float64\" style = \"text-align: left;\">Float64</th><th title = \"Float64\" style = \"text-align: left;\">Float64</th><th title = \"Float64\" style = \"text-align: left;\">Float64</th><th title = \"Float64\" style = \"text-align: left;\">Float64</th><th title = \"Float64\" style = \"text-align: left;\">Float64</th><th title = \"Float64\" style = \"text-align: left;\">Float64</th><th title = \"Float64\" style = \"text-align: left;\">Float64</th><th title = \"Float64\" style = \"text-align: left;\">Float64</th><th title = \"Float64\" style = \"text-align: left;\">Float64</th><th title = \"Float64\" style = \"text-align: left;\">Float64</th><th title = \"Float64\" style = \"text-align: left;\">Float64</th><th title = \"Float64\" style = \"text-align: left;\">Float64</th><th title = \"Float64\" style = \"text-align: left;\">Float64</th><th title = \"Float64\" style = \"text-align: left;\">Float64</th></tr></thead><tbody><tr><td class = \"rowNumber\" style = \"font-weight: bold; text-align: right;\">1</td><td style = \"text-align: left;\">5.FOAE2</td><td style = \"text-align: right;\">-0.661645</td><td style = \"text-align: right;\">-0.012262</td><td style = \"text-align: right;\">-0.061384</td><td style = \"text-align: right;\">-0.156599</td><td style = \"text-align: right;\">-1.69766</td><td style = \"text-align: right;\">0.095213</td><td style = \"text-align: right;\">-0.258338</td><td style = \"text-align: right;\">-0.722235</td><td style = \"text-align: right;\">-1.19979</td><td style = \"text-align: right;\">1.15146</td><td style = \"text-align: right;\">-2.1583</td><td style = \"text-align: right;\">1.68019</td><td style = \"text-align: right;\">1.56062</td><td style = \"text-align: right;\">-0.137139</td><td style = \"text-align: right;\">-2.35551</td><td style = \"text-align: right;\">0.378457</td><td style = \"text-align: right;\">1.21975</td><td style = \"text-align: right;\">3.57794</td><td style = \"text-align: right;\">1.75876</td><td style = \"text-align: right;\">0.339141</td><td style = \"text-align: right;\">0.647115</td><td style = \"text-align: right;\">-1.09392</td><td style = \"text-align: right;\">-2.1479</td><td style = \"text-align: right;\">-2.62838</td><td style = \"text-align: right;\">-1.17573</td><td style = \"text-align: right;\">-0.493887</td><td style = \"text-align: right;\">1.06842</td><td style = \"text-align: right;\">-2.41134</td><td style = \"text-align: right;\">0.328002</td><td style = \"text-align: right;\">0.499008</td><td style = \"text-align: right;\">-0.832448</td><td style = \"text-align: right;\">0.887298</td><td style = \"text-align: right;\">-1.11767</td><td style = \"text-align: right;\">-1.7816</td><td style = \"text-align: right;\">-0.861721</td><td style = \"text-align: right;\">-0.870322</td><td style = \"text-align: right;\">-1.41298</td><td style = \"text-align: right;\">0.039208</td><td style = \"text-align: right;\">-5.23012</td><td style = \"text-align: right;\">0.288009</td><td style = \"text-align: right;\">-2.92426</td><td style = \"text-align: right;\">-0.099544</td><td style = \"text-align: right;\">-1.17567</td><td style = \"text-align: right;\">-0.721172</td><td style = \"text-align: right;\">-0.560523</td><td style = \"text-align: right;\">1.53044</td><td style = \"text-align: right;\">2.65262</td><td style = \"text-align: right;\">-3.83195</td></tr><tr><td class = \"rowNumber\" style = \"font-weight: bold; text-align: right;\">2</td><td style = \"text-align: left;\">NMNOE5</td><td style = \"text-align: right;\">-0.35953</td><td style = \"text-align: right;\">1.00274</td><td style = \"text-align: right;\">0.634141</td><td style = \"text-align: right;\">-0.986381</td><td style = \"text-align: right;\">0.170903</td><td style = \"text-align: right;\">0.157029</td><td style = \"text-align: right;\">0.393734</td><td style = \"text-align: right;\">0.885849</td><td style = \"text-align: right;\">-0.373628</td><td style = \"text-align: right;\">0.934989</td><td style = \"text-align: right;\">-0.174868</td><td style = \"text-align: right;\">0.790307</td><td style = \"text-align: right;\">2.77881</td><td style = \"text-align: right;\">-0.947897</td><td style = \"text-align: right;\">-0.668885</td><td style = \"text-align: right;\">-1.0005</td><td style = \"text-align: right;\">-0.029005</td><td style = \"text-align: right;\">0.701433</td><td style = \"text-align: right;\">-0.31472</td><td style = \"text-align: right;\">-0.209384</td><td style = \"text-align: right;\">-0.692136</td><td style = \"text-align: right;\">-0.497421</td><td style = \"text-align: right;\">-2.69723</td><td style = \"text-align: right;\">1.81289</td><td style = \"text-align: right;\">-0.675218</td><td style = \"text-align: right;\">0.361084</td><td style = \"text-align: right;\">0.2337</td><td style = \"text-align: right;\">1.2975</td><td style = \"text-align: right;\">0.235668</td><td style = \"text-align: right;\">-0.054649</td><td style = \"text-align: right;\">-0.221308</td><td style = \"text-align: right;\">0.505572</td><td style = \"text-align: right;\">-0.257999</td><td style = \"text-align: right;\">1.10787</td><td style = \"text-align: right;\">1.67999</td><td style = \"text-align: right;\">0.154709</td><td style = \"text-align: right;\">1.64673</td><td style = \"text-align: right;\">0.585146</td><td style = \"text-align: right;\">-0.007247</td><td style = \"text-align: right;\">0.212347</td><td style = \"text-align: right;\">2.24802</td><td style = \"text-align: right;\">0.672493</td><td style = \"text-align: right;\">2.40726</td><td style = \"text-align: right;\">0.97674</td><td style = \"text-align: right;\">1.42789</td><td style = \"text-align: right;\">0.918866</td><td style = \"text-align: right;\">-0.58931</td><td style = \"text-align: right;\">3.65591</td></tr><tr><td class = \"rowNumber\" style = \"font-weight: bold; text-align: right;\">3</td><td style = \"text-align: left;\">NMNOE6</td><td style = \"text-align: right;\">3.1921</td><td style = \"text-align: right;\">2.37938</td><td style = \"text-align: right;\">1.58008</td><td style = \"text-align: right;\">0.363998</td><td style = \"text-align: right;\">1.38883</td><td style = \"text-align: right;\">0.750617</td><td style = \"text-align: right;\">0.592988</td><td style = \"text-align: right;\">1.06388</td><td style = \"text-align: right;\">0.359923</td><td style = \"text-align: right;\">-0.081964</td><td style = \"text-align: right;\">4.89017</td><td style = \"text-align: right;\">1.81015</td><td style = \"text-align: right;\">0.578233</td><td style = \"text-align: right;\">-0.690619</td><td style = \"text-align: right;\">0.56438</td><td style = \"text-align: right;\">2.00103</td><td style = \"text-align: right;\">1.63801</td><td style = \"text-align: right;\">6.04851</td><td style = \"text-align: right;\">-0.989974</td><td style = \"text-align: right;\">-0.029481</td><td style = \"text-align: right;\">1.07572</td><td style = \"text-align: right;\">-1.71851</td><td style = \"text-align: right;\">0.966048</td><td style = \"text-align: right;\">1.00477</td><td style = \"text-align: right;\">0.224165</td><td style = \"text-align: right;\">0.877591</td><td style = \"text-align: right;\">0.466342</td><td style = \"text-align: right;\">2.67449</td><td style = \"text-align: right;\">-0.101146</td><td style = \"text-align: right;\">1.02836</td><td style = \"text-align: right;\">-0.231995</td><td style = \"text-align: right;\">1.22119</td><td style = \"text-align: right;\">4.0847</td><td style = \"text-align: right;\">3.12158</td><td style = \"text-align: right;\">0.775148</td><td style = \"text-align: right;\">-0.115481</td><td style = \"text-align: right;\">4.42988</td><td style = \"text-align: right;\">0.845438</td><td style = \"text-align: right;\">-0.070485</td><td style = \"text-align: right;\">-0.053272</td><td style = \"text-align: right;\">7.80305</td><td style = \"text-align: right;\">0.076741</td><td style = \"text-align: right;\">3.23997</td><td style = \"text-align: right;\">1.36388</td><td style = \"text-align: right;\">1.34384</td><td style = \"text-align: right;\">-0.049199</td><td style = \"text-align: right;\">3.06522</td><td style = \"text-align: right;\">4.91633</td></tr><tr><td class = \"rowNumber\" style = \"font-weight: bold; text-align: right;\">4</td><td style = \"text-align: left;\">NMNOE1</td><td style = \"text-align: right;\">-2.60771</td><td style = \"text-align: right;\">1.63187</td><td style = \"text-align: right;\">-1.18111</td><td style = \"text-align: right;\">-0.288041</td><td style = \"text-align: right;\">-0.912801</td><td style = \"text-align: right;\">0.0891</td><td style = \"text-align: right;\">0.255163</td><td style = \"text-align: right;\">0.763287</td><td style = \"text-align: right;\">0.07838</td><td style = \"text-align: right;\">0.826636</td><td style = \"text-align: right;\">-0.23578</td><td style = \"text-align: right;\">2.64488</td><td style = \"text-align: right;\">0.522383</td><td style = \"text-align: right;\">0.047844</td><td style = \"text-align: right;\">-1.23759</td><td style = \"text-align: right;\">-0.943455</td><td style = \"text-align: right;\">-0.161112</td><td style = \"text-align: right;\">0.063527</td><td style = \"text-align: right;\">-0.135</td><td style = \"text-align: right;\">0.100003</td><td style = \"text-align: right;\">-0.526977</td><td style = \"text-align: right;\">-0.412523</td><td style = \"text-align: right;\">-3.50619</td><td style = \"text-align: right;\">1.58498</td><td style = \"text-align: right;\">0.085718</td><td style = \"text-align: right;\">0.032914</td><td style = \"text-align: right;\">-0.883043</td><td style = \"text-align: right;\">1.26504</td><td style = \"text-align: right;\">-1.02703</td><td style = \"text-align: right;\">0.571841</td><td style = \"text-align: right;\">-1.68445</td><td style = \"text-align: right;\">-0.078044</td><td style = \"text-align: right;\">-0.928355</td><td style = \"text-align: right;\">-1.16824</td><td style = \"text-align: right;\">1.61003</td><td style = \"text-align: right;\">-1.02446</td><td style = \"text-align: right;\">-0.731334</td><td style = \"text-align: right;\">-1.61091</td><td style = \"text-align: right;\">1.51119</td><td style = \"text-align: right;\">-0.166571</td><td style = \"text-align: right;\">-1.29776</td><td style = \"text-align: right;\">1.05479</td><td style = \"text-align: right;\">1.63375</td><td style = \"text-align: right;\">0.447528</td><td style = \"text-align: right;\">1.87663</td><td style = \"text-align: right;\">-0.508833</td><td style = \"text-align: right;\">-5.85575</td><td style = \"text-align: right;\">3.55628</td></tr><tr><td class = \"rowNumber\" style = \"font-weight: bold; text-align: right;\">5</td><td style = \"text-align: left;\">NMNOE4</td><td style = \"text-align: right;\">2.10024</td><td style = \"text-align: right;\">2.72564</td><td style = \"text-align: right;\">0.115826</td><td style = \"text-align: right;\">-1.99897</td><td style = \"text-align: right;\">0.60069</td><td style = \"text-align: right;\">1.37568</td><td style = \"text-align: right;\">1.59043</td><td style = \"text-align: right;\">-0.258301</td><td style = \"text-align: right;\">-0.242917</td><td style = \"text-align: right;\">-0.12508</td><td style = \"text-align: right;\">-1.49025</td><td style = \"text-align: right;\">-1.22764</td><td style = \"text-align: right;\">0.015204</td><td style = \"text-align: right;\">-1.95643</td><td style = \"text-align: right;\">-3.45848</td><td style = \"text-align: right;\">1.49377</td><td style = \"text-align: right;\">1.36284</td><td style = \"text-align: right;\">5.48681</td><td style = \"text-align: right;\">-0.677673</td><td style = \"text-align: right;\">-0.394002</td><td style = \"text-align: right;\">1.11965</td><td style = \"text-align: right;\">-7.91055</td><td style = \"text-align: right;\">0.364236</td><td style = \"text-align: right;\">0.927788</td><td style = \"text-align: right;\">-4.13774</td><td style = \"text-align: right;\">0.147863</td><td style = \"text-align: right;\">1.94054</td><td style = \"text-align: right;\">2.87083</td><td style = \"text-align: right;\">-6.05579</td><td style = \"text-align: right;\">-0.465355</td><td style = \"text-align: right;\">0.102666</td><td style = \"text-align: right;\">0.04573</td><td style = \"text-align: right;\">1.18741</td><td style = \"text-align: right;\">0.628378</td><td style = \"text-align: right;\">1.04518</td><td style = \"text-align: right;\">-2.59799</td><td style = \"text-align: right;\">0.721283</td><td style = \"text-align: right;\">-1.13886</td><td style = \"text-align: right;\">-1.90406</td><td style = \"text-align: right;\">-4.40247</td><td style = \"text-align: right;\">2.69108</td><td style = \"text-align: right;\">2.20691</td><td style = \"text-align: right;\">3.3755</td><td style = \"text-align: right;\">1.29044</td><td style = \"text-align: right;\">1.4051</td><td style = \"text-align: right;\">4.11908</td><td style = \"text-align: right;\">1.44304</td><td style = \"text-align: right;\">3.2644</td></tr></tbody></table></div>"
      ],
      "text/latex": [
       "\\begin{tabular}{r|ccccccccc}\n",
       "\t& strain name & CP & RFP & 5.FU & H2O2 & CMZ & LVAL & B.Cl.Ala & \\\\\n",
       "\t\\hline\n",
       "\t& String15 & Float64 & Float64 & Float64 & Float64 & Float64 & Float64 & Float64 & \\\\\n",
       "\t\\hline\n",
       "\t1 & 5.FOAE2 & -0.661645 & -0.012262 & -0.061384 & -0.156599 & -1.69766 & 0.095213 & -0.258338 & $\\dots$ \\\\\n",
       "\t2 & NMNOE5 & -0.35953 & 1.00274 & 0.634141 & -0.986381 & 0.170903 & 0.157029 & 0.393734 & $\\dots$ \\\\\n",
       "\t3 & NMNOE6 & 3.1921 & 2.37938 & 1.58008 & 0.363998 & 1.38883 & 0.750617 & 0.592988 & $\\dots$ \\\\\n",
       "\t4 & NMNOE1 & -2.60771 & 1.63187 & -1.18111 & -0.288041 & -0.912801 & 0.0891 & 0.255163 & $\\dots$ \\\\\n",
       "\t5 & NMNOE4 & 2.10024 & 2.72564 & 0.115826 & -1.99897 & 0.60069 & 1.37568 & 1.59043 & $\\dots$ \\\\\n",
       "\\end{tabular}\n"
      ],
      "text/plain": [
       "\u001b[1m5×49 DataFrame\u001b[0m\n",
       "\u001b[1m Row \u001b[0m│\u001b[1m strain name \u001b[0m\u001b[1m CP        \u001b[0m\u001b[1m RFP       \u001b[0m\u001b[1m 5.FU      \u001b[0m\u001b[1m H2O2      \u001b[0m\u001b[1m CMZ       \u001b[0m\u001b[1m LVA\u001b[0m ⋯\n",
       "     │\u001b[90m String15    \u001b[0m\u001b[90m Float64   \u001b[0m\u001b[90m Float64   \u001b[0m\u001b[90m Float64   \u001b[0m\u001b[90m Float64   \u001b[0m\u001b[90m Float64   \u001b[0m\u001b[90m Flo\u001b[0m ⋯\n",
       "─────┼──────────────────────────────────────────────────────────────────────────\n",
       "   1 │ 5.FOAE2      -0.661645  -0.012262  -0.061384  -0.156599  -1.69766   0.0 ⋯\n",
       "   2 │ NMNOE5       -0.35953    1.00274    0.634141  -0.986381   0.170903  0.1\n",
       "   3 │ NMNOE6        3.1921     2.37938    1.58008    0.363998   1.38883   0.7\n",
       "   4 │ NMNOE1       -2.60771    1.63187   -1.18111   -0.288041  -0.912801  0.0\n",
       "   5 │ NMNOE4        2.10024    2.72564    0.115826  -1.99897    0.60069   1.3 ⋯\n",
       "\u001b[36m                                                              43 columns omitted\u001b[0m"
      ]
     },
     "metadata": {},
     "output_type": "display_data"
    }
   ],
   "source": [
    "# Define data directory\n",
    "data_dir = \"$(git_root())/data/Maeda_2020\"\n",
    "\n",
    "# Load file into memory\n",
    "df_res = CSV.read(\"$(data_dir)/resistance_norm.csv\", DF.DataFrame)\n",
    "\n",
    "last(df_res, 5)"
   ]
  },
  {
   "attachments": {},
   "cell_type": "markdown",
   "metadata": {},
   "source": [
    "Let's turn this table into a tidy format."
   ]
  },
  {
   "cell_type": "code",
   "execution_count": 3,
   "metadata": {},
   "outputs": [
    {
     "data": {
      "text/html": [
       "<div><div style = \"float: left;\"><span>5×3 DataFrame</span></div><div style = \"clear: both;\"></div></div><div class = \"data-frame\" style = \"overflow-x: scroll;\"><table class = \"data-frame\" style = \"margin-bottom: 6px;\"><thead><tr class = \"header\"><th class = \"rowNumber\" style = \"font-weight: bold; text-align: right;\">Row</th><th style = \"text-align: left;\">strain</th><th style = \"text-align: left;\">stress</th><th style = \"text-align: left;\">ic50</th></tr><tr class = \"subheader headerLastRow\"><th class = \"rowNumber\" style = \"font-weight: bold; text-align: right;\"></th><th title = \"InlineStrings.String15\" style = \"text-align: left;\">String15</th><th title = \"String\" style = \"text-align: left;\">String</th><th title = \"Float64\" style = \"text-align: left;\">Float64</th></tr></thead><tbody><tr><td class = \"rowNumber\" style = \"font-weight: bold; text-align: right;\">1</td><td style = \"text-align: left;\">CPE6</td><td style = \"text-align: left;\">CP</td><td style = \"text-align: right;\">11.7503</td></tr><tr><td class = \"rowNumber\" style = \"font-weight: bold; text-align: right;\">2</td><td style = \"text-align: left;\">CPE2</td><td style = \"text-align: left;\">CP</td><td style = \"text-align: right;\">5.91574</td></tr><tr><td class = \"rowNumber\" style = \"font-weight: bold; text-align: right;\">3</td><td style = \"text-align: left;\">CPE5</td><td style = \"text-align: left;\">CP</td><td style = \"text-align: right;\">2.85371</td></tr><tr><td class = \"rowNumber\" style = \"font-weight: bold; text-align: right;\">4</td><td style = \"text-align: left;\">CPE3</td><td style = \"text-align: left;\">CP</td><td style = \"text-align: right;\">2.34945</td></tr><tr><td class = \"rowNumber\" style = \"font-weight: bold; text-align: right;\">5</td><td style = \"text-align: left;\">RFPE4</td><td style = \"text-align: left;\">CP</td><td style = \"text-align: right;\">-0.16606</td></tr></tbody></table></div>"
      ],
      "text/latex": [
       "\\begin{tabular}{r|ccc}\n",
       "\t& strain & stress & ic50\\\\\n",
       "\t\\hline\n",
       "\t& String15 & String & Float64\\\\\n",
       "\t\\hline\n",
       "\t1 & CPE6 & CP & 11.7503 \\\\\n",
       "\t2 & CPE2 & CP & 5.91574 \\\\\n",
       "\t3 & CPE5 & CP & 2.85371 \\\\\n",
       "\t4 & CPE3 & CP & 2.34945 \\\\\n",
       "\t5 & RFPE4 & CP & -0.16606 \\\\\n",
       "\\end{tabular}\n"
      ],
      "text/plain": [
       "\u001b[1m5×3 DataFrame\u001b[0m\n",
       "\u001b[1m Row \u001b[0m│\u001b[1m strain   \u001b[0m\u001b[1m stress \u001b[0m\u001b[1m ic50     \u001b[0m\n",
       "     │\u001b[90m String15 \u001b[0m\u001b[90m String \u001b[0m\u001b[90m Float64  \u001b[0m\n",
       "─────┼────────────────────────────\n",
       "   1 │ CPE6      CP      11.7503\n",
       "   2 │ CPE2      CP       5.91574\n",
       "   3 │ CPE5      CP       2.85371\n",
       "   4 │ CPE3      CP       2.34945\n",
       "   5 │ RFPE4     CP      -0.16606"
      ]
     },
     "metadata": {},
     "output_type": "display_data"
    }
   ],
   "source": [
    "# Turn table into long format\n",
    "df_res_tidy = DF.stack(df_res, DF.Not(Symbol(\"strain name\")))\n",
    "\n",
    "# Rename columns\n",
    "DF.rename!(\n",
    "    df_res_tidy, \n",
    "    Dict(\n",
    "        Symbol(\"strain name\") => :strain,\n",
    "        :variable => :stress,\n",
    "        :value => :ic50\n",
    "    )\n",
    ")\n",
    "\n",
    "first(df_res_tidy, 5)"
   ]
  },
  {
   "attachments": {},
   "cell_type": "markdown",
   "metadata": {},
   "source": [
    "The names of the strains do not mean anything as presented. The metadata for\n",
    "each of the strains can be obtained from the\n",
    "[NCBI](https://www.ncbi.nlm.nih.gov/geo/query/acc.cgi?acc=GSE137348) entry. In\n",
    "there, the `GSE137348_series_matrix.txt` table contains all the metadata we\n",
    "need. Specifically, we are interested in the following lines:\n",
    "- `Sample_source_name_ch1`: The same names as in the table above\n",
    "- `Sample_characteristics_ch1`: Several lines that contain relevant information\n",
    "  about the sample."
   ]
  },
  {
   "cell_type": "code",
   "execution_count": 4,
   "metadata": {},
   "outputs": [
    {
     "data": {
      "text/html": [
       "<div><div style = \"float: left;\"><span>5×4 DataFrame</span></div><div style = \"clear: both;\"></div></div><div class = \"data-frame\" style = \"overflow-x: scroll;\"><table class = \"data-frame\" style = \"margin-bottom: 6px;\"><thead><tr class = \"header\"><th class = \"rowNumber\" style = \"font-weight: bold; text-align: right;\">Row</th><th style = \"text-align: left;\">strain</th><th style = \"text-align: left;\">var1</th><th style = \"text-align: left;\">var2</th><th style = \"text-align: left;\">var3</th></tr><tr class = \"subheader headerLastRow\"><th class = \"rowNumber\" style = \"font-weight: bold; text-align: right;\"></th><th title = \"String\" style = \"text-align: left;\">String</th><th title = \"String\" style = \"text-align: left;\">String</th><th title = \"String\" style = \"text-align: left;\">String</th><th title = \"String\" style = \"text-align: left;\">String</th></tr></thead><tbody><tr><td class = \"rowNumber\" style = \"font-weight: bold; text-align: right;\">1</td><td style = \"text-align: left;\">3.ATE1</td><td style = \"text-align: left;\">genetic background: MDS42</td><td style = \"text-align: left;\">strain type: Evolved</td><td style = \"text-align: left;\">resistance: 3.AT resistance</td></tr><tr><td class = \"rowNumber\" style = \"font-weight: bold; text-align: right;\">2</td><td style = \"text-align: left;\">3.ATE5</td><td style = \"text-align: left;\">genetic background: MDS42</td><td style = \"text-align: left;\">strain type: Evolved</td><td style = \"text-align: left;\">resistance: 3.AT resistance</td></tr><tr><td class = \"rowNumber\" style = \"font-weight: bold; text-align: right;\">3</td><td style = \"text-align: left;\">3.ATE3</td><td style = \"text-align: left;\">genetic background: MDS42</td><td style = \"text-align: left;\">strain type: Evolved</td><td style = \"text-align: left;\">resistance: 3.AT resistance</td></tr><tr><td class = \"rowNumber\" style = \"font-weight: bold; text-align: right;\">4</td><td style = \"text-align: left;\">3.ATE4</td><td style = \"text-align: left;\">genetic background: MDS42</td><td style = \"text-align: left;\">strain type: Evolved</td><td style = \"text-align: left;\">resistance: 3.AT resistance</td></tr><tr><td class = \"rowNumber\" style = \"font-weight: bold; text-align: right;\">5</td><td style = \"text-align: left;\">5.FOAE4</td><td style = \"text-align: left;\">genetic background: MDS42</td><td style = \"text-align: left;\">strain type: Evolved</td><td style = \"text-align: left;\">resistance: 5.FOA resistance</td></tr></tbody></table></div>"
      ],
      "text/latex": [
       "\\begin{tabular}{r|cccc}\n",
       "\t& strain & var1 & var2 & var3\\\\\n",
       "\t\\hline\n",
       "\t& String & String & String & String\\\\\n",
       "\t\\hline\n",
       "\t1 & 3.ATE1 & genetic background: MDS42 & strain type: Evolved & resistance: 3.AT resistance \\\\\n",
       "\t2 & 3.ATE5 & genetic background: MDS42 & strain type: Evolved & resistance: 3.AT resistance \\\\\n",
       "\t3 & 3.ATE3 & genetic background: MDS42 & strain type: Evolved & resistance: 3.AT resistance \\\\\n",
       "\t4 & 3.ATE4 & genetic background: MDS42 & strain type: Evolved & resistance: 3.AT resistance \\\\\n",
       "\t5 & 5.FOAE4 & genetic background: MDS42 & strain type: Evolved & resistance: 5.FOA resistance \\\\\n",
       "\\end{tabular}\n"
      ],
      "text/plain": [
       "\u001b[1m5×4 DataFrame\u001b[0m\n",
       "\u001b[1m Row \u001b[0m│\u001b[1m strain  \u001b[0m\u001b[1m var1                      \u001b[0m\u001b[1m var2                 \u001b[0m\u001b[1m var3         \u001b[0m ⋯\n",
       "     │\u001b[90m String  \u001b[0m\u001b[90m String                    \u001b[0m\u001b[90m String               \u001b[0m\u001b[90m String       \u001b[0m ⋯\n",
       "─────┼──────────────────────────────────────────────────────────────────────────\n",
       "   1 │ 3.ATE1   genetic background: MDS42  strain type: Evolved  resistance: 3 ⋯\n",
       "   2 │ 3.ATE5   genetic background: MDS42  strain type: Evolved  resistance: 3\n",
       "   3 │ 3.ATE3   genetic background: MDS42  strain type: Evolved  resistance: 3\n",
       "   4 │ 3.ATE4   genetic background: MDS42  strain type: Evolved  resistance: 3\n",
       "   5 │ 5.FOAE4  genetic background: MDS42  strain type: Evolved  resistance: 5 ⋯\n",
       "\u001b[36m                                                                1 column omitted\u001b[0m"
      ]
     },
     "metadata": {},
     "output_type": "display_data"
    }
   ],
   "source": [
    "# Initialize dataframe to save metadata\n",
    "df_meta = DF.DataFrame()\n",
    "\n",
    "# read lines into memory\n",
    "lines_micro = readlines(\"$(data_dir)/GSE137348_series_matrix.txt\", keep=true)\n",
    "\n",
    "# Locate lines with strain names\n",
    "idx = occursin.(\"Sample_source_name_ch1\", lines_micro)\n",
    "# Extract line with names and split by tab\n",
    "strain_line = split(first(lines_micro[idx]), \"\\t\")\n",
    "# Extract strain names by removing extra characters\n",
    "strain_names = [String(split(x, \"\\\"\")[2]) for x in strain_line[2:end]]\n",
    "# Append values to DataFrame\n",
    "df_meta.strain = strain_names\n",
    "\n",
    "# Locate lines with strain names\n",
    "idx = occursin.(\"Sample_characteristics_ch1\", lines_micro)\n",
    "# Extract lines\n",
    "char_lines = lines_micro[idx]\n",
    "# Loop through columns\n",
    "for (i, l) in enumerate(char_lines)\n",
    "    # Extract line with names and split by tab\n",
    "    strain_line = split(l, \"\\t\")\n",
    "    # Extract information by removing extra characters\n",
    "    strain_char = [String(split(x, \"\\\"\")[2]) for x in strain_line[2:end]]\n",
    "    # Add to dataframe\n",
    "    df_meta[:, Symbol(\"var$i\")] = strain_char\n",
    "end # for\n",
    "\n",
    "first(df_meta, 5)"
   ]
  },
  {
   "attachments": {},
   "cell_type": "markdown",
   "metadata": {},
   "source": [
    "Although the table contains the information we need, the format is too long.\n",
    "Let's keep only the necessary information."
   ]
  },
  {
   "cell_type": "code",
   "execution_count": 5,
   "metadata": {},
   "outputs": [
    {
     "data": {
      "text/html": [
       "<div><div style = \"float: left;\"><span>5×4 DataFrame</span></div><div style = \"clear: both;\"></div></div><div class = \"data-frame\" style = \"overflow-x: scroll;\"><table class = \"data-frame\" style = \"margin-bottom: 6px;\"><thead><tr class = \"header\"><th class = \"rowNumber\" style = \"font-weight: bold; text-align: right;\">Row</th><th style = \"text-align: left;\">strain</th><th style = \"text-align: left;\">background</th><th style = \"text-align: left;\">type</th><th style = \"text-align: left;\">resistance</th></tr><tr class = \"subheader headerLastRow\"><th class = \"rowNumber\" style = \"font-weight: bold; text-align: right;\"></th><th title = \"String\" style = \"text-align: left;\">String</th><th title = \"SubString{String}\" style = \"text-align: left;\">SubStrin…</th><th title = \"String\" style = \"text-align: left;\">String</th><th title = \"String\" style = \"text-align: left;\">String</th></tr></thead><tbody><tr><td class = \"rowNumber\" style = \"font-weight: bold; text-align: right;\">1</td><td style = \"text-align: left;\">3.ATE1</td><td style = \"text-align: left;\">MDS42</td><td style = \"text-align: left;\">evolved</td><td style = \"text-align: left;\">3.AT</td></tr><tr><td class = \"rowNumber\" style = \"font-weight: bold; text-align: right;\">2</td><td style = \"text-align: left;\">3.ATE5</td><td style = \"text-align: left;\">MDS42</td><td style = \"text-align: left;\">evolved</td><td style = \"text-align: left;\">3.AT</td></tr><tr><td class = \"rowNumber\" style = \"font-weight: bold; text-align: right;\">3</td><td style = \"text-align: left;\">3.ATE3</td><td style = \"text-align: left;\">MDS42</td><td style = \"text-align: left;\">evolved</td><td style = \"text-align: left;\">3.AT</td></tr><tr><td class = \"rowNumber\" style = \"font-weight: bold; text-align: right;\">4</td><td style = \"text-align: left;\">3.ATE4</td><td style = \"text-align: left;\">MDS42</td><td style = \"text-align: left;\">evolved</td><td style = \"text-align: left;\">3.AT</td></tr><tr><td class = \"rowNumber\" style = \"font-weight: bold; text-align: right;\">5</td><td style = \"text-align: left;\">5.FOAE4</td><td style = \"text-align: left;\">MDS42</td><td style = \"text-align: left;\">evolved</td><td style = \"text-align: left;\">5.FOA</td></tr></tbody></table></div>"
      ],
      "text/latex": [
       "\\begin{tabular}{r|cccc}\n",
       "\t& strain & background & type & resistance\\\\\n",
       "\t\\hline\n",
       "\t& String & SubStrin… & String & String\\\\\n",
       "\t\\hline\n",
       "\t1 & 3.ATE1 & MDS42 & evolved & 3.AT \\\\\n",
       "\t2 & 3.ATE5 & MDS42 & evolved & 3.AT \\\\\n",
       "\t3 & 3.ATE3 & MDS42 & evolved & 3.AT \\\\\n",
       "\t4 & 3.ATE4 & MDS42 & evolved & 3.AT \\\\\n",
       "\t5 & 5.FOAE4 & MDS42 & evolved & 5.FOA \\\\\n",
       "\\end{tabular}\n"
      ],
      "text/plain": [
       "\u001b[1m5×4 DataFrame\u001b[0m\n",
       "\u001b[1m Row \u001b[0m│\u001b[1m strain  \u001b[0m\u001b[1m background \u001b[0m\u001b[1m type    \u001b[0m\u001b[1m resistance \u001b[0m\n",
       "     │\u001b[90m String  \u001b[0m\u001b[90m SubString… \u001b[0m\u001b[90m String  \u001b[0m\u001b[90m String     \u001b[0m\n",
       "─────┼──────────────────────────────────────────\n",
       "   1 │ 3.ATE1   MDS42       evolved  3.AT\n",
       "   2 │ 3.ATE5   MDS42       evolved  3.AT\n",
       "   3 │ 3.ATE3   MDS42       evolved  3.AT\n",
       "   4 │ 3.ATE4   MDS42       evolved  3.AT\n",
       "   5 │ 5.FOAE4  MDS42       evolved  5.FOA"
      ]
     },
     "metadata": {},
     "output_type": "display_data"
    }
   ],
   "source": [
    "# Add column with genetic background\n",
    "df_meta[:, :background] = [split(x, \": \")[end] for x in df_meta.var1]\n",
    "\n",
    "# Add column for strain type\n",
    "df_meta[:, :type] = [lowercase(split(x, \": \")[end]) for x in df_meta.var2]\n",
    "\n",
    "# Add column for resistance\n",
    "df_meta[:, :resistance] = [\n",
    "    replace(split(x, \": \")[end], \" resistance\" => \"\") for x in df_meta.var3\n",
    "]\n",
    "\n",
    "# Remove old columns\n",
    "df_meta = df_meta[:, DF.Not([\"var$i\" for i = 1:length(char_lines)])]\n",
    "\n",
    "first(df_meta, 5)"
   ]
  },
  {
   "attachments": {},
   "cell_type": "markdown",
   "metadata": {},
   "source": [
    "Now that we have the metadata ready, let's make sure that the strain names\n",
    "overlap between the resistance table and this metadata table. For this, we'll\n",
    "use the `setdiff` function to check what names are found in one but not in the\n",
    "other list."
   ]
  },
  {
   "cell_type": "code",
   "execution_count": 6,
   "metadata": {},
   "outputs": [
    {
     "data": {
      "text/plain": [
       "Set{String} with 4 elements:\n",
       "  \"CCCP3\"\n",
       "  \"CCCP6\"\n",
       "  \"CCCP5\"\n",
       "  \"CCCP4\""
      ]
     },
     "metadata": {},
     "output_type": "display_data"
    }
   ],
   "source": [
    "# Difference between resistance table and metadata table\n",
    "setdiff(Set(String.(df_res_tidy.strain)), Set(df_meta.strain))"
   ]
  },
  {
   "cell_type": "code",
   "execution_count": 7,
   "metadata": {},
   "outputs": [
    {
     "data": {
      "text/plain": [
       "Set{String} with 8 elements:\n",
       "  \"CCCPE4\"\n",
       "  \"CCCPE5\"\n",
       "  \"MDS42-n4\"\n",
       "  \"MDS42-n1\"\n",
       "  \"MDS42-n2\"\n",
       "  \"CCCPE6\"\n",
       "  \"CCCPE3\"\n",
       "  \"MDS42-n3\""
      ]
     },
     "metadata": {},
     "output_type": "display_data"
    }
   ],
   "source": [
    "# Difference between resistance table and metadata table\n",
    "setdiff(Set(df_meta.strain), Set(String.(df_res_tidy.strain)))"
   ]
  },
  {
   "attachments": {},
   "cell_type": "markdown",
   "metadata": {},
   "source": [
    "There are two obvious cases:\n",
    "1. There is a difference in spelling between `CCCP#` and `CCCPE#`. I am not 100%\n",
    "   sure these are indeed the same, but that is the most parsimonious\n",
    "   explanation.\n",
    "2. The resistance table is **normalized with respect to the parental strain**.\n",
    "   Therefore, there are no resistance values for the `MDS42` parental strain.\n",
    "\n",
    "Taking this into account, let's add the metadata to the resistance values\n",
    "dataframe."
   ]
  },
  {
   "cell_type": "code",
   "execution_count": 8,
   "metadata": {},
   "outputs": [
    {
     "data": {
      "text/html": [
       "<div><div style = \"float: left;\"><span>5×6 DataFrame</span></div><div style = \"clear: both;\"></div></div><div class = \"data-frame\" style = \"overflow-x: scroll;\"><table class = \"data-frame\" style = \"margin-bottom: 6px;\"><thead><tr class = \"header\"><th class = \"rowNumber\" style = \"font-weight: bold; text-align: right;\">Row</th><th style = \"text-align: left;\">strain</th><th style = \"text-align: left;\">stress</th><th style = \"text-align: left;\">ic50</th><th style = \"text-align: left;\">background</th><th style = \"text-align: left;\">type</th><th style = \"text-align: left;\">resistance</th></tr><tr class = \"subheader headerLastRow\"><th class = \"rowNumber\" style = \"font-weight: bold; text-align: right;\"></th><th title = \"String\" style = \"text-align: left;\">String</th><th title = \"String\" style = \"text-align: left;\">String</th><th title = \"Float64\" style = \"text-align: left;\">Float64</th><th title = \"Union{Missing, SubString{String}}\" style = \"text-align: left;\">SubStrin…?</th><th title = \"Union{Missing, String}\" style = \"text-align: left;\">String?</th><th title = \"Union{Missing, String}\" style = \"text-align: left;\">String?</th></tr></thead><tbody><tr><td class = \"rowNumber\" style = \"font-weight: bold; text-align: right;\">1</td><td style = \"text-align: left;\">CPE6</td><td style = \"text-align: left;\">CP</td><td style = \"text-align: right;\">11.7503</td><td style = \"text-align: left;\">MDS42</td><td style = \"text-align: left;\">evolved</td><td style = \"text-align: left;\">CP</td></tr><tr><td class = \"rowNumber\" style = \"font-weight: bold; text-align: right;\">2</td><td style = \"text-align: left;\">CPE2</td><td style = \"text-align: left;\">CP</td><td style = \"text-align: right;\">5.91574</td><td style = \"text-align: left;\">MDS42</td><td style = \"text-align: left;\">evolved</td><td style = \"text-align: left;\">CP</td></tr><tr><td class = \"rowNumber\" style = \"font-weight: bold; text-align: right;\">3</td><td style = \"text-align: left;\">CPE5</td><td style = \"text-align: left;\">CP</td><td style = \"text-align: right;\">2.85371</td><td style = \"text-align: left;\">MDS42</td><td style = \"text-align: left;\">evolved</td><td style = \"text-align: left;\">CP</td></tr><tr><td class = \"rowNumber\" style = \"font-weight: bold; text-align: right;\">4</td><td style = \"text-align: left;\">CPE3</td><td style = \"text-align: left;\">CP</td><td style = \"text-align: right;\">2.34945</td><td style = \"text-align: left;\">MDS42</td><td style = \"text-align: left;\">evolved</td><td style = \"text-align: left;\">CP</td></tr><tr><td class = \"rowNumber\" style = \"font-weight: bold; text-align: right;\">5</td><td style = \"text-align: left;\">RFPE4</td><td style = \"text-align: left;\">CP</td><td style = \"text-align: right;\">-0.16606</td><td style = \"text-align: left;\">MDS42</td><td style = \"text-align: left;\">evolved</td><td style = \"text-align: left;\">RFP</td></tr></tbody></table></div>"
      ],
      "text/latex": [
       "\\begin{tabular}{r|cccccc}\n",
       "\t& strain & stress & ic50 & background & type & resistance\\\\\n",
       "\t\\hline\n",
       "\t& String & String & Float64 & SubStrin…? & String? & String?\\\\\n",
       "\t\\hline\n",
       "\t1 & CPE6 & CP & 11.7503 & MDS42 & evolved & CP \\\\\n",
       "\t2 & CPE2 & CP & 5.91574 & MDS42 & evolved & CP \\\\\n",
       "\t3 & CPE5 & CP & 2.85371 & MDS42 & evolved & CP \\\\\n",
       "\t4 & CPE3 & CP & 2.34945 & MDS42 & evolved & CP \\\\\n",
       "\t5 & RFPE4 & CP & -0.16606 & MDS42 & evolved & RFP \\\\\n",
       "\\end{tabular}\n"
      ],
      "text/plain": [
       "\u001b[1m5×6 DataFrame\u001b[0m\n",
       "\u001b[1m Row \u001b[0m│\u001b[1m strain \u001b[0m\u001b[1m stress \u001b[0m\u001b[1m ic50     \u001b[0m\u001b[1m background  \u001b[0m\u001b[1m type    \u001b[0m\u001b[1m resistance \u001b[0m\n",
       "     │\u001b[90m String \u001b[0m\u001b[90m String \u001b[0m\u001b[90m Float64  \u001b[0m\u001b[90m SubString…? \u001b[0m\u001b[90m String? \u001b[0m\u001b[90m String?    \u001b[0m\n",
       "─────┼────────────────────────────────────────────────────────────\n",
       "   1 │ CPE6    CP      11.7503   MDS42        evolved  CP\n",
       "   2 │ CPE2    CP       5.91574  MDS42        evolved  CP\n",
       "   3 │ CPE5    CP       2.85371  MDS42        evolved  CP\n",
       "   4 │ CPE3    CP       2.34945  MDS42        evolved  CP\n",
       "   5 │ RFPE4   CP      -0.16606  MDS42        evolved  RFP"
      ]
     },
     "metadata": {},
     "output_type": "display_data"
    }
   ],
   "source": [
    "# Change names in resistance table\n",
    "df_res_tidy.strain = [replace(x, \"CCCP\" => \"CCCPE\") for x in df_res_tidy.strain]\n",
    "\n",
    "# Add metadata\n",
    "DF.leftjoin!(df_res_tidy, df_meta, on=:strain)\n",
    "\n",
    "first(df_res_tidy, 5)"
   ]
  },
  {
   "attachments": {},
   "cell_type": "markdown",
   "metadata": {},
   "source": [
    "This is the dataframe we need for our exploration. Let's save it into memory."
   ]
  },
  {
   "cell_type": "code",
   "execution_count": 9,
   "metadata": {},
   "outputs": [
    {
     "data": {
      "text/plain": [
       "\"/Users/mrazo/git/antibiotic_landscape/data/Maeda_2020/maeda_resistance_tidy.csv\""
      ]
     },
     "metadata": {},
     "output_type": "display_data"
    }
   ],
   "source": [
    "CSV.write(\n",
    "    \"$(git_root())/data/Maeda_2020/maeda_resistance_tidy.csv\", df_res_tidy\n",
    ")"
   ]
  },
  {
   "attachments": {},
   "cell_type": "markdown",
   "metadata": {},
   "source": [
    "## Microarray gene expression data"
   ]
  },
  {
   "attachments": {},
   "cell_type": "markdown",
   "metadata": {},
   "source": [
    "The other dataset provided is the gene expression data of the samples. We\n",
    "already used some of the metadata information from the\n",
    "[NCBI](https://www.ncbi.nlm.nih.gov/geo/query/acc.cgi?acc=GSE137348) entry. Now, \n",
    "we will extract the actual microarray measurements into a tidy dataframe. The\n",
    "gene expression data is contained between two lines `!series_matrix_table_begin`\n",
    "and `!series_matrix_table_end`. Let's extract these lines."
   ]
  },
  {
   "cell_type": "code",
   "execution_count": 48,
   "metadata": {},
   "outputs": [
    {
     "data": {
      "text/html": [
       "<div><div style = \"float: left;\"><span>5×197 DataFrame</span></div><div style = \"float: right;\"><span style = \"font-style: italic;\">97 columns omitted</span></div><div style = \"clear: both;\"></div></div><div class = \"data-frame\" style = \"overflow-x: scroll;\"><table class = \"data-frame\" style = \"margin-bottom: 6px;\"><thead><tr class = \"header\"><th class = \"rowNumber\" style = \"font-weight: bold; text-align: right;\">Row</th><th style = \"text-align: left;\">ID_REF</th><th style = \"text-align: left;\">GSM4076302</th><th style = \"text-align: left;\">GSM4076304</th><th style = \"text-align: left;\">GSM4076306</th><th style = \"text-align: left;\">GSM4076308</th><th style = \"text-align: left;\">GSM4076310</th><th style = \"text-align: left;\">GSM4076311</th><th style = \"text-align: left;\">GSM4076313</th><th style = \"text-align: left;\">GSM4076315</th><th style = \"text-align: left;\">GSM4076317</th><th style = \"text-align: left;\">GSM4076319</th><th style = \"text-align: left;\">GSM4076321</th><th style = \"text-align: left;\">GSM4076322</th><th style = \"text-align: left;\">GSM4076324</th><th style = \"text-align: left;\">GSM4076325</th><th style = \"text-align: left;\">GSM4076326</th><th style = \"text-align: left;\">GSM4076327</th><th style = \"text-align: left;\">GSM4076329</th><th style = \"text-align: left;\">GSM4076330</th><th style = \"text-align: left;\">GSM4076332</th><th style = \"text-align: left;\">GSM4076333</th><th style = \"text-align: left;\">GSM4076335</th><th style = \"text-align: left;\">GSM4076337</th><th style = \"text-align: left;\">GSM4076338</th><th style = \"text-align: left;\">GSM4076340</th><th style = \"text-align: left;\">GSM4076342</th><th style = \"text-align: left;\">GSM4076344</th><th style = \"text-align: left;\">GSM4076346</th><th style = \"text-align: left;\">GSM4076347</th><th style = \"text-align: left;\">GSM4076349</th><th style = \"text-align: left;\">GSM4076351</th><th style = \"text-align: left;\">GSM4076352</th><th style = \"text-align: left;\">GSM4076354</th><th style = \"text-align: left;\">GSM4076356</th><th style = \"text-align: left;\">GSM4076357</th><th style = \"text-align: left;\">GSM4076359</th><th style = \"text-align: left;\">GSM4076361</th><th style = \"text-align: left;\">GSM4076363</th><th style = \"text-align: left;\">GSM4076364</th><th style = \"text-align: left;\">GSM4076366</th><th style = \"text-align: left;\">GSM4076367</th><th style = \"text-align: left;\">GSM4076369</th><th style = \"text-align: left;\">GSM4076371</th><th style = \"text-align: left;\">GSM4076373</th><th style = \"text-align: left;\">GSM4076375</th><th style = \"text-align: left;\">GSM4076377</th><th style = \"text-align: left;\">GSM4076379</th><th style = \"text-align: left;\">GSM4076381</th><th style = \"text-align: left;\">GSM4076383</th><th style = \"text-align: left;\">GSM4076385</th><th style = \"text-align: left;\">GSM4076387</th><th style = \"text-align: left;\">GSM4076388</th><th style = \"text-align: left;\">GSM4076390</th><th style = \"text-align: left;\">GSM4076392</th><th style = \"text-align: left;\">GSM4076394</th><th style = \"text-align: left;\">GSM4076396</th><th style = \"text-align: left;\">GSM4076398</th><th style = \"text-align: left;\">GSM4076400</th><th style = \"text-align: left;\">GSM4076402</th><th style = \"text-align: left;\">GSM4076404</th><th style = \"text-align: left;\">GSM4076405</th><th style = \"text-align: left;\">GSM4076407</th><th style = \"text-align: left;\">GSM4076409</th><th style = \"text-align: left;\">GSM4076411</th><th style = \"text-align: left;\">GSM4076412</th><th style = \"text-align: left;\">GSM4076414</th><th style = \"text-align: left;\">GSM4076416</th><th style = \"text-align: left;\">GSM4076418</th><th style = \"text-align: left;\">GSM4076419</th><th style = \"text-align: left;\">GSM4076421</th><th style = \"text-align: left;\">GSM4076423</th><th style = \"text-align: left;\">GSM4076424</th><th style = \"text-align: left;\">GSM4076426</th><th style = \"text-align: left;\">GSM4076428</th><th style = \"text-align: left;\">GSM4076430</th><th style = \"text-align: left;\">GSM4076432</th><th style = \"text-align: left;\">GSM4076434</th><th style = \"text-align: left;\">GSM4076436</th><th style = \"text-align: left;\">GSM4076438</th><th style = \"text-align: left;\">GSM4076439</th><th style = \"text-align: left;\">GSM4076441</th><th style = \"text-align: left;\">GSM4076443</th><th style = \"text-align: left;\">GSM4076445</th><th style = \"text-align: left;\">GSM4076447</th><th style = \"text-align: left;\">GSM4076448</th><th style = \"text-align: left;\">GSM4076450</th><th style = \"text-align: left;\">GSM4076451</th><th style = \"text-align: left;\">GSM4076453</th><th style = \"text-align: left;\">GSM4076455</th><th style = \"text-align: left;\">GSM4076456</th><th style = \"text-align: left;\">GSM4076458</th><th style = \"text-align: left;\">GSM4076460</th><th style = \"text-align: left;\">GSM4076461</th><th style = \"text-align: left;\">GSM4076462</th><th style = \"text-align: left;\">GSM4076464</th><th style = \"text-align: left;\">GSM4076465</th><th style = \"text-align: left;\">GSM4076467</th><th style = \"text-align: left;\">GSM4076469</th><th style = \"text-align: left;\">GSM4076471</th><th style = \"text-align: left;\">GSM4076472</th><th style = \"text-align: right;\">&ctdot;</th></tr><tr class = \"subheader headerLastRow\"><th class = \"rowNumber\" style = \"font-weight: bold; text-align: right;\"></th><th title = \"InlineStrings.String15\" style = \"text-align: left;\">String15</th><th title = \"Float64\" style = \"text-align: left;\">Float64</th><th title = \"Float64\" style = \"text-align: left;\">Float64</th><th title = \"Float64\" style = \"text-align: left;\">Float64</th><th title = \"Float64\" style = \"text-align: left;\">Float64</th><th title = \"Float64\" style = \"text-align: left;\">Float64</th><th title = \"Float64\" style = \"text-align: left;\">Float64</th><th title = \"Float64\" style = \"text-align: left;\">Float64</th><th title = \"Float64\" style = \"text-align: left;\">Float64</th><th title = \"Float64\" style = \"text-align: left;\">Float64</th><th title = \"Float64\" style = \"text-align: left;\">Float64</th><th title = \"Float64\" style = \"text-align: left;\">Float64</th><th title = \"Float64\" style = \"text-align: left;\">Float64</th><th title = \"Float64\" style = \"text-align: left;\">Float64</th><th title = \"Float64\" style = \"text-align: left;\">Float64</th><th title = \"Float64\" style = \"text-align: left;\">Float64</th><th title = \"Float64\" style = \"text-align: left;\">Float64</th><th title = \"Float64\" style = \"text-align: left;\">Float64</th><th title = \"Float64\" style = \"text-align: left;\">Float64</th><th title = \"Float64\" style = \"text-align: left;\">Float64</th><th title = \"Float64\" style = \"text-align: left;\">Float64</th><th title = \"Float64\" style = \"text-align: left;\">Float64</th><th title = \"Float64\" style = \"text-align: left;\">Float64</th><th title = \"Float64\" style = \"text-align: left;\">Float64</th><th title = \"Float64\" style = \"text-align: left;\">Float64</th><th title = \"Float64\" style = \"text-align: left;\">Float64</th><th title = \"Float64\" style = \"text-align: left;\">Float64</th><th title = \"Float64\" style = \"text-align: left;\">Float64</th><th title = \"Float64\" style = \"text-align: left;\">Float64</th><th title = \"Float64\" style = \"text-align: left;\">Float64</th><th title = \"Float64\" style = \"text-align: left;\">Float64</th><th title = \"Float64\" style = \"text-align: left;\">Float64</th><th title = \"Float64\" style = \"text-align: left;\">Float64</th><th title = \"Float64\" style = \"text-align: left;\">Float64</th><th title = \"Float64\" style = \"text-align: left;\">Float64</th><th title = \"Float64\" style = \"text-align: left;\">Float64</th><th title = \"Float64\" style = \"text-align: left;\">Float64</th><th title = \"Float64\" style = \"text-align: left;\">Float64</th><th title = \"Float64\" style = \"text-align: left;\">Float64</th><th title = \"Float64\" style = \"text-align: left;\">Float64</th><th title = \"Float64\" style = \"text-align: left;\">Float64</th><th title = \"Float64\" style = \"text-align: left;\">Float64</th><th title = \"Float64\" style = \"text-align: left;\">Float64</th><th title = \"Float64\" style = \"text-align: left;\">Float64</th><th title = \"Float64\" style = \"text-align: left;\">Float64</th><th title = \"Float64\" style = \"text-align: left;\">Float64</th><th title = \"Float64\" style = \"text-align: left;\">Float64</th><th title = \"Float64\" style = \"text-align: left;\">Float64</th><th title = \"Float64\" style = \"text-align: left;\">Float64</th><th title = \"Float64\" style = \"text-align: left;\">Float64</th><th title = \"Float64\" style = \"text-align: left;\">Float64</th><th title = \"Float64\" style = \"text-align: left;\">Float64</th><th title = \"Float64\" style = \"text-align: left;\">Float64</th><th title = \"Float64\" style = \"text-align: left;\">Float64</th><th title = \"Float64\" style = \"text-align: left;\">Float64</th><th title = \"Float64\" style = \"text-align: left;\">Float64</th><th title = \"Float64\" style = \"text-align: left;\">Float64</th><th title = \"Float64\" style = \"text-align: left;\">Float64</th><th title = \"Float64\" style = \"text-align: left;\">Float64</th><th title = \"Float64\" style = \"text-align: left;\">Float64</th><th title = \"Float64\" style = \"text-align: left;\">Float64</th><th title = \"Float64\" style = \"text-align: left;\">Float64</th><th title = \"Float64\" style = \"text-align: left;\">Float64</th><th title = \"Float64\" style = \"text-align: left;\">Float64</th><th title = \"Float64\" style = \"text-align: left;\">Float64</th><th title = \"Float64\" style = \"text-align: left;\">Float64</th><th title = \"Float64\" style = \"text-align: left;\">Float64</th><th title = \"Float64\" style = \"text-align: left;\">Float64</th><th title = \"Float64\" style = \"text-align: left;\">Float64</th><th title = \"Float64\" style = \"text-align: left;\">Float64</th><th title = \"Float64\" style = \"text-align: left;\">Float64</th><th title = \"Float64\" style = \"text-align: left;\">Float64</th><th title = \"Float64\" style = \"text-align: left;\">Float64</th><th title = \"Float64\" style = \"text-align: left;\">Float64</th><th title = \"Float64\" style = \"text-align: left;\">Float64</th><th title = \"Float64\" style = \"text-align: left;\">Float64</th><th title = \"Float64\" style = \"text-align: left;\">Float64</th><th title = \"Float64\" style = \"text-align: left;\">Float64</th><th title = \"Float64\" style = \"text-align: left;\">Float64</th><th title = \"Float64\" style = \"text-align: left;\">Float64</th><th title = \"Float64\" style = \"text-align: left;\">Float64</th><th title = \"Float64\" style = \"text-align: left;\">Float64</th><th title = \"Float64\" style = \"text-align: left;\">Float64</th><th title = \"Float64\" style = \"text-align: left;\">Float64</th><th title = \"Float64\" style = \"text-align: left;\">Float64</th><th title = \"Float64\" style = \"text-align: left;\">Float64</th><th title = \"Float64\" style = \"text-align: left;\">Float64</th><th title = \"Float64\" style = \"text-align: left;\">Float64</th><th title = \"Float64\" style = \"text-align: left;\">Float64</th><th title = \"Float64\" style = \"text-align: left;\">Float64</th><th title = \"Float64\" style = \"text-align: left;\">Float64</th><th title = \"Float64\" style = \"text-align: left;\">Float64</th><th title = \"Float64\" style = \"text-align: left;\">Float64</th><th title = \"Float64\" style = \"text-align: left;\">Float64</th><th title = \"Float64\" style = \"text-align: left;\">Float64</th><th title = \"Float64\" style = \"text-align: left;\">Float64</th><th title = \"Float64\" style = \"text-align: left;\">Float64</th><th title = \"Float64\" style = \"text-align: left;\">Float64</th><th title = \"Float64\" style = \"text-align: left;\">Float64</th><th title = \"Float64\" style = \"text-align: left;\">Float64</th><th title = \"Float64\" style = \"text-align: right;\">&ctdot;</th></tr></thead><tbody><tr><td class = \"rowNumber\" style = \"font-weight: bold; text-align: right;\">1</td><td style = \"text-align: left;\">aaeA</td><td style = \"text-align: right;\">1.76408</td><td style = \"text-align: right;\">1.70065</td><td style = \"text-align: right;\">1.60045</td><td style = \"text-align: right;\">1.70884</td><td style = \"text-align: right;\">1.80557</td><td style = \"text-align: right;\">1.76934</td><td style = \"text-align: right;\">1.68652</td><td style = \"text-align: right;\">1.78633</td><td style = \"text-align: right;\">1.74273</td><td style = \"text-align: right;\">1.68652</td><td style = \"text-align: right;\">1.66857</td><td style = \"text-align: right;\">1.68051</td><td style = \"text-align: right;\">1.69157</td><td style = \"text-align: right;\">1.67051</td><td style = \"text-align: right;\">1.6508</td><td style = \"text-align: right;\">1.60772</td><td style = \"text-align: right;\">1.66556</td><td style = \"text-align: right;\">1.67353</td><td style = \"text-align: right;\">1.64108</td><td style = \"text-align: right;\">1.71411</td><td style = \"text-align: right;\">1.61388</td><td style = \"text-align: right;\">1.65623</td><td style = \"text-align: right;\">1.75093</td><td style = \"text-align: right;\">1.68957</td><td style = \"text-align: right;\">1.61274</td><td style = \"text-align: right;\">1.75192</td><td style = \"text-align: right;\">1.69056</td><td style = \"text-align: right;\">1.62318</td><td style = \"text-align: right;\">1.73373</td><td style = \"text-align: right;\">1.84361</td><td style = \"text-align: right;\">1.90016</td><td style = \"text-align: right;\">1.74683</td><td style = \"text-align: right;\">2.26578</td><td style = \"text-align: right;\">1.8827</td><td style = \"text-align: right;\">1.7404</td><td style = \"text-align: right;\">1.9158</td><td style = \"text-align: right;\">1.73091</td><td style = \"text-align: right;\">1.68957</td><td style = \"text-align: right;\">1.7447</td><td style = \"text-align: right;\">1.66247</td><td style = \"text-align: right;\">1.73276</td><td style = \"text-align: right;\">1.67353</td><td style = \"text-align: right;\">1.71891</td><td style = \"text-align: right;\">1.66247</td><td style = \"text-align: right;\">1.6571</td><td style = \"text-align: right;\">1.75807</td><td style = \"text-align: right;\">1.74993</td><td style = \"text-align: right;\">1.6571</td><td style = \"text-align: right;\">1.76408</td><td style = \"text-align: right;\">1.84252</td><td style = \"text-align: right;\">1.77974</td><td style = \"text-align: right;\">1.69868</td><td style = \"text-align: right;\">1.83166</td><td style = \"text-align: right;\">1.77881</td><td style = \"text-align: right;\">1.68542</td><td style = \"text-align: right;\">1.72095</td><td style = \"text-align: right;\">1.8131</td><td style = \"text-align: right;\">1.80962</td><td style = \"text-align: right;\">1.84133</td><td style = \"text-align: right;\">1.71411</td><td style = \"text-align: right;\">1.68051</td><td style = \"text-align: right;\">1.65519</td><td style = \"text-align: right;\">1.71209</td><td style = \"text-align: right;\">1.66155</td><td style = \"text-align: right;\">1.70169</td><td style = \"text-align: right;\">1.69157</td><td style = \"text-align: right;\">1.73598</td><td style = \"text-align: right;\">1.7703</td><td style = \"text-align: right;\">1.66556</td><td style = \"text-align: right;\">1.6571</td><td style = \"text-align: right;\">1.77142</td><td style = \"text-align: right;\">1.70065</td><td style = \"text-align: right;\">1.64544</td><td style = \"text-align: right;\">1.70591</td><td style = \"text-align: right;\">1.67151</td><td style = \"text-align: right;\">1.64544</td><td style = \"text-align: right;\">1.85249</td><td style = \"text-align: right;\">1.73494</td><td style = \"text-align: right;\">1.73373</td><td style = \"text-align: right;\">1.77142</td><td style = \"text-align: right;\">1.76619</td><td style = \"text-align: right;\">1.66857</td><td style = \"text-align: right;\">1.76619</td><td style = \"text-align: right;\">1.67051</td><td style = \"text-align: right;\">1.8232</td><td style = \"text-align: right;\">1.85359</td><td style = \"text-align: right;\">1.7809</td><td style = \"text-align: right;\">1.84012</td><td style = \"text-align: right;\">1.69762</td><td style = \"text-align: right;\">1.69255</td><td style = \"text-align: right;\">1.70779</td><td style = \"text-align: right;\">1.71891</td><td style = \"text-align: right;\">1.64233</td><td style = \"text-align: right;\">1.74893</td><td style = \"text-align: right;\">1.65182</td><td style = \"text-align: right;\">1.76502</td><td style = \"text-align: right;\">1.64108</td><td style = \"text-align: right;\">1.85027</td><td style = \"text-align: right;\">1.67051</td><td style = \"text-align: right;\">&ctdot;</td></tr><tr><td class = \"rowNumber\" style = \"font-weight: bold; text-align: right;\">2</td><td style = \"text-align: left;\">aaeB</td><td style = \"text-align: right;\">1.66349</td><td style = \"text-align: right;\">1.59219</td><td style = \"text-align: right;\">1.71315</td><td style = \"text-align: right;\">1.64108</td><td style = \"text-align: right;\">1.68442</td><td style = \"text-align: right;\">1.67652</td><td style = \"text-align: right;\">1.49794</td><td style = \"text-align: right;\">1.64652</td><td style = \"text-align: right;\">1.60868</td><td style = \"text-align: right;\">1.65182</td><td style = \"text-align: right;\">1.6284</td><td style = \"text-align: right;\">1.72201</td><td style = \"text-align: right;\">1.62214</td><td style = \"text-align: right;\">1.55283</td><td style = \"text-align: right;\">1.63362</td><td style = \"text-align: right;\">1.59416</td><td style = \"text-align: right;\">1.60664</td><td style = \"text-align: right;\">1.50898</td><td style = \"text-align: right;\">1.53089</td><td style = \"text-align: right;\">1.56255</td><td style = \"text-align: right;\">1.6284</td><td style = \"text-align: right;\">1.68765</td><td style = \"text-align: right;\">1.51197</td><td style = \"text-align: right;\">1.60045</td><td style = \"text-align: right;\">1.47288</td><td style = \"text-align: right;\">1.55283</td><td style = \"text-align: right;\">1.60358</td><td style = \"text-align: right;\">1.39121</td><td style = \"text-align: right;\">1.70591</td><td style = \"text-align: right;\">1.66955</td><td style = \"text-align: right;\">1.73091</td><td style = \"text-align: right;\">1.60254</td><td style = \"text-align: right;\">2.39544</td><td style = \"text-align: right;\">1.89922</td><td style = \"text-align: right;\">1.73833</td><td style = \"text-align: right;\">1.74273</td><td style = \"text-align: right;\">1.58908</td><td style = \"text-align: right;\">1.5498</td><td style = \"text-align: right;\">1.60045</td><td style = \"text-align: right;\">1.58306</td><td style = \"text-align: right;\">1.66857</td><td style = \"text-align: right;\">1.64544</td><td style = \"text-align: right;\">1.57671</td><td style = \"text-align: right;\">1.57573</td><td style = \"text-align: right;\">1.59628</td><td style = \"text-align: right;\">1.64762</td><td style = \"text-align: right;\">1.64332</td><td style = \"text-align: right;\">1.55479</td><td style = \"text-align: right;\">1.66155</td><td style = \"text-align: right;\">1.67652</td><td style = \"text-align: right;\">1.65287</td><td style = \"text-align: right;\">1.63362</td><td style = \"text-align: right;\">1.67955</td><td style = \"text-align: right;\">1.72095</td><td style = \"text-align: right;\">1.65182</td><td style = \"text-align: right;\">1.64869</td><td style = \"text-align: right;\">1.69966</td><td style = \"text-align: right;\">1.59937</td><td style = \"text-align: right;\">1.69157</td><td style = \"text-align: right;\">1.63148</td><td style = \"text-align: right;\">1.6284</td><td style = \"text-align: right;\">1.64977</td><td style = \"text-align: right;\">1.65831</td><td style = \"text-align: right;\">1.55775</td><td style = \"text-align: right;\">1.4937</td><td style = \"text-align: right;\">1.5428</td><td style = \"text-align: right;\">1.53477</td><td style = \"text-align: right;\">1.61487</td><td style = \"text-align: right;\">1.585</td><td style = \"text-align: right;\">1.58399</td><td style = \"text-align: right;\">1.64449</td><td style = \"text-align: right;\">1.57671</td><td style = \"text-align: right;\">1.40698</td><td style = \"text-align: right;\">1.60554</td><td style = \"text-align: right;\">1.63566</td><td style = \"text-align: right;\">1.57573</td><td style = \"text-align: right;\">1.59726</td><td style = \"text-align: right;\">1.58088</td><td style = \"text-align: right;\">1.61274</td><td style = \"text-align: right;\">1.59121</td><td style = \"text-align: right;\">1.59121</td><td style = \"text-align: right;\">1.62637</td><td style = \"text-align: right;\">1.49588</td><td style = \"text-align: right;\">1.60772</td><td style = \"text-align: right;\">1.72786</td><td style = \"text-align: right;\">1.71609</td><td style = \"text-align: right;\">1.71209</td><td style = \"text-align: right;\">1.74993</td><td style = \"text-align: right;\">1.69347</td><td style = \"text-align: right;\">1.69762</td><td style = \"text-align: right;\">1.63898</td><td style = \"text-align: right;\">1.6284</td><td style = \"text-align: right;\">1.47914</td><td style = \"text-align: right;\">1.69347</td><td style = \"text-align: right;\">1.59219</td><td style = \"text-align: right;\">1.59937</td><td style = \"text-align: right;\">1.56874</td><td style = \"text-align: right;\">1.90338</td><td style = \"text-align: right;\">1.62735</td><td style = \"text-align: right;\">&ctdot;</td></tr><tr><td class = \"rowNumber\" style = \"font-weight: bold; text-align: right;\">3</td><td style = \"text-align: left;\">aaeR</td><td style = \"text-align: right;\">2.60276</td><td style = \"text-align: right;\">2.55725</td><td style = \"text-align: right;\">2.53946</td><td style = \"text-align: right;\">2.58301</td><td style = \"text-align: right;\">2.48139</td><td style = \"text-align: right;\">2.51446</td><td style = \"text-align: right;\">2.48059</td><td style = \"text-align: right;\">2.65311</td><td style = \"text-align: right;\">2.59458</td><td style = \"text-align: right;\">2.55442</td><td style = \"text-align: right;\">2.60676</td><td style = \"text-align: right;\">2.59136</td><td style = \"text-align: right;\">2.60746</td><td style = \"text-align: right;\">2.56724</td><td style = \"text-align: right;\">2.61731</td><td style = \"text-align: right;\">2.56523</td><td style = \"text-align: right;\">2.54375</td><td style = \"text-align: right;\">2.56183</td><td style = \"text-align: right;\">2.50739</td><td style = \"text-align: right;\">2.5679</td><td style = \"text-align: right;\">2.55014</td><td style = \"text-align: right;\">2.57186</td><td style = \"text-align: right;\">2.56451</td><td style = \"text-align: right;\">2.57381</td><td style = \"text-align: right;\">2.59398</td><td style = \"text-align: right;\">2.5445</td><td style = \"text-align: right;\">2.58242</td><td style = \"text-align: right;\">2.57711</td><td style = \"text-align: right;\">2.57652</td><td style = \"text-align: right;\">2.47458</td><td style = \"text-align: right;\">2.57381</td><td style = \"text-align: right;\">2.53152</td><td style = \"text-align: right;\">2.54948</td><td style = \"text-align: right;\">2.59074</td><td style = \"text-align: right;\">2.53728</td><td style = \"text-align: right;\">2.51194</td><td style = \"text-align: right;\">2.60147</td><td style = \"text-align: right;\">2.60087</td><td style = \"text-align: right;\">2.58037</td><td style = \"text-align: right;\">2.6235</td><td style = \"text-align: right;\">2.5205</td><td style = \"text-align: right;\">2.60676</td><td style = \"text-align: right;\">2.62966</td><td style = \"text-align: right;\">2.6205</td><td style = \"text-align: right;\">2.48279</td><td style = \"text-align: right;\">2.51667</td><td style = \"text-align: right;\">2.49251</td><td style = \"text-align: right;\">2.52345</td><td style = \"text-align: right;\">2.68619</td><td style = \"text-align: right;\">2.72275</td><td style = \"text-align: right;\">2.66703</td><td style = \"text-align: right;\">2.61474</td><td style = \"text-align: right;\">2.60276</td><td style = \"text-align: right;\">2.58675</td><td style = \"text-align: right;\">2.61049</td><td style = \"text-align: right;\">2.58242</td><td style = \"text-align: right;\">2.53584</td><td style = \"text-align: right;\">2.50814</td><td style = \"text-align: right;\">2.50598</td><td style = \"text-align: right;\">2.46148</td><td style = \"text-align: right;\">2.59265</td><td style = \"text-align: right;\">2.54233</td><td style = \"text-align: right;\">2.59638</td><td style = \"text-align: right;\">2.53946</td><td style = \"text-align: right;\">2.6389</td><td style = \"text-align: right;\">2.56593</td><td style = \"text-align: right;\">2.50892</td><td style = \"text-align: right;\">2.60473</td><td style = \"text-align: right;\">2.61985</td><td style = \"text-align: right;\">2.61174</td><td style = \"text-align: right;\">2.61919</td><td style = \"text-align: right;\">2.60087</td><td style = \"text-align: right;\">2.57247</td><td style = \"text-align: right;\">2.59898</td><td style = \"text-align: right;\">2.57117</td><td style = \"text-align: right;\">2.6111</td><td style = \"text-align: right;\">2.67422</td><td style = \"text-align: right;\">2.6098</td><td style = \"text-align: right;\">2.59265</td><td style = \"text-align: right;\">2.62966</td><td style = \"text-align: right;\">2.58177</td><td style = \"text-align: right;\">2.55791</td><td style = \"text-align: right;\">2.57186</td><td style = \"text-align: right;\">2.57836</td><td style = \"text-align: right;\">2.68731</td><td style = \"text-align: right;\">2.7004</td><td style = \"text-align: right;\">2.63587</td><td style = \"text-align: right;\">2.69406</td><td style = \"text-align: right;\">2.629</td><td style = \"text-align: right;\">2.60864</td><td style = \"text-align: right;\">2.61474</td><td style = \"text-align: right;\">2.55296</td><td style = \"text-align: right;\">2.57905</td><td style = \"text-align: right;\">2.50739</td><td style = \"text-align: right;\">2.58242</td><td style = \"text-align: right;\">2.6334</td><td style = \"text-align: right;\">2.52787</td><td style = \"text-align: right;\">2.6334</td><td style = \"text-align: right;\">2.54948</td><td style = \"text-align: right;\">&ctdot;</td></tr><tr><td class = \"rowNumber\" style = \"font-weight: bold; text-align: right;\">4</td><td style = \"text-align: left;\">aaeX</td><td style = \"text-align: right;\">2.1609</td><td style = \"text-align: right;\">2.1609</td><td style = \"text-align: right;\">2.12159</td><td style = \"text-align: right;\">2.20628</td><td style = \"text-align: right;\">2.20202</td><td style = \"text-align: right;\">2.18449</td><td style = \"text-align: right;\">2.141</td><td style = \"text-align: right;\">2.31935</td><td style = \"text-align: right;\">2.14557</td><td style = \"text-align: right;\">2.15739</td><td style = \"text-align: right;\">2.14473</td><td style = \"text-align: right;\">2.09272</td><td style = \"text-align: right;\">2.16</td><td style = \"text-align: right;\">2.10847</td><td style = \"text-align: right;\">2.11977</td><td style = \"text-align: right;\">2.1225</td><td style = \"text-align: right;\">2.21526</td><td style = \"text-align: right;\">2.20447</td><td style = \"text-align: right;\">2.14376</td><td style = \"text-align: right;\">2.32095</td><td style = \"text-align: right;\">2.07402</td><td style = \"text-align: right;\">2.05606</td><td style = \"text-align: right;\">2.08072</td><td style = \"text-align: right;\">2.10759</td><td style = \"text-align: right;\">2.11318</td><td style = \"text-align: right;\">2.05418</td><td style = \"text-align: right;\">2.0918</td><td style = \"text-align: right;\">2.07204</td><td style = \"text-align: right;\">2.39544</td><td style = \"text-align: right;\">2.17747</td><td style = \"text-align: right;\">2.33267</td><td style = \"text-align: right;\">2.27789</td><td style = \"text-align: right;\">2.97973</td><td style = \"text-align: right;\">2.4677</td><td style = \"text-align: right;\">2.35569</td><td style = \"text-align: right;\">2.28821</td><td style = \"text-align: right;\">2.20202</td><td style = \"text-align: right;\">2.21118</td><td style = \"text-align: right;\">2.22185</td><td style = \"text-align: right;\">2.30935</td><td style = \"text-align: right;\">2.28333</td><td style = \"text-align: right;\">2.06356</td><td style = \"text-align: right;\">2.1339</td><td style = \"text-align: right;\">2.1565</td><td style = \"text-align: right;\">2.14724</td><td style = \"text-align: right;\">2.22572</td><td style = \"text-align: right;\">2.12641</td><td style = \"text-align: right;\">2.17747</td><td style = \"text-align: right;\">2.39788</td><td style = \"text-align: right;\">2.38906</td><td style = \"text-align: right;\">2.30033</td><td style = \"text-align: right;\">2.31171</td><td style = \"text-align: right;\">2.3815</td><td style = \"text-align: right;\">2.31426</td><td style = \"text-align: right;\">2.36214</td><td style = \"text-align: right;\">2.30288</td><td style = \"text-align: right;\">2.07773</td><td style = \"text-align: right;\">2.12071</td><td style = \"text-align: right;\">2.15908</td><td style = \"text-align: right;\">1.9699</td><td style = \"text-align: right;\">2.26884</td><td style = \"text-align: right;\">2.16428</td><td style = \"text-align: right;\">2.22812</td><td style = \"text-align: right;\">2.21774</td><td style = \"text-align: right;\">2.33839</td><td style = \"text-align: right;\">2.19959</td><td style = \"text-align: right;\">2.23735</td><td style = \"text-align: right;\">2.36129</td><td style = \"text-align: right;\">2.22986</td><td style = \"text-align: right;\">2.20279</td><td style = \"text-align: right;\">2.25674</td><td style = \"text-align: right;\">2.25674</td><td style = \"text-align: right;\">2.26578</td><td style = \"text-align: right;\">2.25913</td><td style = \"text-align: right;\">2.25832</td><td style = \"text-align: right;\">2.32018</td><td style = \"text-align: right;\">2.34108</td><td style = \"text-align: right;\">2.21526</td><td style = \"text-align: right;\">2.15908</td><td style = \"text-align: right;\">2.14191</td><td style = \"text-align: right;\">2.13202</td><td style = \"text-align: right;\">2.29781</td><td style = \"text-align: right;\">2.20539</td><td style = \"text-align: right;\">2.09357</td><td style = \"text-align: right;\">2.36296</td><td style = \"text-align: right;\">2.34258</td><td style = \"text-align: right;\">2.29542</td><td style = \"text-align: right;\">2.30522</td><td style = \"text-align: right;\">2.13836</td><td style = \"text-align: right;\">2.12734</td><td style = \"text-align: right;\">2.15739</td><td style = \"text-align: right;\">2.11136</td><td style = \"text-align: right;\">2.2437</td><td style = \"text-align: right;\">2.29455</td><td style = \"text-align: right;\">2.28098</td><td style = \"text-align: right;\">2.30522</td><td style = \"text-align: right;\">2.16</td><td style = \"text-align: right;\">2.39788</td><td style = \"text-align: right;\">2.17009</td><td style = \"text-align: right;\">&ctdot;</td></tr><tr><td class = \"rowNumber\" style = \"font-weight: bold; text-align: right;\">5</td><td style = \"text-align: left;\">aas</td><td style = \"text-align: right;\">2.68559</td><td style = \"text-align: right;\">2.53378</td><td style = \"text-align: right;\">2.4334</td><td style = \"text-align: right;\">2.52119</td><td style = \"text-align: right;\">2.38735</td><td style = \"text-align: right;\">2.53946</td><td style = \"text-align: right;\">2.47284</td><td style = \"text-align: right;\">2.59898</td><td style = \"text-align: right;\">2.52273</td><td style = \"text-align: right;\">2.48059</td><td style = \"text-align: right;\">2.51048</td><td style = \"text-align: right;\">2.55442</td><td style = \"text-align: right;\">2.52787</td><td style = \"text-align: right;\">2.48797</td><td style = \"text-align: right;\">2.54594</td><td style = \"text-align: right;\">2.57186</td><td style = \"text-align: right;\">2.49409</td><td style = \"text-align: right;\">2.60147</td><td style = \"text-align: right;\">2.40018</td><td style = \"text-align: right;\">2.55152</td><td style = \"text-align: right;\">2.58483</td><td style = \"text-align: right;\">2.45774</td><td style = \"text-align: right;\">2.44106</td><td style = \"text-align: right;\">2.55507</td><td style = \"text-align: right;\">2.57381</td><td style = \"text-align: right;\">2.51446</td><td style = \"text-align: right;\">2.42586</td><td style = \"text-align: right;\">2.48139</td><td style = \"text-align: right;\">2.49184</td><td style = \"text-align: right;\">2.50073</td><td style = \"text-align: right;\">2.38653</td><td style = \"text-align: right;\">2.53005</td><td style = \"text-align: right;\">2.28738</td><td style = \"text-align: right;\">2.50516</td><td style = \"text-align: right;\">2.59074</td><td style = \"text-align: right;\">2.34497</td><td style = \"text-align: right;\">2.57516</td><td style = \"text-align: right;\">2.56979</td><td style = \"text-align: right;\">2.54867</td><td style = \"text-align: right;\">2.52857</td><td style = \"text-align: right;\">2.5679</td><td style = \"text-align: right;\">2.48504</td><td style = \"text-align: right;\">2.49935</td><td style = \"text-align: right;\">2.56724</td><td style = \"text-align: right;\">2.46382</td><td style = \"text-align: right;\">2.49108</td><td style = \"text-align: right;\">2.41785</td><td style = \"text-align: right;\">2.39544</td><td style = \"text-align: right;\">2.55224</td><td style = \"text-align: right;\">2.56659</td><td style = \"text-align: right;\">2.54375</td><td style = \"text-align: right;\">2.44176</td><td style = \"text-align: right;\">2.64663</td><td style = \"text-align: right;\">2.42658</td><td style = \"text-align: right;\">2.53802</td><td style = \"text-align: right;\">2.47365</td><td style = \"text-align: right;\">2.42732</td><td style = \"text-align: right;\">2.41621</td><td style = \"text-align: right;\">2.35643</td><td style = \"text-align: right;\">2.41218</td><td style = \"text-align: right;\">2.50669</td><td style = \"text-align: right;\">2.4081</td><td style = \"text-align: right;\">2.52345</td><td style = \"text-align: right;\">2.55791</td><td style = \"text-align: right;\">2.52196</td><td style = \"text-align: right;\">2.47148</td><td style = \"text-align: right;\">2.59007</td><td style = \"text-align: right;\">2.53152</td><td style = \"text-align: right;\">2.5679</td><td style = \"text-align: right;\">2.5474</td><td style = \"text-align: right;\">2.46697</td><td style = \"text-align: right;\">2.55442</td><td style = \"text-align: right;\">2.51974</td><td style = \"text-align: right;\">2.56979</td><td style = \"text-align: right;\">2.5977</td><td style = \"text-align: right;\">2.57445</td><td style = \"text-align: right;\">2.56523</td><td style = \"text-align: right;\">2.56381</td><td style = \"text-align: right;\">2.55296</td><td style = \"text-align: right;\">2.53084</td><td style = \"text-align: right;\">2.44692</td><td style = \"text-align: right;\">2.57445</td><td style = \"text-align: right;\">2.51446</td><td style = \"text-align: right;\">2.56117</td><td style = \"text-align: right;\">2.48952</td><td style = \"text-align: right;\">2.53005</td><td style = \"text-align: right;\">2.46458</td><td style = \"text-align: right;\">2.59398</td><td style = \"text-align: right;\">2.56979</td><td style = \"text-align: right;\">2.54801</td><td style = \"text-align: right;\">2.56246</td><td style = \"text-align: right;\">2.50739</td><td style = \"text-align: right;\">2.61793</td><td style = \"text-align: right;\">2.68375</td><td style = \"text-align: right;\">2.64553</td><td style = \"text-align: right;\">2.63084</td><td style = \"text-align: right;\">2.53728</td><td style = \"text-align: right;\">2.39155</td><td style = \"text-align: right;\">2.49409</td><td style = \"text-align: right;\">&ctdot;</td></tr></tbody></table></div>"
      ],
      "text/latex": [
       "\\begin{tabular}{r|cccccccc}\n",
       "\t& ID\\_REF & GSM4076302 & GSM4076304 & GSM4076306 & GSM4076308 & GSM4076310 & GSM4076311 & \\\\\n",
       "\t\\hline\n",
       "\t& String15 & Float64 & Float64 & Float64 & Float64 & Float64 & Float64 & \\\\\n",
       "\t\\hline\n",
       "\t1 & aaeA & 1.76408 & 1.70065 & 1.60045 & 1.70884 & 1.80557 & 1.76934 & $\\dots$ \\\\\n",
       "\t2 & aaeB & 1.66349 & 1.59219 & 1.71315 & 1.64108 & 1.68442 & 1.67652 & $\\dots$ \\\\\n",
       "\t3 & aaeR & 2.60276 & 2.55725 & 2.53946 & 2.58301 & 2.48139 & 2.51446 & $\\dots$ \\\\\n",
       "\t4 & aaeX & 2.1609 & 2.1609 & 2.12159 & 2.20628 & 2.20202 & 2.18449 & $\\dots$ \\\\\n",
       "\t5 & aas & 2.68559 & 2.53378 & 2.4334 & 2.52119 & 2.38735 & 2.53946 & $\\dots$ \\\\\n",
       "\\end{tabular}\n"
      ],
      "text/plain": [
       "\u001b[1m5×197 DataFrame\u001b[0m\n",
       "\u001b[1m Row \u001b[0m│\u001b[1m ID_REF   \u001b[0m\u001b[1m GSM4076302 \u001b[0m\u001b[1m GSM4076304 \u001b[0m\u001b[1m GSM4076306 \u001b[0m\u001b[1m GSM4076308 \u001b[0m\u001b[1m GSM4076310 \u001b[0m\u001b[1m G\u001b[0m ⋯\n",
       "     │\u001b[90m String15 \u001b[0m\u001b[90m Float64    \u001b[0m\u001b[90m Float64    \u001b[0m\u001b[90m Float64    \u001b[0m\u001b[90m Float64    \u001b[0m\u001b[90m Float64    \u001b[0m\u001b[90m F\u001b[0m ⋯\n",
       "─────┼──────────────────────────────────────────────────────────────────────────\n",
       "   1 │ aaeA         1.76408     1.70065     1.60045     1.70884     1.80557    ⋯\n",
       "   2 │ aaeB         1.66349     1.59219     1.71315     1.64108     1.68442\n",
       "   3 │ aaeR         2.60276     2.55725     2.53946     2.58301     2.48139\n",
       "   4 │ aaeX         2.1609      2.1609      2.12159     2.20628     2.20202\n",
       "   5 │ aas          2.68559     2.53378     2.4334      2.52119     2.38735    ⋯\n",
       "\u001b[36m                                                             191 columns omitted\u001b[0m"
      ]
     },
     "metadata": {},
     "output_type": "display_data"
    }
   ],
   "source": [
    "# Locat indexes of lines that indicate the begin and end of the table containing\n",
    "# microarray data\n",
    "table_idx = findfirst(occursin.(\"series_matrix_table\", lines_micro))\n",
    "\n",
    "# Read table from the section indicated by the table_idx line.\n",
    "df_micro = CSV.read(\n",
    "    \"$(data_dir)/GSE137348_series_matrix.txt\", \n",
    "    DF.DataFrame; \n",
    "    skipto=table_idx + 1, \n",
    "    footerskip=1, \n",
    "    header=false\n",
    ")\n",
    "\n",
    "# Change column names to be the `ID_REF` number\n",
    "DF.rename!(\n",
    "    df_micro, \n",
    "    Dict(zip(names(df_micro), String.(collect(df_micro[1, :]))))\n",
    ")\n",
    "\n",
    "# Remove first row of dataframe that became redundant with column names\n",
    "df_micro = df_micro[2:end, :]\n",
    "\n",
    "# Initialize new dataframe to convert columns to floats\n",
    "df_num = DF.DataFrame(; ID_REF=df_micro.ID_REF)\n",
    "\n",
    "# Loop through columns\n",
    "for name in names(df_micro[:, 2:end])\n",
    "    df_num[!, name] = parse.(Float64, df_micro[:, name])\n",
    "end # for\n",
    "\n",
    "first(df_num, 5)"
   ]
  },
  {
   "attachments": {},
   "cell_type": "markdown",
   "metadata": {},
   "source": [
    "Having read the information, let's transform this to a tidy dataframe."
   ]
  },
  {
   "cell_type": "code",
   "execution_count": 57,
   "metadata": {},
   "outputs": [
    {
     "data": {
      "text/html": [
       "<div><div style = \"float: left;\"><span>5×3 DataFrame</span></div><div style = \"clear: both;\"></div></div><div class = \"data-frame\" style = \"overflow-x: scroll;\"><table class = \"data-frame\" style = \"margin-bottom: 6px;\"><thead><tr class = \"header\"><th class = \"rowNumber\" style = \"font-weight: bold; text-align: right;\">Row</th><th style = \"text-align: left;\">gene</th><th style = \"text-align: left;\">geo_accession</th><th style = \"text-align: left;\">value</th></tr><tr class = \"subheader headerLastRow\"><th class = \"rowNumber\" style = \"font-weight: bold; text-align: right;\"></th><th title = \"InlineStrings.String15\" style = \"text-align: left;\">String15</th><th title = \"String\" style = \"text-align: left;\">String</th><th title = \"Float64\" style = \"text-align: left;\">Float64</th></tr></thead><tbody><tr><td class = \"rowNumber\" style = \"font-weight: bold; text-align: right;\">1</td><td style = \"text-align: left;\">aaeA</td><td style = \"text-align: left;\">GSM4076302</td><td style = \"text-align: right;\">1.76408</td></tr><tr><td class = \"rowNumber\" style = \"font-weight: bold; text-align: right;\">2</td><td style = \"text-align: left;\">aaeB</td><td style = \"text-align: left;\">GSM4076302</td><td style = \"text-align: right;\">1.66349</td></tr><tr><td class = \"rowNumber\" style = \"font-weight: bold; text-align: right;\">3</td><td style = \"text-align: left;\">aaeR</td><td style = \"text-align: left;\">GSM4076302</td><td style = \"text-align: right;\">2.60276</td></tr><tr><td class = \"rowNumber\" style = \"font-weight: bold; text-align: right;\">4</td><td style = \"text-align: left;\">aaeX</td><td style = \"text-align: left;\">GSM4076302</td><td style = \"text-align: right;\">2.1609</td></tr><tr><td class = \"rowNumber\" style = \"font-weight: bold; text-align: right;\">5</td><td style = \"text-align: left;\">aas</td><td style = \"text-align: left;\">GSM4076302</td><td style = \"text-align: right;\">2.68559</td></tr></tbody></table></div>"
      ],
      "text/latex": [
       "\\begin{tabular}{r|ccc}\n",
       "\t& gene & geo\\_accession & value\\\\\n",
       "\t\\hline\n",
       "\t& String15 & String & Float64\\\\\n",
       "\t\\hline\n",
       "\t1 & aaeA & GSM4076302 & 1.76408 \\\\\n",
       "\t2 & aaeB & GSM4076302 & 1.66349 \\\\\n",
       "\t3 & aaeR & GSM4076302 & 2.60276 \\\\\n",
       "\t4 & aaeX & GSM4076302 & 2.1609 \\\\\n",
       "\t5 & aas & GSM4076302 & 2.68559 \\\\\n",
       "\\end{tabular}\n"
      ],
      "text/plain": [
       "\u001b[1m5×3 DataFrame\u001b[0m\n",
       "\u001b[1m Row \u001b[0m│\u001b[1m gene     \u001b[0m\u001b[1m geo_accession \u001b[0m\u001b[1m value   \u001b[0m\n",
       "     │\u001b[90m String15 \u001b[0m\u001b[90m String        \u001b[0m\u001b[90m Float64 \u001b[0m\n",
       "─────┼──────────────────────────────────\n",
       "   1 │ aaeA      GSM4076302     1.76408\n",
       "   2 │ aaeB      GSM4076302     1.66349\n",
       "   3 │ aaeR      GSM4076302     2.60276\n",
       "   4 │ aaeX      GSM4076302     2.1609\n",
       "   5 │ aas       GSM4076302     2.68559"
      ]
     },
     "metadata": {},
     "output_type": "display_data"
    }
   ],
   "source": [
    "# Transform microarray data to a tidy format\n",
    "df_micro_tidy = DF.stack(df_num, DF.Not(:ID_REF))\n",
    "# Rename columns\n",
    "DF.rename!(df_micro_tidy, :variable => :geo_accession, :ID_REF => :gene)\n",
    "\n",
    "first(df_micro_tidy, 5)"
   ]
  },
  {
   "attachments": {},
   "cell_type": "markdown",
   "metadata": {},
   "source": [
    "To add the corresponding data, we need to add the connecting column to our\n",
    "`df_meta` dataframe. This column is listed in the text file as\n",
    "`!Sample_geo_accession`."
   ]
  },
  {
   "cell_type": "code",
   "execution_count": 58,
   "metadata": {},
   "outputs": [
    {
     "data": {
      "text/html": [
       "<div><div style = \"float: left;\"><span>5×5 DataFrame</span></div><div style = \"clear: both;\"></div></div><div class = \"data-frame\" style = \"overflow-x: scroll;\"><table class = \"data-frame\" style = \"margin-bottom: 6px;\"><thead><tr class = \"header\"><th class = \"rowNumber\" style = \"font-weight: bold; text-align: right;\">Row</th><th style = \"text-align: left;\">strain</th><th style = \"text-align: left;\">background</th><th style = \"text-align: left;\">type</th><th style = \"text-align: left;\">resistance</th><th style = \"text-align: left;\">geo_accession</th></tr><tr class = \"subheader headerLastRow\"><th class = \"rowNumber\" style = \"font-weight: bold; text-align: right;\"></th><th title = \"String\" style = \"text-align: left;\">String</th><th title = \"SubString{String}\" style = \"text-align: left;\">SubStrin…</th><th title = \"String\" style = \"text-align: left;\">String</th><th title = \"String\" style = \"text-align: left;\">String</th><th title = \"String\" style = \"text-align: left;\">String</th></tr></thead><tbody><tr><td class = \"rowNumber\" style = \"font-weight: bold; text-align: right;\">1</td><td style = \"text-align: left;\">3.ATE1</td><td style = \"text-align: left;\">MDS42</td><td style = \"text-align: left;\">evolved</td><td style = \"text-align: left;\">3.AT</td><td style = \"text-align: left;\">GSM4076302</td></tr><tr><td class = \"rowNumber\" style = \"font-weight: bold; text-align: right;\">2</td><td style = \"text-align: left;\">3.ATE5</td><td style = \"text-align: left;\">MDS42</td><td style = \"text-align: left;\">evolved</td><td style = \"text-align: left;\">3.AT</td><td style = \"text-align: left;\">GSM4076304</td></tr><tr><td class = \"rowNumber\" style = \"font-weight: bold; text-align: right;\">3</td><td style = \"text-align: left;\">3.ATE3</td><td style = \"text-align: left;\">MDS42</td><td style = \"text-align: left;\">evolved</td><td style = \"text-align: left;\">3.AT</td><td style = \"text-align: left;\">GSM4076306</td></tr><tr><td class = \"rowNumber\" style = \"font-weight: bold; text-align: right;\">4</td><td style = \"text-align: left;\">3.ATE4</td><td style = \"text-align: left;\">MDS42</td><td style = \"text-align: left;\">evolved</td><td style = \"text-align: left;\">3.AT</td><td style = \"text-align: left;\">GSM4076308</td></tr><tr><td class = \"rowNumber\" style = \"font-weight: bold; text-align: right;\">5</td><td style = \"text-align: left;\">5.FOAE4</td><td style = \"text-align: left;\">MDS42</td><td style = \"text-align: left;\">evolved</td><td style = \"text-align: left;\">5.FOA</td><td style = \"text-align: left;\">GSM4076310</td></tr></tbody></table></div>"
      ],
      "text/latex": [
       "\\begin{tabular}{r|ccccc}\n",
       "\t& strain & background & type & resistance & geo\\_accession\\\\\n",
       "\t\\hline\n",
       "\t& String & SubStrin… & String & String & String\\\\\n",
       "\t\\hline\n",
       "\t1 & 3.ATE1 & MDS42 & evolved & 3.AT & GSM4076302 \\\\\n",
       "\t2 & 3.ATE5 & MDS42 & evolved & 3.AT & GSM4076304 \\\\\n",
       "\t3 & 3.ATE3 & MDS42 & evolved & 3.AT & GSM4076306 \\\\\n",
       "\t4 & 3.ATE4 & MDS42 & evolved & 3.AT & GSM4076308 \\\\\n",
       "\t5 & 5.FOAE4 & MDS42 & evolved & 5.FOA & GSM4076310 \\\\\n",
       "\\end{tabular}\n"
      ],
      "text/plain": [
       "\u001b[1m5×5 DataFrame\u001b[0m\n",
       "\u001b[1m Row \u001b[0m│\u001b[1m strain  \u001b[0m\u001b[1m background \u001b[0m\u001b[1m type    \u001b[0m\u001b[1m resistance \u001b[0m\u001b[1m geo_accession \u001b[0m\n",
       "     │\u001b[90m String  \u001b[0m\u001b[90m SubString… \u001b[0m\u001b[90m String  \u001b[0m\u001b[90m String     \u001b[0m\u001b[90m String        \u001b[0m\n",
       "─────┼─────────────────────────────────────────────────────────\n",
       "   1 │ 3.ATE1   MDS42       evolved  3.AT        GSM4076302\n",
       "   2 │ 3.ATE5   MDS42       evolved  3.AT        GSM4076304\n",
       "   3 │ 3.ATE3   MDS42       evolved  3.AT        GSM4076306\n",
       "   4 │ 3.ATE4   MDS42       evolved  3.AT        GSM4076308\n",
       "   5 │ 5.FOAE4  MDS42       evolved  5.FOA       GSM4076310"
      ]
     },
     "metadata": {},
     "output_type": "display_data"
    }
   ],
   "source": [
    "# Extract line with sample_geo_accession\n",
    "l = first(lines_micro[occursin.(\"!Sample_geo_accession\", lines_micro)])\n",
    "\n",
    "# Extract line with names and split by tab\n",
    "strain_line = split(l, \"\\t\")\n",
    "# Extract information by removing extra characters\n",
    "strain_char = [String(split(x, \"\\\"\")[2]) for x in strain_line[2:end]]\n",
    "\n",
    "# Add column to metadata dataframe\n",
    "df_meta[!, :geo_accession] = strain_char\n",
    "\n",
    "first(df_meta, 5)"
   ]
  },
  {
   "attachments": {},
   "cell_type": "markdown",
   "metadata": {},
   "source": [
    "Having added the information, we can append this metadata to our expression\n",
    "value."
   ]
  },
  {
   "cell_type": "code",
   "execution_count": 59,
   "metadata": {},
   "outputs": [
    {
     "data": {
      "text/html": [
       "<div><div style = \"float: left;\"><span>5×7 DataFrame</span></div><div style = \"clear: both;\"></div></div><div class = \"data-frame\" style = \"overflow-x: scroll;\"><table class = \"data-frame\" style = \"margin-bottom: 6px;\"><thead><tr class = \"header\"><th class = \"rowNumber\" style = \"font-weight: bold; text-align: right;\">Row</th><th style = \"text-align: left;\">gene</th><th style = \"text-align: left;\">geo_accession</th><th style = \"text-align: left;\">value</th><th style = \"text-align: left;\">strain</th><th style = \"text-align: left;\">background</th><th style = \"text-align: left;\">type</th><th style = \"text-align: left;\">resistance</th></tr><tr class = \"subheader headerLastRow\"><th class = \"rowNumber\" style = \"font-weight: bold; text-align: right;\"></th><th title = \"InlineStrings.String15\" style = \"text-align: left;\">String15</th><th title = \"String\" style = \"text-align: left;\">String</th><th title = \"Float64\" style = \"text-align: left;\">Float64</th><th title = \"Union{Missing, String}\" style = \"text-align: left;\">String?</th><th title = \"Union{Missing, SubString{String}}\" style = \"text-align: left;\">SubStrin…?</th><th title = \"Union{Missing, String}\" style = \"text-align: left;\">String?</th><th title = \"Union{Missing, String}\" style = \"text-align: left;\">String?</th></tr></thead><tbody><tr><td class = \"rowNumber\" style = \"font-weight: bold; text-align: right;\">1</td><td style = \"text-align: left;\">aaeA</td><td style = \"text-align: left;\">GSM4076302</td><td style = \"text-align: right;\">1.76408</td><td style = \"text-align: left;\">3.ATE1</td><td style = \"text-align: left;\">MDS42</td><td style = \"text-align: left;\">evolved</td><td style = \"text-align: left;\">3.AT</td></tr><tr><td class = \"rowNumber\" style = \"font-weight: bold; text-align: right;\">2</td><td style = \"text-align: left;\">aaeB</td><td style = \"text-align: left;\">GSM4076302</td><td style = \"text-align: right;\">1.66349</td><td style = \"text-align: left;\">3.ATE1</td><td style = \"text-align: left;\">MDS42</td><td style = \"text-align: left;\">evolved</td><td style = \"text-align: left;\">3.AT</td></tr><tr><td class = \"rowNumber\" style = \"font-weight: bold; text-align: right;\">3</td><td style = \"text-align: left;\">aaeR</td><td style = \"text-align: left;\">GSM4076302</td><td style = \"text-align: right;\">2.60276</td><td style = \"text-align: left;\">3.ATE1</td><td style = \"text-align: left;\">MDS42</td><td style = \"text-align: left;\">evolved</td><td style = \"text-align: left;\">3.AT</td></tr><tr><td class = \"rowNumber\" style = \"font-weight: bold; text-align: right;\">4</td><td style = \"text-align: left;\">aaeX</td><td style = \"text-align: left;\">GSM4076302</td><td style = \"text-align: right;\">2.1609</td><td style = \"text-align: left;\">3.ATE1</td><td style = \"text-align: left;\">MDS42</td><td style = \"text-align: left;\">evolved</td><td style = \"text-align: left;\">3.AT</td></tr><tr><td class = \"rowNumber\" style = \"font-weight: bold; text-align: right;\">5</td><td style = \"text-align: left;\">aas</td><td style = \"text-align: left;\">GSM4076302</td><td style = \"text-align: right;\">2.68559</td><td style = \"text-align: left;\">3.ATE1</td><td style = \"text-align: left;\">MDS42</td><td style = \"text-align: left;\">evolved</td><td style = \"text-align: left;\">3.AT</td></tr></tbody></table></div>"
      ],
      "text/latex": [
       "\\begin{tabular}{r|ccccccc}\n",
       "\t& gene & geo\\_accession & value & strain & background & type & resistance\\\\\n",
       "\t\\hline\n",
       "\t& String15 & String & Float64 & String? & SubStrin…? & String? & String?\\\\\n",
       "\t\\hline\n",
       "\t1 & aaeA & GSM4076302 & 1.76408 & 3.ATE1 & MDS42 & evolved & 3.AT \\\\\n",
       "\t2 & aaeB & GSM4076302 & 1.66349 & 3.ATE1 & MDS42 & evolved & 3.AT \\\\\n",
       "\t3 & aaeR & GSM4076302 & 2.60276 & 3.ATE1 & MDS42 & evolved & 3.AT \\\\\n",
       "\t4 & aaeX & GSM4076302 & 2.1609 & 3.ATE1 & MDS42 & evolved & 3.AT \\\\\n",
       "\t5 & aas & GSM4076302 & 2.68559 & 3.ATE1 & MDS42 & evolved & 3.AT \\\\\n",
       "\\end{tabular}\n"
      ],
      "text/plain": [
       "\u001b[1m5×7 DataFrame\u001b[0m\n",
       "\u001b[1m Row \u001b[0m│\u001b[1m gene     \u001b[0m\u001b[1m geo_accession \u001b[0m\u001b[1m value   \u001b[0m\u001b[1m strain  \u001b[0m\u001b[1m background  \u001b[0m\u001b[1m type    \u001b[0m\u001b[1m resist\u001b[0m ⋯\n",
       "     │\u001b[90m String15 \u001b[0m\u001b[90m String        \u001b[0m\u001b[90m Float64 \u001b[0m\u001b[90m String? \u001b[0m\u001b[90m SubString…? \u001b[0m\u001b[90m String? \u001b[0m\u001b[90m String\u001b[0m ⋯\n",
       "─────┼──────────────────────────────────────────────────────────────────────────\n",
       "   1 │ aaeA      GSM4076302     1.76408  3.ATE1   MDS42        evolved  3.AT   ⋯\n",
       "   2 │ aaeB      GSM4076302     1.66349  3.ATE1   MDS42        evolved  3.AT\n",
       "   3 │ aaeR      GSM4076302     2.60276  3.ATE1   MDS42        evolved  3.AT\n",
       "   4 │ aaeX      GSM4076302     2.1609   3.ATE1   MDS42        evolved  3.AT\n",
       "   5 │ aas       GSM4076302     2.68559  3.ATE1   MDS42        evolved  3.AT   ⋯\n",
       "\u001b[36m                                                                1 column omitted\u001b[0m"
      ]
     },
     "metadata": {},
     "output_type": "display_data"
    }
   ],
   "source": [
    "# Add metadata to dataframe\n",
    "DF.leftjoin!(df_micro_tidy, df_meta, on=:geo_accession)\n",
    "\n",
    "first(df_micro_tidy, 5)"
   ]
  },
  {
   "attachments": {},
   "cell_type": "markdown",
   "metadata": {},
   "source": [
    "Excellent! We have the required table! Let's save it."
   ]
  },
  {
   "cell_type": "code",
   "execution_count": 60,
   "metadata": {},
   "outputs": [
    {
     "data": {
      "text/plain": [
       "\"/Users/mrazo/git/antibiotic_landscape/data/Maeda_2020/maeda_microarray_tidy.csv\""
      ]
     },
     "metadata": {},
     "output_type": "display_data"
    }
   ],
   "source": [
    "CSV.write(\n",
    "    \"$(git_root())/data/Maeda_2020/maeda_microarray_tidy.csv\", df_micro_tidy\n",
    ")"
   ]
  }
 ],
 "metadata": {
  "kernelspec": {
   "display_name": "Julia 1.8.5",
   "language": "julia",
   "name": "julia-1.8"
  },
  "language_info": {
   "file_extension": ".jl",
   "mimetype": "application/julia",
   "name": "julia",
   "version": "1.8.5"
  },
  "orig_nbformat": 4
 },
 "nbformat": 4,
 "nbformat_minor": 2
}
