{
 "cells": [
  {
   "cell_type": "markdown",
   "metadata": {},
   "source": [
    "(c) 2023 Manuel Razo. This work is licensed under a [Creative Commons\n",
    "Attribution License CC-BY 4.0](https://creativecommons.org/licenses/by/4.0/).\n",
    "All code contained herein is licensed under an [MIT\n",
    "license](https://opensource.org/licenses/MIT)."
   ]
  },
  {
   "cell_type": "code",
   "execution_count": 1,
   "metadata": {},
   "outputs": [],
   "source": [
    "# Load project package\n",
    "@load_pkg Antibiotic\n",
    "\n",
    "import Revise\n",
    "# Import project package\n",
    "import Antibiotic\n",
    "\n",
    "# Import package to save outputs\n",
    "import BSON\n",
    "\n",
    "# Import package to handle DataFrames\n",
    "import DataFrames as DF\n",
    "import CSV\n",
    "import XLSX\n",
    "\n",
    "# Import library to list files\n",
    "import Glob\n",
    "\n",
    "# Import packages to work with data\n",
    "import DataFrames as DF\n",
    "\n",
    "# Import statistical functions\n",
    "import Random\n",
    "import StatsBase\n",
    "\n",
    "# Import basic math\n",
    "import LinearAlgebra\n",
    "\n",
    "# Import ML libraries\n",
    "import Flux\n",
    "import NNlib\n",
    "import SimpleChains\n",
    "\n",
    "# Load CairoMakie for plotting\n",
    "using CairoMakie\n",
    "import ColorSchemes\n",
    "# Activate backend\n",
    "CairoMakie.activate!()\n",
    "\n",
    "# Set PBoC Plotting style\n",
    "Antibiotic.viz.pboc_makie!()"
   ]
  },
  {
   "attachments": {},
   "cell_type": "markdown",
   "metadata": {},
   "source": [
    "# Exploratory data analysis for Iwasawa et al., 2022 PLoS Comp. Bio."
   ]
  },
  {
   "attachments": {},
   "cell_type": "markdown",
   "metadata": {},
   "source": [
    "In this notebook we will explore the resistance dataset from the [PLoS Comp\n",
    "Bio](https://journals.plos.org/plosbiology/article?id=10.1371/journal.pbio.3001920)\n",
    "paper by Iwasawa et al. 2022.\n",
    "\n",
    "The first thing we will explore is their time-series of resistance data. This is\n",
    "the data they present on Fig. 1C. We have already turned their data into a tidy\n",
    "dataframe. Let's load this dataframe."
   ]
  },
  {
   "cell_type": "code",
   "execution_count": 16,
   "metadata": {},
   "outputs": [
    {
     "data": {
      "text/html": [
       "<div><div style = \"float: left;\"><span>5×7 DataFrame</span></div><div style = \"clear: both;\"></div></div><div class = \"data-frame\" style = \"overflow-x: scroll;\"><table class = \"data-frame\" style = \"margin-bottom: 6px;\"><thead><tr class = \"header\"><th class = \"rowNumber\" style = \"font-weight: bold; text-align: right;\">Row</th><th style = \"text-align: left;\">strain</th><th style = \"text-align: left;\">drug</th><th style = \"text-align: left;\">log2ic50</th><th style = \"text-align: left;\">day</th><th style = \"text-align: left;\">ic50_μgmL</th><th style = \"text-align: left;\">parent</th><th style = \"text-align: left;\">env</th></tr><tr class = \"subheader headerLastRow\"><th class = \"rowNumber\" style = \"font-weight: bold; text-align: right;\"></th><th title = \"InlineStrings.String31\" style = \"text-align: left;\">String31</th><th title = \"InlineStrings.String7\" style = \"text-align: left;\">String7</th><th title = \"Union{Missing, Float64}\" style = \"text-align: left;\">Float64?</th><th title = \"Int64\" style = \"text-align: left;\">Int64</th><th title = \"Union{Missing, Float64}\" style = \"text-align: left;\">Float64?</th><th title = \"InlineStrings.String7\" style = \"text-align: left;\">String7</th><th title = \"InlineStrings.String7\" style = \"text-align: left;\">String7</th></tr></thead><tbody><tr><td class = \"rowNumber\" style = \"font-weight: bold; text-align: right;\">1</td><td style = \"text-align: left;\">Parent in TET 1</td><td style = \"text-align: left;\">TET</td><td style = \"text-align: right;\">-1.03025</td><td style = \"text-align: right;\">1</td><td style = \"text-align: right;\">0.489626</td><td style = \"text-align: left;\">Parent</td><td style = \"text-align: left;\">TET</td></tr><tr><td class = \"rowNumber\" style = \"font-weight: bold; text-align: right;\">2</td><td style = \"text-align: left;\">Parent in TET 1</td><td style = \"text-align: left;\">KM</td><td style = \"text-align: right;\">3.89449</td><td style = \"text-align: right;\">1</td><td style = \"text-align: right;\">14.8716</td><td style = \"text-align: left;\">Parent</td><td style = \"text-align: left;\">TET</td></tr><tr><td class = \"rowNumber\" style = \"font-weight: bold; text-align: right;\">3</td><td style = \"text-align: left;\">Parent in TET 1</td><td style = \"text-align: left;\">NFLX</td><td style = \"text-align: right;\">-4.95938</td><td style = \"text-align: right;\">1</td><td style = \"text-align: right;\">0.0321424</td><td style = \"text-align: left;\">Parent</td><td style = \"text-align: left;\">TET</td></tr><tr><td class = \"rowNumber\" style = \"font-weight: bold; text-align: right;\">4</td><td style = \"text-align: left;\">Parent in TET 1</td><td style = \"text-align: left;\">SS</td><td style = \"text-align: right;\">6.41736</td><td style = \"text-align: right;\">1</td><td style = \"text-align: right;\">85.4709</td><td style = \"text-align: left;\">Parent</td><td style = \"text-align: left;\">TET</td></tr><tr><td class = \"rowNumber\" style = \"font-weight: bold; text-align: right;\">5</td><td style = \"text-align: left;\">Parent in TET 1</td><td style = \"text-align: left;\">PLM</td><td style = \"text-align: right;\">2.82162</td><td style = \"text-align: right;\">1</td><td style = \"text-align: right;\">7.06955</td><td style = \"text-align: left;\">Parent</td><td style = \"text-align: left;\">TET</td></tr></tbody></table></div>"
      ],
      "text/latex": [
       "\\begin{tabular}{r|ccccccc}\n",
       "\t& strain & drug & log2ic50 & day & ic50\\_μgmL & parent & env\\\\\n",
       "\t\\hline\n",
       "\t& String31 & String7 & Float64? & Int64 & Float64? & String7 & String7\\\\\n",
       "\t\\hline\n",
       "\t1 & Parent in TET 1 & TET & -1.03025 & 1 & 0.489626 & Parent & TET \\\\\n",
       "\t2 & Parent in TET 1 & KM & 3.89449 & 1 & 14.8716 & Parent & TET \\\\\n",
       "\t3 & Parent in TET 1 & NFLX & -4.95938 & 1 & 0.0321424 & Parent & TET \\\\\n",
       "\t4 & Parent in TET 1 & SS & 6.41736 & 1 & 85.4709 & Parent & TET \\\\\n",
       "\t5 & Parent in TET 1 & PLM & 2.82162 & 1 & 7.06955 & Parent & TET \\\\\n",
       "\\end{tabular}\n"
      ],
      "text/plain": [
       "\u001b[1m5×7 DataFrame\u001b[0m\n",
       "\u001b[1m Row \u001b[0m│\u001b[1m strain          \u001b[0m\u001b[1m drug    \u001b[0m\u001b[1m log2ic50 \u001b[0m\u001b[1m day   \u001b[0m\u001b[1m ic50_μgmL  \u001b[0m\u001b[1m parent  \u001b[0m\u001b[1m env    \u001b[0m ⋯\n",
       "     │\u001b[90m String31        \u001b[0m\u001b[90m String7 \u001b[0m\u001b[90m Float64? \u001b[0m\u001b[90m Int64 \u001b[0m\u001b[90m Float64?   \u001b[0m\u001b[90m String7 \u001b[0m\u001b[90m String7\u001b[0m ⋯\n",
       "─────┼──────────────────────────────────────────────────────────────────────────\n",
       "   1 │ Parent in TET 1  TET      -1.03025      1   0.489626   Parent   TET     ⋯\n",
       "   2 │ Parent in TET 1  KM        3.89449      1  14.8716     Parent   TET\n",
       "   3 │ Parent in TET 1  NFLX     -4.95938      1   0.0321424  Parent   TET\n",
       "   4 │ Parent in TET 1  SS        6.41736      1  85.4709     Parent   TET\n",
       "   5 │ Parent in TET 1  PLM       2.82162      1   7.06955    Parent   TET     ⋯"
      ]
     },
     "metadata": {},
     "output_type": "display_data"
    }
   ],
   "source": [
    "# Load data into memory\n",
    "df_ic50 = CSV.read(\n",
    "    \"$(git_root())/data/Iwasawa_2022/iwasawa_ic50_tidy.csv\", DF.DataFrame\n",
    ")\n",
    "\n",
    "first(df_ic50, 5)"
   ]
  },
  {
   "cell_type": "markdown",
   "metadata": {},
   "source": [
    "## SVD on resistance data"
   ]
  },
  {
   "attachments": {},
   "cell_type": "markdown",
   "metadata": {},
   "source": [
    "As a first pass through the data, let's perform singular value decomposition on\n",
    "the resistance data. For this, we need to generate a matrix\n",
    "$\\underline{\\underline{R}}$ with the resistance values, where each column\n",
    "corresponds to one of the strains, and each row to each of the stresses.\n",
    "\n",
    "The dataset has missing values. In particular for a set of **eight** strains,\n",
    "there were no measurements taken after day 14. There are two ways to perform\n",
    "this SVD analysis on the data:\n",
    "1. Ignore these **eight** strains, and use the rest with measurements up to\n",
    "   day27.\n",
    "2. Ignore all information after day 14.\n",
    "\n",
    "The first option sounds more reasonable, as having more days is a more\n",
    "interesting question."
   ]
  },
  {
   "cell_type": "code",
   "execution_count": 26,
   "metadata": {},
   "outputs": [
    {
     "data": {
      "text/html": [
       "<div><div style = \"float: left;\"><span>5×7 DataFrame</span></div><div style = \"clear: both;\"></div></div><div class = \"data-frame\" style = \"overflow-x: scroll;\"><table class = \"data-frame\" style = \"margin-bottom: 6px;\"><thead><tr class = \"header\"><th class = \"rowNumber\" style = \"font-weight: bold; text-align: right;\">Row</th><th style = \"text-align: left;\">strain</th><th style = \"text-align: left;\">drug</th><th style = \"text-align: left;\">log2ic50</th><th style = \"text-align: left;\">day</th><th style = \"text-align: left;\">ic50_μgmL</th><th style = \"text-align: left;\">parent</th><th style = \"text-align: left;\">env</th></tr><tr class = \"subheader headerLastRow\"><th class = \"rowNumber\" style = \"font-weight: bold; text-align: right;\"></th><th title = \"InlineStrings.String31\" style = \"text-align: left;\">String31</th><th title = \"InlineStrings.String7\" style = \"text-align: left;\">String7</th><th title = \"Union{Missing, Float64}\" style = \"text-align: left;\">Float64?</th><th title = \"Int64\" style = \"text-align: left;\">Int64</th><th title = \"Union{Missing, Float64}\" style = \"text-align: left;\">Float64?</th><th title = \"InlineStrings.String7\" style = \"text-align: left;\">String7</th><th title = \"InlineStrings.String7\" style = \"text-align: left;\">String7</th></tr></thead><tbody><tr><td class = \"rowNumber\" style = \"font-weight: bold; text-align: right;\">1</td><td style = \"text-align: left;\">Parent in TET 1</td><td style = \"text-align: left;\">KM</td><td style = \"text-align: right;\">3.89449</td><td style = \"text-align: right;\">1</td><td style = \"text-align: right;\">14.8716</td><td style = \"text-align: left;\">Parent</td><td style = \"text-align: left;\">TET</td></tr><tr><td class = \"rowNumber\" style = \"font-weight: bold; text-align: right;\">2</td><td style = \"text-align: left;\">Parent in TET 1</td><td style = \"text-align: left;\">MMC</td><td style = \"text-align: right;\">0.532286</td><td style = \"text-align: right;\">1</td><td style = \"text-align: right;\">1.44622</td><td style = \"text-align: left;\">Parent</td><td style = \"text-align: left;\">TET</td></tr><tr><td class = \"rowNumber\" style = \"font-weight: bold; text-align: right;\">3</td><td style = \"text-align: left;\">Parent in TET 1</td><td style = \"text-align: left;\">NFLX</td><td style = \"text-align: right;\">-4.95938</td><td style = \"text-align: right;\">1</td><td style = \"text-align: right;\">0.0321424</td><td style = \"text-align: left;\">Parent</td><td style = \"text-align: left;\">TET</td></tr><tr><td class = \"rowNumber\" style = \"font-weight: bold; text-align: right;\">4</td><td style = \"text-align: left;\">Parent in TET 1</td><td style = \"text-align: left;\">NQO</td><td style = \"text-align: right;\">0.0939335</td><td style = \"text-align: right;\">1</td><td style = \"text-align: right;\">1.06728</td><td style = \"text-align: left;\">Parent</td><td style = \"text-align: left;\">TET</td></tr><tr><td class = \"rowNumber\" style = \"font-weight: bold; text-align: right;\">5</td><td style = \"text-align: left;\">Parent in TET 1</td><td style = \"text-align: left;\">PLM</td><td style = \"text-align: right;\">2.82162</td><td style = \"text-align: right;\">1</td><td style = \"text-align: right;\">7.06955</td><td style = \"text-align: left;\">Parent</td><td style = \"text-align: left;\">TET</td></tr></tbody></table></div>"
      ],
      "text/latex": [
       "\\begin{tabular}{r|ccccccc}\n",
       "\t& strain & drug & log2ic50 & day & ic50\\_μgmL & parent & env\\\\\n",
       "\t\\hline\n",
       "\t& String31 & String7 & Float64? & Int64 & Float64? & String7 & String7\\\\\n",
       "\t\\hline\n",
       "\t1 & Parent in TET 1 & KM & 3.89449 & 1 & 14.8716 & Parent & TET \\\\\n",
       "\t2 & Parent in TET 1 & MMC & 0.532286 & 1 & 1.44622 & Parent & TET \\\\\n",
       "\t3 & Parent in TET 1 & NFLX & -4.95938 & 1 & 0.0321424 & Parent & TET \\\\\n",
       "\t4 & Parent in TET 1 & NQO & 0.0939335 & 1 & 1.06728 & Parent & TET \\\\\n",
       "\t5 & Parent in TET 1 & PLM & 2.82162 & 1 & 7.06955 & Parent & TET \\\\\n",
       "\\end{tabular}\n"
      ],
      "text/plain": [
       "\u001b[1m5×7 DataFrame\u001b[0m\n",
       "\u001b[1m Row \u001b[0m│\u001b[1m strain          \u001b[0m\u001b[1m drug    \u001b[0m\u001b[1m log2ic50   \u001b[0m\u001b[1m day   \u001b[0m\u001b[1m ic50_μgmL  \u001b[0m\u001b[1m parent  \u001b[0m\u001b[1m env  \u001b[0m ⋯\n",
       "     │\u001b[90m String31        \u001b[0m\u001b[90m String7 \u001b[0m\u001b[90m Float64?   \u001b[0m\u001b[90m Int64 \u001b[0m\u001b[90m Float64?   \u001b[0m\u001b[90m String7 \u001b[0m\u001b[90m Strin\u001b[0m ⋯\n",
       "─────┼──────────────────────────────────────────────────────────────────────────\n",
       "   1 │ Parent in TET 1  KM        3.89449        1  14.8716     Parent   TET   ⋯\n",
       "   2 │ Parent in TET 1  MMC       0.532286       1   1.44622    Parent   TET\n",
       "   3 │ Parent in TET 1  NFLX     -4.95938        1   0.0321424  Parent   TET\n",
       "   4 │ Parent in TET 1  NQO       0.0939335      1   1.06728    Parent   TET\n",
       "   5 │ Parent in TET 1  PLM       2.82162        1   7.06955    Parent   TET   ⋯\n",
       "\u001b[36m                                                                1 column omitted\u001b[0m"
      ]
     },
     "metadata": {},
     "output_type": "display_data"
    }
   ],
   "source": [
    "# Locate strains with missing values\n",
    "missing_strains = unique(df_ic50[ismissing.(df_ic50.log2ic50), :strain])\n",
    "\n",
    "# Remove data\n",
    "df_ic50 = df_ic50[[x ∉ missing_strains for x in df_ic50.strain], :]\n",
    "\n",
    "first(df_ic50, 5)"
   ]
  },
  {
   "cell_type": "code",
   "execution_count": 36,
   "metadata": {},
   "outputs": [],
   "source": [
    "# Group data by strain and day\n",
    "df_group = DF.groupby(df_ic50, [:strain, :day])\n",
    "\n",
    "# Extract unique drugs to make sure the matrix is built correctly\n",
    "drug = sort(unique(df_ic50.drug))\n",
    "\n",
    "# Initialize matrix to save ic50 values\n",
    "ic50_mat = Matrix{Float32}(undef, length(drug), length(df_group))\n",
    "\n",
    "# Loop through groups\n",
    "for (i, data) in enumerate(df_group)\n",
    "    # Sort data by stress\n",
    "    DF.sort!(data, :drug)\n",
    "    # Check that the stress are in the correct order\n",
    "    if all(data.drug .== drug)\n",
    "        # Add data to matrix\n",
    "        ic50_mat[:, i] = Float32.(data.log2ic50)\n",
    "    else\n",
    "        println(\"group $i stress does not match\")\n",
    "    end # if\n",
    "end # for\n",
    "\n",
    "# Generate mean-centered matrix\n",
    "ic50_center = ic50_mat .- StatsBase.mean(ic50_mat, dims=2);"
   ]
  },
  {
   "cell_type": "markdown",
   "metadata": {},
   "source": [
    "Next, let's compute the singular value decomposition."
   ]
  },
  {
   "cell_type": "code",
   "execution_count": 37,
   "metadata": {},
   "outputs": [],
   "source": [
    "# Perform SVD on raw data\n",
    "U, Σ, V = LinearAlgebra.svd(ic50_mat)\n",
    "\n",
    "# Perform SVD on mean-centered data\n",
    "U_center, Σ_center, V_center = LinearAlgebra.svd(ic50_center);"
   ]
  },
  {
   "cell_type": "markdown",
   "metadata": {},
   "source": [
    "Let's look at the singular value profile."
   ]
  },
  {
   "cell_type": "code",
   "execution_count": 38,
   "metadata": {},
   "outputs": [
    {
     "data": {
      "image/png": "[encoded data removed]"
     },
     "metadata": {},
     "output_type": "display_data"
    }
   ],
   "source": [
    "# Initialize figure\n",
    "fig = Figure(resolution=(600, 300))\n",
    "\n",
    "# Add axis\n",
    "ax = Axis(\n",
    "    fig[1, 1],\n",
    "    xlabel=\"singular value index\",\n",
    "    ylabel=\"singular value\",\n",
    "    # yscale=log10,\n",
    ")\n",
    "ax2 = Axis(\n",
    "    fig[1, 2],\n",
    "    xlabel=\"singular value index\",\n",
    "    ylabel=\"fraction of variance explained\",\n",
    "    # yscale=log10,\n",
    ")\n",
    "\n",
    "# Plot singular value spectrum\n",
    "scatterlines!(ax, Σ)\n",
    "scatterlines!(ax2, Σ_center .^ 2 ./ sum(Σ_center .^ 2))\n",
    "\n",
    "fig"
   ]
  }
 ],
 "metadata": {
  "kernelspec": {
   "display_name": "Julia 1.8.5",
   "language": "julia",
   "name": "julia-1.8"
  },
  "language_info": {
   "file_extension": ".jl",
   "mimetype": "application/julia",
   "name": "julia",
   "version": "1.8.5"
  },
  "orig_nbformat": 4
 },
 "nbformat": 4,
 "nbformat_minor": 2
}
