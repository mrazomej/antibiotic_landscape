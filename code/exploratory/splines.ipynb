{
 "cells": [
  {
   "cell_type": "markdown",
   "metadata": {},
   "source": [
    "(c) 2023 Manuel Razo. This work is licensed under a [Creative Commons\n",
    "Attribution License CC-BY 4.0](https://creativecommons.org/licenses/by/4.0/).\n",
    "All code contained herein is licensed under an [MIT\n",
    "license](https://opensource.org/licenses/MIT)."
   ]
  },
  {
   "cell_type": "code",
   "execution_count": 1,
   "metadata": {},
   "outputs": [],
   "source": [
    "# Load project package\n",
    "@load_pkg Antibiotic\n",
    "\n",
    "import Revise\n",
    "# Import project package\n",
    "import Antibiotic\n",
    "\n",
    "# Import basic math\n",
    "import LinearAlgebra\n",
    "\n",
    "# Import package to work with pre-defined size arrays\n",
    "import StaticArrays as SA\n",
    "\n",
    "# Load CairoMakie for plotting\n",
    "using CairoMakie\n",
    "import ColorSchemes\n",
    "# Activate backend\n",
    "CairoMakie.activate!()\n",
    "\n",
    "# Set PBoC Plotting style\n",
    "Antibiotic.viz.pboc_makie!()"
   ]
  },
  {
   "attachments": {},
   "cell_type": "markdown",
   "metadata": {},
   "source": [
    "# Splines as smooth interpolators"
   ]
  },
  {
   "attachments": {},
   "cell_type": "markdown",
   "metadata": {},
   "source": [
    "In this notebook, we will define spines to smoothly interpolate between points.\n",
    "The reason for this is that the existing packages in Julia do not satisfy our\n",
    "needs. Thus, we must code our own cubic spline structure."
   ]
  },
  {
   "attachments": {},
   "cell_type": "markdown",
   "metadata": {},
   "source": [
    "## Cubic curves"
   ]
  },
  {
   "attachments": {},
   "cell_type": "markdown",
   "metadata": {},
   "source": [
    "Let's begin working with a simple 1D cubic curve. Such curve takes the form\n",
    "$$\n",
    "x(t) = d t^3 + c t^2 + b t + a.\n",
    "$$\n",
    "Our objective is to find the coefficients $(a, b, c, d)$ to smoothly interpolate\n",
    "the data. For example, let us say we have four points we want to smoothly\n",
    "interpolate through."
   ]
  },
  {
   "cell_type": "code",
   "execution_count": 43,
   "metadata": {},
   "outputs": [
    {
     "data": {
      "image/png": "[encoded data removed]"
     },
     "metadata": {},
     "output_type": "display_data"
    }
   ],
   "source": [
    "# Define points to interpolate through\n",
    "x = [1, 1.5, 3, 1]\n",
    "t = [0, 2, 7, 10]\n",
    "\n",
    "# Initialize figure\n",
    "fig = Figure(resolution=(350, 350))\n",
    "\n",
    "# Add axis\n",
    "ax = Axis(\n",
    "    fig[1, 1],\n",
    "    xlabel=\"t\",\n",
    "    ylabel=\"x(t)\",\n",
    ")\n",
    "\n",
    "# Plot points\n",
    "scatter!(ax, t, x)\n",
    "\n",
    "fig"
   ]
  },
  {
   "attachments": {},
   "cell_type": "markdown",
   "metadata": {},
   "source": [
    "To interpolate through these points, we can define a matrix equation of the form\n",
    "$$\n",
    "\\left[\\begin{array}{cccc}\n",
    "t_1^3 & t_1^2 & t_1 & 1 \\\\\n",
    "t_2^3 & t_2^2 & t_2 & 1 \\\\\n",
    "t_3^3 & t_3^2 & t_3 & 1 \\\\\n",
    "t_4^3 & t_4^2 & t_4 & 1\n",
    "\\end{array}\\right]\\left[\\begin{array}{l}\n",
    "d \\\\\n",
    "c \\\\\n",
    "b \\\\\n",
    "a\n",
    "\\end{array}\\right]=\\left[\\begin{array}{l}\n",
    "x_1 \\\\\n",
    "x_2 \\\\\n",
    "x_3 \\\\\n",
    "x_4\n",
    "\\end{array}\\right],\n",
    "$$\n",
    "where we simply need to invert the matrix with the time coefficients.\n",
    "\n",
    "Let's define a `mutable struct` that contains both the anchoring points (the\n",
    "x-values) and the time where they are evaluated. "
   ]
  },
  {
   "cell_type": "code",
   "execution_count": 44,
   "metadata": {},
   "outputs": [
    {
     "data": {
      "text/plain": [
       "CubicCurve([1.0, 1.5, 3.0, 1.0], [0, 2, 7, 10], [0, 0, 0, 0])"
      ]
     },
     "metadata": {},
     "output_type": "display_data"
    }
   ],
   "source": [
    "mutable struct CubicCurve\n",
    "    c::SA.SVector{4, <:Real}\n",
    "    t::SA.SVector{4, <:Real}\n",
    "    coeff::SA.SVector{4, <:Real}\n",
    "\n",
    "    # Define function for standard initialization of weights\n",
    "    function CubicCurve(c, t)\n",
    "        new(c, t, [0, 0, 0, 0])\n",
    "    end # initialization function\n",
    "end # mutable struct\n",
    "\n",
    "curve = CubicCurve(x, t)"
   ]
  },
  {
   "attachments": {},
   "cell_type": "markdown",
   "metadata": {},
   "source": [
    "Next, let's define a function that given a `CubicCurve`, solves the linear\n",
    "system to find the coefficients."
   ]
  },
  {
   "cell_type": "code",
   "execution_count": 45,
   "metadata": {},
   "outputs": [
    {
     "data": {
      "text/plain": [
       "4-element StaticArraysCore.SVector{4, Float64} with indices SOneTo(4):\n",
       "  1.0\n",
       "  0.05654761904761898\n",
       "  0.12232142857142847\n",
       " -0.012797619047619037"
      ]
     },
     "metadata": {},
     "output_type": "display_data"
    }
   ],
   "source": [
    "function fit_cubic!(curve::CubicCurve)\n",
    "    # Build matrix T̲̲\n",
    "    T̲̲ = SA.SMatrix{4, 4}(\n",
    "        hcat([t .^(0:3) for t in curve.t]...)'\n",
    "    )\n",
    "    # Solve system\n",
    "    curve.coeff = T̲̲ \\ curve.c\n",
    "end # function\n",
    "\n",
    "fit_cubic!(curve)"
   ]
  },
  {
   "attachments": {},
   "cell_type": "markdown",
   "metadata": {},
   "source": [
    "Let's define another function that evaluates the spline for a grid of points."
   ]
  },
  {
   "cell_type": "code",
   "execution_count": 46,
   "metadata": {},
   "outputs": [
    {
     "data": {
      "text/plain": [
       "eval_cubic (generic function with 1 method)"
      ]
     },
     "metadata": {},
     "output_type": "display_data"
    }
   ],
   "source": [
    "function eval_cubic(t::Vector{<:Real}, curve::CubicCurve)\n",
    "    # Evaluate and return cubic curve\n",
    "    [LinearAlgebra.dot(time .^(0:3), curve.coeff) for time in t]\n",
    "end # function"
   ]
  },
  {
   "cell_type": "code",
   "execution_count": 47,
   "metadata": {},
   "outputs": [
    {
     "data": {
      "image/png": "[encoded data removed]"
     },
     "metadata": {},
     "output_type": "display_data"
    }
   ],
   "source": [
    "# Define time range\n",
    "t_range = collect(0:0.1:maximum(curve.t))\n",
    "\n",
    "# Initialize figure\n",
    "fig = Figure(resolution=(450, 350))\n",
    "\n",
    "# Add axis\n",
    "ax = Axis(\n",
    "    fig[1, 1],\n",
    "    xlabel=\"t\",\n",
    "    ylabel=\"x(t)\",\n",
    ")\n",
    "\n",
    "# Plot spline\n",
    "lines!(\n",
    "    ax, \n",
    "    t_range, \n",
    "    eval_cubic(t_range, curve), \n",
    "    color=ColorSchemes.seaborn_colorblind[2]\n",
    ")\n",
    "\n",
    "# Plot points\n",
    "scatter!(ax, t, x)\n",
    "\n",
    "fig"
   ]
  },
  {
   "attachments": {},
   "cell_type": "markdown",
   "metadata": {},
   "source": [
    "## Tangential Cubic curves"
   ]
  },
  {
   "attachments": {},
   "cell_type": "markdown",
   "metadata": {},
   "source": [
    "Sometimes, it is simpler to specify two anchoring points and the slope of the\n",
    "curve at these tangential points. Given the two equations coming from the\n",
    "position of the anchoring points and the two equations from their tangential\n",
    "lines, we can constrain the system to solve for the coefficients by solving the\n",
    "matrix equation of the form\n",
    "$$\n",
    "\\left[\\begin{array}{cccc}\n",
    "t_i^3 & t_i^2 & t_i & 1 \\\\\n",
    "t_f^3 & t_f^2 & t_f & 1 \\\\\n",
    "3 t_i^2 & 2 t_i & 1 & 0 \\\\\n",
    "3 t_f^2 & 2 t_f & 1 & 0\n",
    "\\end{array}\\right]\\left[\\begin{array}{l}\n",
    "a \\\\\n",
    "b \\\\\n",
    "c \\\\\n",
    "d\n",
    "\\end{array}\\right]=\\left[\\begin{array}{l}\n",
    "x_i \\\\\n",
    "x_f \\\\\n",
    "\\dot{x}_i \\\\\n",
    "\\dot{x}_f\n",
    "\\end{array}\\right]\n",
    "$$"
   ]
  },
  {
   "attachments": {},
   "cell_type": "markdown",
   "metadata": {},
   "source": [
    "Let's define a curve and the desired tangents."
   ]
  },
  {
   "cell_type": "code",
   "execution_count": 53,
   "metadata": {},
   "outputs": [
    {
     "data": {
      "image/png": "[encoded data removed]"
     },
     "metadata": {},
     "output_type": "display_data"
    }
   ],
   "source": [
    "x = [1.0, 1.0]\n",
    "ẋ = [0.0, -2.0]\n",
    "t = [0.0, 10.0]\n",
    "\n",
    "# Initialize figure\n",
    "fig = Figure(resolution=(350, 350))\n",
    "\n",
    "# Add axis\n",
    "ax = Axis(\n",
    "    fig[1, 1],\n",
    "    xlabel=\"t\",\n",
    "    ylabel=\"x(t)\",\n",
    ")\n",
    "\n",
    "# Plot points\n",
    "scatter!(ax, t, x)\n",
    "\n",
    "# Define scaling factor for arrows\n",
    "scale = 0.25\n",
    "# Add desired slopes\n",
    "arrows!(ax, t, x, [1, 1] .* scale, ẋ .* scale)\n",
    "\n",
    "ylims!(ax, [0, 1.5])\n",
    "fig"
   ]
  },
  {
   "attachments": {},
   "cell_type": "markdown",
   "metadata": {},
   "source": [
    "As before, let's define a `mutable struct` for a cubic curve that will be fit\n",
    "from the values of the derivatives."
   ]
  },
  {
   "cell_type": "code",
   "execution_count": 54,
   "metadata": {},
   "outputs": [
    {
     "data": {
      "text/plain": [
       "TangentCubicCurve([1.0, 1.0], [0.0, -2.0], [0.0, 10.0], [0, 0, 0, 0])"
      ]
     },
     "metadata": {},
     "output_type": "display_data"
    }
   ],
   "source": [
    "mutable struct TangentCubicCurve\n",
    "    c::SA.SVector{2, <:Real}\n",
    "    dc::SA.SVector{2, <:Real}\n",
    "    t::SA.SVector{2, <:Real}\n",
    "    coeff::SA.SVector{4, <:Real}\n",
    "\n",
    "    # Define function for standard initialization of weights\n",
    "    function TangentCubicCurve(c, dc, t)\n",
    "        new(c, dc, t, [0, 0, 0, 0])\n",
    "    end # initialization function\n",
    "end # mutable struct\n",
    "\n",
    "curve = TangentCubicCurve(x, ẋ, t)"
   ]
  },
  {
   "attachments": {},
   "cell_type": "markdown",
   "metadata": {},
   "source": [
    "Likewise, let's define a function to fit the cubic curve given this information.\n",
    "For this, we will take advantage of the multiple dispatch paradigm in Julia and\n",
    "define the function with the same name as before."
   ]
  },
  {
   "cell_type": "code",
   "execution_count": 64,
   "metadata": {},
   "outputs": [
    {
     "data": {
      "text/plain": [
       "4-element StaticArraysCore.SVector{4, Float64} with indices SOneTo(4):\n",
       "  1.0\n",
       "  0.0\n",
       "  0.2\n",
       " -0.02"
      ]
     },
     "metadata": {},
     "output_type": "display_data"
    }
   ],
   "source": [
    "function fit_cubic!(curve::TangentCubicCurve)\n",
    "    # Build matrix T̲̲\n",
    "    T̲̲ = SA.SMatrix{4, 4}(\n",
    "        hcat(\n",
    "            [\n",
    "                [t .^(0:3) for t in curve.t]; # Anchor points\n",
    "                [(0:3) .* t .^([0; collect(0:2)]) for t in curve.t] # derivatives\n",
    "            ]...\n",
    "        )'\n",
    "    )\n",
    "    # Solve system\n",
    "    curve.coeff = T̲̲ \\ [curve.c; curve.dc]\n",
    "end # function\n",
    "\n",
    "fit_cubic!(curve)"
   ]
  },
  {
   "attachments": {},
   "cell_type": "markdown",
   "metadata": {},
   "source": [
    "We again define a function to evaluate the spline."
   ]
  },
  {
   "cell_type": "code",
   "execution_count": 65,
   "metadata": {},
   "outputs": [
    {
     "data": {
      "text/plain": [
       "eval_cubic (generic function with 2 methods)"
      ]
     },
     "metadata": {},
     "output_type": "display_data"
    }
   ],
   "source": [
    "function eval_cubic(t::Vector{<:Real}, curve::TangentCubicCurve)\n",
    "    # Evaluate and return cubic curve\n",
    "    [LinearAlgebra.dot(time .^(0:3), curve.coeff) for time in t]\n",
    "end # function"
   ]
  },
  {
   "attachments": {},
   "cell_type": "markdown",
   "metadata": {},
   "source": [
    "And plot the resulting curve."
   ]
  },
  {
   "cell_type": "code",
   "execution_count": 67,
   "metadata": {},
   "outputs": [
    {
     "data": {
      "image/png": "[encoded data removed]"
     },
     "metadata": {},
     "output_type": "display_data"
    }
   ],
   "source": [
    "# Define time range\n",
    "t_range = collect(0:0.1:maximum(curve.t))\n",
    "\n",
    "# Initialize figure\n",
    "fig = Figure(resolution=(450, 350))\n",
    "\n",
    "# Add axis\n",
    "ax = Axis(\n",
    "    fig[1, 1],\n",
    "    xlabel=\"t\",\n",
    "    ylabel=\"x(t)\",\n",
    ")\n",
    "\n",
    "# Plot spline\n",
    "lines!(\n",
    "    ax, \n",
    "    t_range, \n",
    "    eval_cubic(t_range, curve), \n",
    "    color=ColorSchemes.seaborn_colorblind[2]\n",
    ")\n",
    "\n",
    "# Plot points\n",
    "scatter!(ax, t, x)\n",
    "\n",
    "# Define scaling factor for arrows\n",
    "scale = 0.25\n",
    "# Add desired slopes\n",
    "arrows!(ax, t, x, [1, 1] .* scale, ẋ .* scale)\n",
    "\n",
    "fig"
   ]
  },
  {
   "attachments": {},
   "cell_type": "markdown",
   "metadata": {},
   "source": [
    "## Natural Cubic Spline"
   ]
  },
  {
   "cell_type": "code",
   "execution_count": 103,
   "metadata": {},
   "outputs": [],
   "source": [
    "mutable struct CubicSpline\n",
    "    x::VecOrMat{<:AbstractFloat}\n",
    "    t::Vector{<:AbstractFloat}\n",
    "    coeff::Vector{VecOrMat{<:AbstractFloat}}\n",
    "    knot::Vector{Bool}\n",
    "\n",
    "    # Define function to initialize with default values\n",
    "    function CubicSpline(x, t)\n",
    "        # Set defaul coefficients according to type\n",
    "        if typeof(x) <: Vector\n",
    "            # Set coefficients to zero\n",
    "            coeff = zeros(4)\n",
    "        elseif typeof(x) <: Matrix\n",
    "            coeff = zeros(4, size(x, 1))\n",
    "        end # if\n",
    "\n",
    "        # Set default values\n",
    "        new(\n",
    "            x, # Use given anchor points\n",
    "            t, # Use given time values\n",
    "            repeat([coeff], length(x)-1), # Use defined coefficients\n",
    "            (t .!= maximum(t)) .& (t .!= minimum(t)) # Check if point is knot\n",
    "        )\n",
    "    end # function\n",
    "end # mutable struct"
   ]
  },
  {
   "cell_type": "code",
   "execution_count": 104,
   "metadata": {},
   "outputs": [
    {
     "data": {
      "image/png": "[encoded data removed]"
     },
     "metadata": {},
     "output_type": "display_data"
    }
   ],
   "source": [
    "# Define points\n",
    "t = Float64.([0, 2, 5, 10])\n",
    "x = Float64.([1, 4, 3, 6])\n",
    "\n",
    "# Define spline\n",
    "spline = CubicSpline(x, t)\n",
    "\n",
    "# Initialize figure\n",
    "fig = Figure(resolution=(350, 350))\n",
    "\n",
    "# Add axis\n",
    "ax = Axis(\n",
    "    fig[1, 1],\n",
    "    xlabel=\"t\",\n",
    "    ylabel=\"x(t)\",\n",
    ")\n",
    "\n",
    "# Plot points\n",
    "scatter!(ax, spline.t, spline.x)\n",
    "\n",
    "fig"
   ]
  },
  {
   "attachments": {},
   "cell_type": "markdown",
   "metadata": {},
   "source": [
    "Let's now define a function to fit a spline to the anchoring points"
   ]
  },
  {
   "cell_type": "code",
   "execution_count": 150,
   "metadata": {},
   "outputs": [
    {
     "name": "stdout",
     "output_type": "stream",
     "text": [
      "  0.000155 seconds (165 allocations: 9.781 KiB)\n"
     ]
    },
    {
     "data": {
      "text/plain": [
       "3-element Vector{Vector{Float64}}:\n",
       " [1.0, 1.9256070640176601, -0.0, -0.10640176600441503]\n",
       " [-0.6806475349521719, 4.446578366445917, -1.2604856512141283, 0.10367917586460634]\n",
       " [14.735099337748355, -4.802869757174394, 0.5894039735099338, -0.019646799116997793]"
      ]
     },
     "metadata": {},
     "output_type": "display_data"
    }
   ],
   "source": [
    "function fit_spline!(spline::CubicSpline)\n",
    "    # Initialize matrix that defines coefficients\n",
    "    T̲̲ = zeros(length(spline.coeff) * 4, length(spline.coeff) * 4)\n",
    "    # Initialize vector of coefficients\n",
    "    x̲ = zeros(length(spline.coeff) * 4)\n",
    "\n",
    "    # Define coefficient indexes\n",
    "    coeff_idx = [x:x+3 for x in 1:4:length(spline.coeff) * 4]\n",
    "\n",
    "    # Initialize row counter\n",
    "    count = 1\n",
    "\n",
    "    # Loop through time points to add anchor point constraint\n",
    "    for (i, t) in enumerate(spline.t)\n",
    "        # Check if point is knot\n",
    "        if spline.knot[i]\n",
    "            # Set coefficients for anchor point constraint on left curve\n",
    "            T̲̲[count, coeff_idx[i-1]] .= t .^(0:3)\n",
    "            # Set vector value\n",
    "            x̲[count] = spline.x[i]\n",
    "            # Update counter\n",
    "            count += 1\n",
    "            # Set coefficients for anchor point constraint on right curve\n",
    "            T̲̲[count, coeff_idx[i]] .= t .^(0:3)\n",
    "            # Set vector value\n",
    "            x̲[count] = spline.x[i]\n",
    "            # Update counter\n",
    "            count += 1\n",
    "        elseif t == minimum(spline.t)\n",
    "            # Set coefficients for anchor point constraint\n",
    "            T̲̲[count, coeff_idx[i]] .= t .^(0:3)\n",
    "            # Set vector value\n",
    "            x̲[count] = spline.x[i]\n",
    "            # Update counter\n",
    "            count += 1\n",
    "        elseif t == maximum(spline.t)\n",
    "            # Set coefficients for anchor point constraint\n",
    "            T̲̲[count, coeff_idx[i-1]] .= t .^(0:3)\n",
    "            # Set vector value\n",
    "            x̲[count] = spline.x[i]\n",
    "            # Update counter\n",
    "            count += 1\n",
    "        end # if\n",
    "    end # for\n",
    "\n",
    "    # Loop through knot points to set derivative constraints\n",
    "    for (j, t) in enumerate(spline.t)\n",
    "        # Check if point is knot\n",
    "        if spline.knot[j]\n",
    "            # Set coefficients for first derivative constraint for left curve\n",
    "            T̲̲[count, coeff_idx[j-1]] .= collect(0:3) .* t .^([0; collect(0:2)])\n",
    "            # Set coefficients for first derivative for right curve\n",
    "            T̲̲[count, coeff_idx[j]] .= - collect(0:3) .* t .^([0; collect(0:2)])\n",
    "            # Update counter\n",
    "            count += 1\n",
    "            # Set coefficients for second derivative constraint for left curve\n",
    "            T̲̲[count, coeff_idx[j-1]] .= [0.0, 0.0, 2.0, 6.0*t]\n",
    "            # Set coefficients for second derivative constraint for right curve\n",
    "            T̲̲[count, coeff_idx[j]] .= - [0.0, 0.0, 2.0, 6.0*t]\n",
    "            # Update counter\n",
    "            count += 1\n",
    "        elseif t == minimum(spline.t)\n",
    "            # Set coefficients for second derivative constraint for left curve\n",
    "            T̲̲[count, coeff_idx[j]] .= - [0.0, 0.0, 2.0, 6.0*t]\n",
    "            # Update counter\n",
    "            count += 1\n",
    "        elseif t == maximum(spline.t)\n",
    "            # Set coefficients for second derivative constraint for left curve\n",
    "            T̲̲[count, coeff_idx[j-1]] .= [0, 0, 2, 6*t]\n",
    "        end # if\n",
    "    end # for\n",
    "\n",
    "    # Compute coefficients by solving system\n",
    "    coeffs = T̲̲ \\ x̲\n",
    "\n",
    "    spline.coeff = [coeffs[x] for x in coeff_idx]\n",
    "end # function\n",
    "\n",
    "@time fit_spline!(spline)"
   ]
  },
  {
   "attachments": {},
   "cell_type": "markdown",
   "metadata": {},
   "source": [
    "Let's define a function to evaluate the cubic spline."
   ]
  },
  {
   "cell_type": "code",
   "execution_count": 148,
   "metadata": {},
   "outputs": [
    {
     "data": {
      "text/plain": [
       "eval_spline (generic function with 1 method)"
      ]
     },
     "metadata": {},
     "output_type": "display_data"
    }
   ],
   "source": [
    "function eval_spline(t::Vector{T}, spline::CubicSpline) where T <: Real\n",
    "    # Initialize array where to save evaluation\n",
    "    x = Vector{T}(undef, length(t))\n",
    "\n",
    "    # Loop through time intervals\n",
    "    for i = 2:length(spline.t)\n",
    "        # Locate all points in first segment\n",
    "        idx = spline.t[i-1] .≤ t .≤ spline.t[i]\n",
    "        # Evaluate and cubic curve\n",
    "        x[idx] = [\n",
    "            LinearAlgebra.dot(time .^(0:3), spline.coeff[i-1]) for time in t[idx]\n",
    "        ]\n",
    "    end # for \n",
    "\n",
    "    return x\n",
    "end # function"
   ]
  },
  {
   "cell_type": "code",
   "execution_count": 149,
   "metadata": {},
   "outputs": [
    {
     "data": {
      "image/png": "[encoded data removed]"
     },
     "metadata": {},
     "output_type": "display_data"
    }
   ],
   "source": [
    "# Define time range\n",
    "t_range = collect(0:0.1:maximum(spline.t))\n",
    "\n",
    "# Initialize figure\n",
    "fig = Figure(resolution=(450, 350))\n",
    "\n",
    "# Add axis\n",
    "ax = Axis(\n",
    "    fig[1, 1],\n",
    "    xlabel=\"t\",\n",
    "    ylabel=\"x(t)\",\n",
    ")\n",
    "\n",
    "# Plot spline\n",
    "lines!(\n",
    "    ax, \n",
    "    t_range, \n",
    "    eval_spline(t_range, spline), \n",
    "    color=ColorSchemes.seaborn_colorblind[2]\n",
    ")\n",
    "\n",
    "# Plot points\n",
    "scatter!(ax, spline.t, spline.x)\n",
    "\n",
    "fig"
   ]
  },
  {
   "cell_type": "code",
   "execution_count": null,
   "metadata": {},
   "outputs": [],
   "source": []
  }
 ],
 "metadata": {
  "kernelspec": {
   "display_name": "Julia 1.8.5",
   "language": "julia",
   "name": "julia-1.8"
  },
  "language_info": {
   "file_extension": ".jl",
   "mimetype": "application/julia",
   "name": "julia",
   "version": "1.8.5"
  },
  "orig_nbformat": 4
 },
 "nbformat": 4,
 "nbformat_minor": 2
}
