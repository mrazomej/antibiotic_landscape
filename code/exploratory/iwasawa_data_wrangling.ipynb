{
 "cells": [
  {
   "cell_type": "markdown",
   "metadata": {},
   "source": [
    "(c) 2023 Manuel Razo. This work is licensed under a [Creative Commons\n",
    "Attribution License CC-BY 4.0](https://creativecommons.org/licenses/by/4.0/).\n",
    "All code contained herein is licensed under an [MIT\n",
    "license](https://opensource.org/licenses/MIT)."
   ]
  },
  {
   "cell_type": "code",
   "execution_count": 1,
   "metadata": {},
   "outputs": [],
   "source": [
    "# Load project package\n",
    "@load_pkg Antibiotic\n",
    "\n",
    "import Revise\n",
    "# Import project package\n",
    "import Antibiotic \n",
    "\n",
    "# Import package to handle DataFrames\n",
    "import DataFrames as DF\n",
    "import CSV\n",
    "import XLSX\n",
    "\n",
    "# Import library to list files\n",
    "import Glob\n",
    "\n",
    "# Import packages to work with data\n",
    "import StructArrays\n",
    "import DataFrames as DF\n",
    "\n",
    "# Load CairoMakie for plotting\n",
    "using CairoMakie\n",
    "import ColorSchemes\n",
    "# Activate backend\n",
    "CairoMakie.activate!()\n",
    "\n",
    "# Set PBoC Plotting style\n",
    "Antibiotic.viz.pboc_makie!()"
   ]
  },
  {
   "attachments": {},
   "cell_type": "markdown",
   "metadata": {},
   "source": [
    "# Data Wrangling for Iwasawa et al., 2020 PLoS Comp. Bio."
   ]
  },
  {
   "attachments": {},
   "cell_type": "markdown",
   "metadata": {},
   "source": [
    "In this notebook we will transform the raw data that Iwasawa et al. gave us to a\n",
    "tidy format we can work with."
   ]
  },
  {
   "attachments": {},
   "cell_type": "markdown",
   "metadata": {},
   "source": [
    "The first thing we need to do is to list all of the files to be read. These are\n",
    "the `OD620` measurements from the plate reader and are sorted by day."
   ]
  },
  {
   "cell_type": "code",
   "execution_count": 2,
   "metadata": {},
   "outputs": [
    {
     "data": {
      "text/plain": [
       "1620-element Vector{String}:\n",
       " \"/Users/mrazo/git/antibiotic_lan\" ⋯ 52 bytes ⋯ \"shaped_od/OD_day1_plate10_1.csv\"\n",
       " \"/Users/mrazo/git/antibiotic_lan\" ⋯ 52 bytes ⋯ \"shaped_od/OD_day1_plate10_2.csv\"\n",
       " \"/Users/mrazo/git/antibiotic_lan\" ⋯ 52 bytes ⋯ \"shaped_od/OD_day1_plate11_1.csv\"\n",
       " \"/Users/mrazo/git/antibiotic_lan\" ⋯ 52 bytes ⋯ \"shaped_od/OD_day1_plate11_2.csv\"\n",
       " \"/Users/mrazo/git/antibiotic_lan\" ⋯ 52 bytes ⋯ \"shaped_od/OD_day1_plate12_1.csv\"\n",
       " \"/Users/mrazo/git/antibiotic_lan\" ⋯ 52 bytes ⋯ \"shaped_od/OD_day1_plate12_2.csv\"\n",
       " \"/Users/mrazo/git/antibiotic_lan\" ⋯ 52 bytes ⋯ \"shaped_od/OD_day1_plate13_1.csv\"\n",
       " \"/Users/mrazo/git/antibiotic_lan\" ⋯ 52 bytes ⋯ \"shaped_od/OD_day1_plate13_2.csv\"\n",
       " \"/Users/mrazo/git/antibiotic_lan\" ⋯ 52 bytes ⋯ \"shaped_od/OD_day1_plate14_1.csv\"\n",
       " \"/Users/mrazo/git/antibiotic_lan\" ⋯ 52 bytes ⋯ \"shaped_od/OD_day1_plate14_2.csv\"\n",
       " ⋮\n",
       " \"/Users/mrazo/git/antibiotic_lan\" ⋯ 51 bytes ⋯ \"eshaped_od/OD_day9_plate5_2.csv\"\n",
       " \"/Users/mrazo/git/antibiotic_lan\" ⋯ 51 bytes ⋯ \"eshaped_od/OD_day9_plate6_1.csv\"\n",
       " \"/Users/mrazo/git/antibiotic_lan\" ⋯ 51 bytes ⋯ \"eshaped_od/OD_day9_plate6_2.csv\"\n",
       " \"/Users/mrazo/git/antibiotic_lan\" ⋯ 51 bytes ⋯ \"eshaped_od/OD_day9_plate7_1.csv\"\n",
       " \"/Users/mrazo/git/antibiotic_lan\" ⋯ 51 bytes ⋯ \"eshaped_od/OD_day9_plate7_2.csv\"\n",
       " \"/Users/mrazo/git/antibiotic_lan\" ⋯ 51 bytes ⋯ \"eshaped_od/OD_day9_plate8_1.csv\"\n",
       " \"/Users/mrazo/git/antibiotic_lan\" ⋯ 51 bytes ⋯ \"eshaped_od/OD_day9_plate8_2.csv\"\n",
       " \"/Users/mrazo/git/antibiotic_lan\" ⋯ 51 bytes ⋯ \"eshaped_od/OD_day9_plate9_1.csv\"\n",
       " \"/Users/mrazo/git/antibiotic_lan\" ⋯ 51 bytes ⋯ \"eshaped_od/OD_day9_plate9_2.csv\""
      ]
     },
     "metadata": {},
     "output_type": "display_data"
    }
   ],
   "source": [
    "# List all OD files\n",
    "files_od = Glob.glob(\n",
    "    \"$(git_root())/data/Iwasawa_2022/od_raw_data/OD_data/day*/\"[2:end] *\n",
    "    \"reshaped_od/*\", \n",
    "    \"/\"\n",
    ")"
   ]
  },
  {
   "attachments": {},
   "cell_type": "markdown",
   "metadata": {},
   "source": [
    "There are 1620 raw files. According to the authors:\n",
    "> File names are defined as `OD_dayN_plateX_Y.csv` where `strain_num=2×(X-1)+Y`\n",
    "> and the evolution environment for each `strain_num` is described in\n",
    "> `./strain_num_matching.xlsx`\n",
    "\n",
    "Let's load this `strain_num_matching.xlsx` file."
   ]
  },
  {
   "cell_type": "code",
   "execution_count": 3,
   "metadata": {},
   "outputs": [
    {
     "data": {
      "text/html": [
       "<div><div style = \"float: left;\"><span>5×2 DataFrame</span></div><div style = \"clear: both;\"></div></div><div class = \"data-frame\" style = \"overflow-x: scroll;\"><table class = \"data-frame\" style = \"margin-bottom: 6px;\"><thead><tr class = \"header\"><th class = \"rowNumber\" style = \"font-weight: bold; text-align: right;\">Row</th><th style = \"text-align: left;\">strain_num</th><th style = \"text-align: left;\">strain_env</th></tr><tr class = \"subheader headerLastRow\"><th class = \"rowNumber\" style = \"font-weight: bold; text-align: right;\"></th><th title = \"Any\" style = \"text-align: left;\">Any</th><th title = \"Any\" style = \"text-align: left;\">Any</th></tr></thead><tbody><tr><td class = \"rowNumber\" style = \"font-weight: bold; text-align: right;\">1</td><td style = \"text-align: left;\">1</td><td style = \"text-align: left;\">Parent in TET</td></tr><tr><td class = \"rowNumber\" style = \"font-weight: bold; text-align: right;\">2</td><td style = \"text-align: left;\">2</td><td style = \"text-align: left;\">Parent in TET</td></tr><tr><td class = \"rowNumber\" style = \"font-weight: bold; text-align: right;\">3</td><td style = \"text-align: left;\">3</td><td style = \"text-align: left;\">Parent in TET</td></tr><tr><td class = \"rowNumber\" style = \"font-weight: bold; text-align: right;\">4</td><td style = \"text-align: left;\">4</td><td style = \"text-align: left;\">Parent in TET</td></tr><tr><td class = \"rowNumber\" style = \"font-weight: bold; text-align: right;\">5</td><td style = \"text-align: left;\">5</td><td style = \"text-align: left;\">KME1 in TET</td></tr></tbody></table></div>"
      ],
      "text/latex": [
       "\\begin{tabular}{r|cc}\n",
       "\t& strain\\_num & strain\\_env\\\\\n",
       "\t\\hline\n",
       "\t& Any & Any\\\\\n",
       "\t\\hline\n",
       "\t1 & 1 & Parent in TET \\\\\n",
       "\t2 & 2 & Parent in TET \\\\\n",
       "\t3 & 3 & Parent in TET \\\\\n",
       "\t4 & 4 & Parent in TET \\\\\n",
       "\t5 & 5 & KME1 in TET \\\\\n",
       "\\end{tabular}\n"
      ],
      "text/plain": [
       "\u001b[1m5×2 DataFrame\u001b[0m\n",
       "\u001b[1m Row \u001b[0m│\u001b[1m strain_num \u001b[0m\u001b[1m strain_env    \u001b[0m\n",
       "     │\u001b[90m Any        \u001b[0m\u001b[90m Any           \u001b[0m\n",
       "─────┼───────────────────────────\n",
       "   1 │ 1           Parent in TET\n",
       "   2 │ 2           Parent in TET\n",
       "   3 │ 3           Parent in TET\n",
       "   4 │ 4           Parent in TET\n",
       "   5 │ 5           KME1 in TET"
      ]
     },
     "metadata": {},
     "output_type": "display_data"
    }
   ],
   "source": [
    "# Load file containing strain number description\n",
    "strain_num_matching = DF.DataFrame(\n",
    "    XLSX.readtable(\n",
    "        \"$(git_root())/data/Iwasawa_2022/od_raw_data/strain_num_matching.xlsx\", \n",
    "        \"Sheet1\"\n",
    "    )\n",
    ")\n",
    "\n",
    "first(strain_num_matching, 5)"
   ]
  },
  {
   "attachments": {},
   "cell_type": "markdown",
   "metadata": {},
   "source": [
    "Furthermore, the authors describe the content of each of these CSV files as:\n",
    "\n",
    "> `OD_dayN_plateX_Y.csv` contains the OD data for a certain strain for day *N*\n",
    "> as a 8 $\\times$ 24 matrix. The eight rows represent the eight drugs (TET, KM,\n",
    "> NFLX, SS, PLM, NQO, SDC, MMC), and the 24 columns represent the 24 wells in\n",
    "> the 384-well plate which were used to make a drug concentration gradient. \n",
    "\n",
    "Let's load one of these tables."
   ]
  },
  {
   "cell_type": "code",
   "execution_count": 4,
   "metadata": {},
   "outputs": [
    {
     "data": {
      "text/html": [
       "<div><div style = \"float: left;\"><span>8×25 DataFrame</span></div><div style = \"clear: both;\"></div></div><div class = \"data-frame\" style = \"overflow-x: scroll;\"><table class = \"data-frame\" style = \"margin-bottom: 6px;\"><thead><tr class = \"header\"><th class = \"rowNumber\" style = \"font-weight: bold; text-align: right;\">Row</th><th style = \"text-align: left;\">antibiotic</th><th style = \"text-align: left;\">col1</th><th style = \"text-align: left;\">col2</th><th style = \"text-align: left;\">col3</th><th style = \"text-align: left;\">col4</th><th style = \"text-align: left;\">col5</th><th style = \"text-align: left;\">col6</th><th style = \"text-align: left;\">col7</th><th style = \"text-align: left;\">col8</th><th style = \"text-align: left;\">col9</th><th style = \"text-align: left;\">col10</th><th style = \"text-align: left;\">col11</th><th style = \"text-align: left;\">col12</th><th style = \"text-align: left;\">col13</th><th style = \"text-align: left;\">col14</th><th style = \"text-align: left;\">col15</th><th style = \"text-align: left;\">col16</th><th style = \"text-align: left;\">col17</th><th style = \"text-align: left;\">col18</th><th style = \"text-align: left;\">col19</th><th style = \"text-align: left;\">col20</th><th style = \"text-align: left;\">col21</th><th style = \"text-align: left;\">col22</th><th style = \"text-align: left;\">col23</th><th style = \"text-align: left;\">col24</th></tr><tr class = \"subheader headerLastRow\"><th class = \"rowNumber\" style = \"font-weight: bold; text-align: right;\"></th><th title = \"InlineStrings.String7\" style = \"text-align: left;\">String7</th><th title = \"Float64\" style = \"text-align: left;\">Float64</th><th title = \"Float64\" style = \"text-align: left;\">Float64</th><th title = \"Float64\" style = \"text-align: left;\">Float64</th><th title = \"Float64\" style = \"text-align: left;\">Float64</th><th title = \"Float64\" style = \"text-align: left;\">Float64</th><th title = \"Float64\" style = \"text-align: left;\">Float64</th><th title = \"Float64\" style = \"text-align: left;\">Float64</th><th title = \"Float64\" style = \"text-align: left;\">Float64</th><th title = \"Float64\" style = \"text-align: left;\">Float64</th><th title = \"Float64\" style = \"text-align: left;\">Float64</th><th title = \"Float64\" style = \"text-align: left;\">Float64</th><th title = \"Float64\" style = \"text-align: left;\">Float64</th><th title = \"Float64\" style = \"text-align: left;\">Float64</th><th title = \"Float64\" style = \"text-align: left;\">Float64</th><th title = \"Float64\" style = \"text-align: left;\">Float64</th><th title = \"Float64\" style = \"text-align: left;\">Float64</th><th title = \"Float64\" style = \"text-align: left;\">Float64</th><th title = \"Float64\" style = \"text-align: left;\">Float64</th><th title = \"Float64\" style = \"text-align: left;\">Float64</th><th title = \"Float64\" style = \"text-align: left;\">Float64</th><th title = \"Float64\" style = \"text-align: left;\">Float64</th><th title = \"Float64\" style = \"text-align: left;\">Float64</th><th title = \"Float64\" style = \"text-align: left;\">Float64</th><th title = \"Float64\" style = \"text-align: left;\">Float64</th></tr></thead><tbody><tr><td class = \"rowNumber\" style = \"font-weight: bold; text-align: right;\">1</td><td style = \"text-align: left;\">TET</td><td style = \"text-align: right;\">0.0464</td><td style = \"text-align: right;\">0.0807</td><td style = \"text-align: right;\">0.0903</td><td style = \"text-align: right;\">0.1083</td><td style = \"text-align: right;\">0.115</td><td style = \"text-align: right;\">0.1434</td><td style = \"text-align: right;\">0.1632</td><td style = \"text-align: right;\">0.1784</td><td style = \"text-align: right;\">0.1823</td><td style = \"text-align: right;\">0.1826</td><td style = \"text-align: right;\">0.1745</td><td style = \"text-align: right;\">0.1805</td><td style = \"text-align: right;\">0.1771</td><td style = \"text-align: right;\">0.1688</td><td style = \"text-align: right;\">0.1594</td><td style = \"text-align: right;\">0.1536</td><td style = \"text-align: right;\">0.1527</td><td style = \"text-align: right;\">0.1504</td><td style = \"text-align: right;\">0.1585</td><td style = \"text-align: right;\">0.1614</td><td style = \"text-align: right;\">0.1607</td><td style = \"text-align: right;\">0.1645</td><td style = \"text-align: right;\">0.1697</td><td style = \"text-align: right;\">0.1828</td></tr><tr><td class = \"rowNumber\" style = \"font-weight: bold; text-align: right;\">2</td><td style = \"text-align: left;\">KM</td><td style = \"text-align: right;\">0.0432</td><td style = \"text-align: right;\">0.0426</td><td style = \"text-align: right;\">0.0501</td><td style = \"text-align: right;\">0.0417</td><td style = \"text-align: right;\">0.0411</td><td style = \"text-align: right;\">0.0396</td><td style = \"text-align: right;\">0.0368</td><td style = \"text-align: right;\">0.0358</td><td style = \"text-align: right;\">0.0355</td><td style = \"text-align: right;\">0.0352</td><td style = \"text-align: right;\">0.0361</td><td style = \"text-align: right;\">0.0372</td><td style = \"text-align: right;\">0.0601</td><td style = \"text-align: right;\">0.1429</td><td style = \"text-align: right;\">0.1549</td><td style = \"text-align: right;\">0.1611</td><td style = \"text-align: right;\">0.1562</td><td style = \"text-align: right;\">0.1601</td><td style = \"text-align: right;\">0.1601</td><td style = \"text-align: right;\">0.1695</td><td style = \"text-align: right;\">0.1662</td><td style = \"text-align: right;\">0.1636</td><td style = \"text-align: right;\">0.1681</td><td style = \"text-align: right;\">0.1771</td></tr><tr><td class = \"rowNumber\" style = \"font-weight: bold; text-align: right;\">3</td><td style = \"text-align: left;\">NFLX</td><td style = \"text-align: right;\">0.0414</td><td style = \"text-align: right;\">0.0541</td><td style = \"text-align: right;\">0.0564</td><td style = \"text-align: right;\">0.0557</td><td style = \"text-align: right;\">0.055</td><td style = \"text-align: right;\">0.0537</td><td style = \"text-align: right;\">0.053</td><td style = \"text-align: right;\">0.0566</td><td style = \"text-align: right;\">0.1439</td><td style = \"text-align: right;\">0.1692</td><td style = \"text-align: right;\">0.1669</td><td style = \"text-align: right;\">0.1696</td><td style = \"text-align: right;\">0.1739</td><td style = \"text-align: right;\">0.1745</td><td style = \"text-align: right;\">0.1694</td><td style = \"text-align: right;\">0.1624</td><td style = \"text-align: right;\">0.16</td><td style = \"text-align: right;\">0.1582</td><td style = \"text-align: right;\">0.1566</td><td style = \"text-align: right;\">0.1552</td><td style = \"text-align: right;\">0.1571</td><td style = \"text-align: right;\">0.1529</td><td style = \"text-align: right;\">0.1524</td><td style = \"text-align: right;\">0.1649</td></tr><tr><td class = \"rowNumber\" style = \"font-weight: bold; text-align: right;\">4</td><td style = \"text-align: left;\">SS</td><td style = \"text-align: right;\">0.0415</td><td style = \"text-align: right;\">0.0436</td><td style = \"text-align: right;\">0.0464</td><td style = \"text-align: right;\">0.0447</td><td style = \"text-align: right;\">0.0413</td><td style = \"text-align: right;\">0.0401</td><td style = \"text-align: right;\">0.0372</td><td style = \"text-align: right;\">0.0363</td><td style = \"text-align: right;\">0.0361</td><td style = \"text-align: right;\">0.036</td><td style = \"text-align: right;\">0.0359</td><td style = \"text-align: right;\">0.0752</td><td style = \"text-align: right;\">0.0395</td><td style = \"text-align: right;\">0.1355</td><td style = \"text-align: right;\">0.1383</td><td style = \"text-align: right;\">0.1365</td><td style = \"text-align: right;\">0.1413</td><td style = \"text-align: right;\">0.1411</td><td style = \"text-align: right;\">0.1483</td><td style = \"text-align: right;\">0.1729</td><td style = \"text-align: right;\">0.1554</td><td style = \"text-align: right;\">0.1601</td><td style = \"text-align: right;\">0.1637</td><td style = \"text-align: right;\">0.1835</td></tr><tr><td class = \"rowNumber\" style = \"font-weight: bold; text-align: right;\">5</td><td style = \"text-align: left;\">PLM</td><td style = \"text-align: right;\">0.0427</td><td style = \"text-align: right;\">0.0472</td><td style = \"text-align: right;\">0.0473</td><td style = \"text-align: right;\">0.0456</td><td style = \"text-align: right;\">0.0432</td><td style = \"text-align: right;\">0.0424</td><td style = \"text-align: right;\">0.0395</td><td style = \"text-align: right;\">0.0402</td><td style = \"text-align: right;\">0.0393</td><td style = \"text-align: right;\">0.0428</td><td style = \"text-align: right;\">0.0604</td><td style = \"text-align: right;\">0.1918</td><td style = \"text-align: right;\">0.1835</td><td style = \"text-align: right;\">0.1889</td><td style = \"text-align: right;\">0.1816</td><td style = \"text-align: right;\">0.1763</td><td style = \"text-align: right;\">0.1741</td><td style = \"text-align: right;\">0.1728</td><td style = \"text-align: right;\">0.1757</td><td style = \"text-align: right;\">0.1688</td><td style = \"text-align: right;\">0.1647</td><td style = \"text-align: right;\">0.16</td><td style = \"text-align: right;\">0.1571</td><td style = \"text-align: right;\">0.1688</td></tr><tr><td class = \"rowNumber\" style = \"font-weight: bold; text-align: right;\">6</td><td style = \"text-align: left;\">NQO</td><td style = \"text-align: right;\">0.0417</td><td style = \"text-align: right;\">0.0431</td><td style = \"text-align: right;\">0.0431</td><td style = \"text-align: right;\">0.0423</td><td style = \"text-align: right;\">0.0422</td><td style = \"text-align: right;\">0.0407</td><td style = \"text-align: right;\">0.0375</td><td style = \"text-align: right;\">0.0377</td><td style = \"text-align: right;\">0.0375</td><td style = \"text-align: right;\">0.0479</td><td style = \"text-align: right;\">0.1479</td><td style = \"text-align: right;\">0.1801</td><td style = \"text-align: right;\">0.1624</td><td style = \"text-align: right;\">0.161</td><td style = \"text-align: right;\">0.1562</td><td style = \"text-align: right;\">0.1564</td><td style = \"text-align: right;\">0.1601</td><td style = \"text-align: right;\">0.1563</td><td style = \"text-align: right;\">0.1611</td><td style = \"text-align: right;\">0.1651</td><td style = \"text-align: right;\">0.1658</td><td style = \"text-align: right;\">0.1702</td><td style = \"text-align: right;\">0.1647</td><td style = \"text-align: right;\">0.1758</td></tr><tr><td class = \"rowNumber\" style = \"font-weight: bold; text-align: right;\">7</td><td style = \"text-align: left;\">SDC</td><td style = \"text-align: right;\">0.0445</td><td style = \"text-align: right;\">0.0458</td><td style = \"text-align: right;\">0.0472</td><td style = \"text-align: right;\">0.045</td><td style = \"text-align: right;\">0.0432</td><td style = \"text-align: right;\">0.0409</td><td style = \"text-align: right;\">0.0378</td><td style = \"text-align: right;\">0.0376</td><td style = \"text-align: right;\">0.0371</td><td style = \"text-align: right;\">0.0371</td><td style = \"text-align: right;\">0.0364</td><td style = \"text-align: right;\">0.0377</td><td style = \"text-align: right;\">0.0362</td><td style = \"text-align: right;\">0.0368</td><td style = \"text-align: right;\">0.0364</td><td style = \"text-align: right;\">0.0372</td><td style = \"text-align: right;\">0.0403</td><td style = \"text-align: right;\">0.1031</td><td style = \"text-align: right;\">0.1874</td><td style = \"text-align: right;\">0.1755</td><td style = \"text-align: right;\">0.1686</td><td style = \"text-align: right;\">0.1714</td><td style = \"text-align: right;\">0.1736</td><td style = \"text-align: right;\">0.1821</td></tr><tr><td class = \"rowNumber\" style = \"font-weight: bold; text-align: right;\">8</td><td style = \"text-align: left;\">MMC</td><td style = \"text-align: right;\">0.0452</td><td style = \"text-align: right;\">0.0535</td><td style = \"text-align: right;\">0.0497</td><td style = \"text-align: right;\">0.059</td><td style = \"text-align: right;\">0.1859</td><td style = \"text-align: right;\">0.2033</td><td style = \"text-align: right;\">0.1627</td><td style = \"text-align: right;\">0.1669</td><td style = \"text-align: right;\">0.1624</td><td style = \"text-align: right;\">0.1616</td><td style = \"text-align: right;\">0.1652</td><td style = \"text-align: right;\">0.1743</td><td style = \"text-align: right;\">0.1913</td><td style = \"text-align: right;\">0.1807</td><td style = \"text-align: right;\">0.1756</td><td style = \"text-align: right;\">0.1723</td><td style = \"text-align: right;\">0.1683</td><td style = \"text-align: right;\">0.1677</td><td style = \"text-align: right;\">0.1705</td><td style = \"text-align: right;\">0.1692</td><td style = \"text-align: right;\">0.1704</td><td style = \"text-align: right;\">0.1631</td><td style = \"text-align: right;\">0.1785</td><td style = \"text-align: right;\">0.1875</td></tr></tbody></table></div>"
      ],
      "text/latex": [
       "\\begin{tabular}{r|cccccccccc}\n",
       "\t& antibiotic & col1 & col2 & col3 & col4 & col5 & col6 & col7 & col8 & \\\\\n",
       "\t\\hline\n",
       "\t& String7 & Float64 & Float64 & Float64 & Float64 & Float64 & Float64 & Float64 & Float64 & \\\\\n",
       "\t\\hline\n",
       "\t1 & TET & 0.0464 & 0.0807 & 0.0903 & 0.1083 & 0.115 & 0.1434 & 0.1632 & 0.1784 & $\\dots$ \\\\\n",
       "\t2 & KM & 0.0432 & 0.0426 & 0.0501 & 0.0417 & 0.0411 & 0.0396 & 0.0368 & 0.0358 & $\\dots$ \\\\\n",
       "\t3 & NFLX & 0.0414 & 0.0541 & 0.0564 & 0.0557 & 0.055 & 0.0537 & 0.053 & 0.0566 & $\\dots$ \\\\\n",
       "\t4 & SS & 0.0415 & 0.0436 & 0.0464 & 0.0447 & 0.0413 & 0.0401 & 0.0372 & 0.0363 & $\\dots$ \\\\\n",
       "\t5 & PLM & 0.0427 & 0.0472 & 0.0473 & 0.0456 & 0.0432 & 0.0424 & 0.0395 & 0.0402 & $\\dots$ \\\\\n",
       "\t6 & NQO & 0.0417 & 0.0431 & 0.0431 & 0.0423 & 0.0422 & 0.0407 & 0.0375 & 0.0377 & $\\dots$ \\\\\n",
       "\t7 & SDC & 0.0445 & 0.0458 & 0.0472 & 0.045 & 0.0432 & 0.0409 & 0.0378 & 0.0376 & $\\dots$ \\\\\n",
       "\t8 & MMC & 0.0452 & 0.0535 & 0.0497 & 0.059 & 0.1859 & 0.2033 & 0.1627 & 0.1669 & $\\dots$ \\\\\n",
       "\\end{tabular}\n"
      ],
      "text/plain": [
       "\u001b[1m8×25 DataFrame\u001b[0m\n",
       "\u001b[1m Row \u001b[0m│\u001b[1m antibiotic \u001b[0m\u001b[1m col1    \u001b[0m\u001b[1m col2    \u001b[0m\u001b[1m col3    \u001b[0m\u001b[1m col4    \u001b[0m\u001b[1m col5    \u001b[0m\u001b[1m col6    \u001b[0m\u001b[1m col7 \u001b[0m ⋯\n",
       "     │\u001b[90m String7    \u001b[0m\u001b[90m Float64 \u001b[0m\u001b[90m Float64 \u001b[0m\u001b[90m Float64 \u001b[0m\u001b[90m Float64 \u001b[0m\u001b[90m Float64 \u001b[0m\u001b[90m Float64 \u001b[0m\u001b[90m Float\u001b[0m ⋯\n",
       "─────┼──────────────────────────────────────────────────────────────────────────\n",
       "   1 │ TET          0.0464   0.0807   0.0903   0.1083   0.115    0.1434   0.16 ⋯\n",
       "   2 │ KM           0.0432   0.0426   0.0501   0.0417   0.0411   0.0396   0.03\n",
       "   3 │ NFLX         0.0414   0.0541   0.0564   0.0557   0.055    0.0537   0.05\n",
       "   4 │ SS           0.0415   0.0436   0.0464   0.0447   0.0413   0.0401   0.03\n",
       "   5 │ PLM          0.0427   0.0472   0.0473   0.0456   0.0432   0.0424   0.03 ⋯\n",
       "   6 │ NQO          0.0417   0.0431   0.0431   0.0423   0.0422   0.0407   0.03\n",
       "   7 │ SDC          0.0445   0.0458   0.0472   0.045    0.0432   0.0409   0.03\n",
       "   8 │ MMC          0.0452   0.0535   0.0497   0.059    0.1859   0.2033   0.16\n",
       "\u001b[36m                                                              18 columns omitted\u001b[0m"
      ]
     },
     "metadata": {},
     "output_type": "display_data"
    }
   ],
   "source": [
    "# Load example table\n",
    "df_od_ex = CSV.read(files_od[1], DF.DataFrame)\n",
    "\n",
    "# Rename antibiotic column\n",
    "DF.rename!(df_od_ex, \"Column1\" => :antibiotic)\n",
    "# Rename column names\n",
    "DF.rename!(df_od_ex, Dict(zip(string.(1:24), \"col\" .* string.(1:24))))"
   ]
  },
  {
   "attachments": {},
   "cell_type": "markdown",
   "metadata": {},
   "source": [
    "Each entry in this table is the final OD measurement as determined by their\n",
    "plate reader for each of the different concentrations of the drugs. To know what\n",
    "the concentration on each well was, the authors provide a series of tables with\n",
    "the designs of each plate. These design specifications are stored in the\n",
    "`od_raw_data/conc_data/` directory. Let's load all 8 plate designs."
   ]
  },
  {
   "cell_type": "code",
   "execution_count": 5,
   "metadata": {},
   "outputs": [
    {
     "data": {
      "text/html": [
       "<div><div style = \"float: left;\"><span>9×5 DataFrame</span></div><div style = \"clear: both;\"></div></div><div class = \"data-frame\" style = \"overflow-x: scroll;\"><table class = \"data-frame\" style = \"margin-bottom: 6px;\"><thead><tr class = \"header\"><th class = \"rowNumber\" style = \"font-weight: bold; text-align: right;\">Row</th><th style = \"text-align: left;\">StressName</th><th style = \"text-align: left;\">StockConcentration_mg_per_ml</th><th style = \"text-align: left;\">MaxConc_ug_per_ml</th><th style = \"text-align: left;\">step_size</th><th style = \"text-align: left;\">plate</th></tr><tr class = \"subheader headerLastRow\"><th class = \"rowNumber\" style = \"font-weight: bold; text-align: right;\"></th><th title = \"Any\" style = \"text-align: left;\">Any</th><th title = \"Any\" style = \"text-align: left;\">Any</th><th title = \"Any\" style = \"text-align: left;\">Any</th><th title = \"Any\" style = \"text-align: left;\">Any</th><th title = \"Int64\" style = \"text-align: left;\">Int64</th></tr></thead><tbody><tr><td class = \"rowNumber\" style = \"font-weight: bold; text-align: right;\">1</td><td style = \"text-align: left;\">TET</td><td style = \"text-align: left;\">0.05</td><td style = \"text-align: left;\">4.73029</td><td style = \"text-align: left;\">0.25</td><td style = \"text-align: right;\">1</td></tr><tr><td class = \"rowNumber\" style = \"font-weight: bold; text-align: right;\">2</td><td style = \"text-align: left;\">KM</td><td style = \"text-align: left;\">1.5</td><td style = \"text-align: left;\">141.909</td><td style = \"text-align: left;\">0.25</td><td style = \"text-align: right;\">1</td></tr><tr><td class = \"rowNumber\" style = \"font-weight: bold; text-align: right;\">3</td><td style = \"text-align: left;\">NFLX</td><td style = \"text-align: left;\">0.005</td><td style = \"text-align: left;\">0.473029</td><td style = \"text-align: left;\">0.25</td><td style = \"text-align: right;\">1</td></tr><tr><td class = \"rowNumber\" style = \"font-weight: bold; text-align: right;\">4</td><td style = \"text-align: left;\">SS</td><td style = \"text-align: left;\">50</td><td style = \"text-align: left;\">3977.48</td><td style = \"text-align: left;\">0.5</td><td style = \"text-align: right;\">1</td></tr><tr><td class = \"rowNumber\" style = \"font-weight: bold; text-align: right;\">5</td><td style = \"text-align: left;\">PLM</td><td style = \"text-align: left;\">1</td><td style = \"text-align: left;\">79.5495</td><td style = \"text-align: left;\">0.5</td><td style = \"text-align: right;\">1</td></tr><tr><td class = \"rowNumber\" style = \"font-weight: bold; text-align: right;\">6</td><td style = \"text-align: left;\">NQO</td><td style = \"text-align: left;\">0.2</td><td style = \"text-align: left;\">15.9099</td><td style = \"text-align: left;\">0.5</td><td style = \"text-align: right;\">1</td></tr><tr><td class = \"rowNumber\" style = \"font-weight: bold; text-align: right;\">7</td><td style = \"text-align: left;\">SDC</td><td style = \"text-align: left;\">2</td><td style = \"text-align: left;\">159.099</td><td style = \"text-align: left;\">0.5</td><td style = \"text-align: right;\">1</td></tr><tr><td class = \"rowNumber\" style = \"font-weight: bold; text-align: right;\">8</td><td style = \"text-align: left;\">MMC</td><td style = \"text-align: left;\">0.145</td><td style = \"text-align: left;\">11.5347</td><td style = \"text-align: left;\">0.5</td><td style = \"text-align: right;\">1</td></tr><tr><td class = \"rowNumber\" style = \"font-weight: bold; text-align: right;\">9</td><td style = \"text-align: left;\">TET</td><td style = \"text-align: left;\">0.02</td><td style = \"text-align: left;\">1.89212</td><td style = \"text-align: left;\">0.25</td><td style = \"text-align: right;\">2</td></tr></tbody></table></div>"
      ],
      "text/latex": [
       "\\begin{tabular}{r|ccccc}\n",
       "\t& StressName & StockConcentration\\_mg\\_per\\_ml & MaxConc\\_ug\\_per\\_ml & step\\_size & plate\\\\\n",
       "\t\\hline\n",
       "\t& Any & Any & Any & Any & Int64\\\\\n",
       "\t\\hline\n",
       "\t1 & TET & 0.05 & 4.73029 & 0.25 & 1 \\\\\n",
       "\t2 & KM & 1.5 & 141.909 & 0.25 & 1 \\\\\n",
       "\t3 & NFLX & 0.005 & 0.473029 & 0.25 & 1 \\\\\n",
       "\t4 & SS & 50 & 3977.48 & 0.5 & 1 \\\\\n",
       "\t5 & PLM & 1 & 79.5495 & 0.5 & 1 \\\\\n",
       "\t6 & NQO & 0.2 & 15.9099 & 0.5 & 1 \\\\\n",
       "\t7 & SDC & 2 & 159.099 & 0.5 & 1 \\\\\n",
       "\t8 & MMC & 0.145 & 11.5347 & 0.5 & 1 \\\\\n",
       "\t9 & TET & 0.02 & 1.89212 & 0.25 & 2 \\\\\n",
       "\\end{tabular}\n"
      ],
      "text/plain": [
       "\u001b[1m9×5 DataFrame\u001b[0m\n",
       "\u001b[1m Row \u001b[0m│\u001b[1m StressName \u001b[0m\u001b[1m StockConcentration_mg_per_ml \u001b[0m\u001b[1m MaxConc_ug_per_ml \u001b[0m\u001b[1m step_size \u001b[0m\u001b[1m\u001b[0m ⋯\n",
       "     │\u001b[90m Any        \u001b[0m\u001b[90m Any                          \u001b[0m\u001b[90m Any               \u001b[0m\u001b[90m Any       \u001b[0m\u001b[90m\u001b[0m ⋯\n",
       "─────┼──────────────────────────────────────────────────────────────────────────\n",
       "   1 │ TET         0.05                          4.73029            0.25       ⋯\n",
       "   2 │ KM          1.5                           141.909            0.25\n",
       "   3 │ NFLX        0.005                         0.473029           0.25\n",
       "   4 │ SS          50                            3977.48            0.5\n",
       "   5 │ PLM         1                             79.5495            0.5        ⋯\n",
       "   6 │ NQO         0.2                           15.9099            0.5\n",
       "   7 │ SDC         2                             159.099            0.5\n",
       "   8 │ MMC         0.145                         11.5347            0.5\n",
       "   9 │ TET         0.02                          1.89212            0.25       ⋯\n",
       "\u001b[36m                                                                1 column omitted\u001b[0m"
      ]
     },
     "metadata": {},
     "output_type": "display_data"
    }
   ],
   "source": [
    "# List files with plate designs\n",
    "files_conc = Glob.glob(\n",
    "    \"$(git_root())/data/Iwasawa_2022/od_raw_data/conc_data/Plate*.xlsx\"[2:end], \n",
    "    \"/\"\n",
    ")\n",
    "\n",
    "# Initialize dataframe where to store plate design\n",
    "df_design = DF.DataFrame()\n",
    "\n",
    "# Loop through files\n",
    "for f in files_conc\n",
    "    # Extract plate number from file name\n",
    "    pnum = parse(\n",
    "        Int64, replace(split(f, \"/\")[end], \"Plate\" => \"\", \".xlsx\" => \"\")\n",
    "    )\n",
    "    # Read file into memory\n",
    "    df = DF.DataFrame(XLSX.readtable(f, \"Sheet1\"))\n",
    "    # Add plate number columnd\n",
    "    df[!, \"plate\"] .= pnum\n",
    "    # Append to global dataframe\n",
    "    append!(df_design, df)\n",
    "end # for\n",
    "\n",
    "first(df_design, 9)"
   ]
  },
  {
   "attachments": {},
   "cell_type": "markdown",
   "metadata": {},
   "source": [
    "The way the concentrations are built from this is as follows: \n",
    "- The first column of each plate **is the blank** where no strains grew.\n",
    "- The second column of each strain contains the **maximum** antibiotic\n",
    "  concentration as dictated by the column `MaxConc_ug_per_ml`.\n",
    "- Each successive well (except the last one) is diluted with respect to the\n",
    "  previous well by a factor of `1 / 2^step_size`. This is because the\n",
    "  `step_size` column defines the exponent for how much the concentration\n",
    "  increases from right to left.\n",
    "- The last well has no antibiotic."
   ]
  },
  {
   "attachments": {},
   "cell_type": "markdown",
   "metadata": {},
   "source": [
    "Given this information, we should be able to build an 8 $\\times$ 24 matrix with\n",
    "the drug concentration for each plate. Let's do it for plate 1 as an example."
   ]
  },
  {
   "cell_type": "code",
   "execution_count": 6,
   "metadata": {},
   "outputs": [
    {
     "data": {
      "text/html": [
       "<div><div style = \"float: left;\"><span>8×25 DataFrame</span></div><div style = \"clear: both;\"></div></div><div class = \"data-frame\" style = \"overflow-x: scroll;\"><table class = \"data-frame\" style = \"margin-bottom: 6px;\"><thead><tr class = \"header\"><th class = \"rowNumber\" style = \"font-weight: bold; text-align: right;\">Row</th><th style = \"text-align: left;\">antibiotic</th><th style = \"text-align: left;\">col1</th><th style = \"text-align: left;\">col2</th><th style = \"text-align: left;\">col3</th><th style = \"text-align: left;\">col4</th><th style = \"text-align: left;\">col5</th><th style = \"text-align: left;\">col6</th><th style = \"text-align: left;\">col7</th><th style = \"text-align: left;\">col8</th><th style = \"text-align: left;\">col9</th><th style = \"text-align: left;\">col10</th><th style = \"text-align: left;\">col11</th><th style = \"text-align: left;\">col12</th><th style = \"text-align: left;\">col13</th><th style = \"text-align: left;\">col14</th><th style = \"text-align: left;\">col15</th><th style = \"text-align: left;\">col16</th><th style = \"text-align: left;\">col17</th><th style = \"text-align: left;\">col18</th><th style = \"text-align: left;\">col19</th><th style = \"text-align: left;\">col20</th><th style = \"text-align: left;\">col21</th><th style = \"text-align: left;\">col22</th><th style = \"text-align: left;\">col23</th><th style = \"text-align: left;\">col24</th></tr><tr class = \"subheader headerLastRow\"><th class = \"rowNumber\" style = \"font-weight: bold; text-align: right;\"></th><th title = \"InlineStrings.String7\" style = \"text-align: left;\">String7</th><th title = \"Float64\" style = \"text-align: left;\">Float64</th><th title = \"Float64\" style = \"text-align: left;\">Float64</th><th title = \"Float64\" style = \"text-align: left;\">Float64</th><th title = \"Float64\" style = \"text-align: left;\">Float64</th><th title = \"Float64\" style = \"text-align: left;\">Float64</th><th title = \"Float64\" style = \"text-align: left;\">Float64</th><th title = \"Float64\" style = \"text-align: left;\">Float64</th><th title = \"Float64\" style = \"text-align: left;\">Float64</th><th title = \"Float64\" style = \"text-align: left;\">Float64</th><th title = \"Float64\" style = \"text-align: left;\">Float64</th><th title = \"Float64\" style = \"text-align: left;\">Float64</th><th title = \"Float64\" style = \"text-align: left;\">Float64</th><th title = \"Float64\" style = \"text-align: left;\">Float64</th><th title = \"Float64\" style = \"text-align: left;\">Float64</th><th title = \"Float64\" style = \"text-align: left;\">Float64</th><th title = \"Float64\" style = \"text-align: left;\">Float64</th><th title = \"Float64\" style = \"text-align: left;\">Float64</th><th title = \"Float64\" style = \"text-align: left;\">Float64</th><th title = \"Float64\" style = \"text-align: left;\">Float64</th><th title = \"Float64\" style = \"text-align: left;\">Float64</th><th title = \"Float64\" style = \"text-align: left;\">Float64</th><th title = \"Float64\" style = \"text-align: left;\">Float64</th><th title = \"Float64\" style = \"text-align: left;\">Float64</th><th title = \"Float64\" style = \"text-align: left;\">Float64</th></tr></thead><tbody><tr><td class = \"rowNumber\" style = \"font-weight: bold; text-align: right;\">1</td><td style = \"text-align: left;\">TET</td><td style = \"text-align: right;\">0.0</td><td style = \"text-align: right;\">4.73029</td><td style = \"text-align: right;\">3.97769</td><td style = \"text-align: right;\">3.34482</td><td style = \"text-align: right;\">2.81265</td><td style = \"text-align: right;\">2.36515</td><td style = \"text-align: right;\">1.98884</td><td style = \"text-align: right;\">1.67241</td><td style = \"text-align: right;\">1.40632</td><td style = \"text-align: right;\">1.18257</td><td style = \"text-align: right;\">0.994422</td><td style = \"text-align: right;\">0.836206</td><td style = \"text-align: right;\">0.703162</td><td style = \"text-align: right;\">0.591287</td><td style = \"text-align: right;\">0.497211</td><td style = \"text-align: right;\">0.418103</td><td style = \"text-align: right;\">0.351581</td><td style = \"text-align: right;\">0.295643</td><td style = \"text-align: right;\">0.248605</td><td style = \"text-align: right;\">0.209051</td><td style = \"text-align: right;\">0.175791</td><td style = \"text-align: right;\">0.147822</td><td style = \"text-align: right;\">0.124303</td><td style = \"text-align: right;\">0.0</td></tr><tr><td class = \"rowNumber\" style = \"font-weight: bold; text-align: right;\">2</td><td style = \"text-align: left;\">KM</td><td style = \"text-align: right;\">0.0</td><td style = \"text-align: right;\">141.909</td><td style = \"text-align: right;\">119.331</td><td style = \"text-align: right;\">100.345</td><td style = \"text-align: right;\">84.3795</td><td style = \"text-align: right;\">70.9544</td><td style = \"text-align: right;\">59.6653</td><td style = \"text-align: right;\">50.1723</td><td style = \"text-align: right;\">42.1897</td><td style = \"text-align: right;\">35.4772</td><td style = \"text-align: right;\">29.8327</td><td style = \"text-align: right;\">25.0862</td><td style = \"text-align: right;\">21.0949</td><td style = \"text-align: right;\">17.7386</td><td style = \"text-align: right;\">14.9163</td><td style = \"text-align: right;\">12.5431</td><td style = \"text-align: right;\">10.5474</td><td style = \"text-align: right;\">8.8693</td><td style = \"text-align: right;\">7.45816</td><td style = \"text-align: right;\">6.27154</td><td style = \"text-align: right;\">5.27372</td><td style = \"text-align: right;\">4.43465</td><td style = \"text-align: right;\">3.72908</td><td style = \"text-align: right;\">0.0</td></tr><tr><td class = \"rowNumber\" style = \"font-weight: bold; text-align: right;\">3</td><td style = \"text-align: left;\">NFLX</td><td style = \"text-align: right;\">0.0</td><td style = \"text-align: right;\">0.473029</td><td style = \"text-align: right;\">0.397769</td><td style = \"text-align: right;\">0.334482</td><td style = \"text-align: right;\">0.281265</td><td style = \"text-align: right;\">0.236515</td><td style = \"text-align: right;\">0.198884</td><td style = \"text-align: right;\">0.167241</td><td style = \"text-align: right;\">0.140632</td><td style = \"text-align: right;\">0.118257</td><td style = \"text-align: right;\">0.0994422</td><td style = \"text-align: right;\">0.0836206</td><td style = \"text-align: right;\">0.0703162</td><td style = \"text-align: right;\">0.0591287</td><td style = \"text-align: right;\">0.0497211</td><td style = \"text-align: right;\">0.0418103</td><td style = \"text-align: right;\">0.0351581</td><td style = \"text-align: right;\">0.0295643</td><td style = \"text-align: right;\">0.0248605</td><td style = \"text-align: right;\">0.0209051</td><td style = \"text-align: right;\">0.0175791</td><td style = \"text-align: right;\">0.0147822</td><td style = \"text-align: right;\">0.0124303</td><td style = \"text-align: right;\">0.0</td></tr><tr><td class = \"rowNumber\" style = \"font-weight: bold; text-align: right;\">4</td><td style = \"text-align: left;\">SS</td><td style = \"text-align: right;\">0.0</td><td style = \"text-align: right;\">3977.48</td><td style = \"text-align: right;\">2812.5</td><td style = \"text-align: right;\">1988.74</td><td style = \"text-align: right;\">1406.25</td><td style = \"text-align: right;\">994.369</td><td style = \"text-align: right;\">703.125</td><td style = \"text-align: right;\">497.184</td><td style = \"text-align: right;\">351.562</td><td style = \"text-align: right;\">248.592</td><td style = \"text-align: right;\">175.781</td><td style = \"text-align: right;\">124.296</td><td style = \"text-align: right;\">87.8906</td><td style = \"text-align: right;\">62.1481</td><td style = \"text-align: right;\">43.9453</td><td style = \"text-align: right;\">31.074</td><td style = \"text-align: right;\">21.9727</td><td style = \"text-align: right;\">15.537</td><td style = \"text-align: right;\">10.9863</td><td style = \"text-align: right;\">7.76851</td><td style = \"text-align: right;\">5.49316</td><td style = \"text-align: right;\">3.88425</td><td style = \"text-align: right;\">2.74658</td><td style = \"text-align: right;\">0.0</td></tr><tr><td class = \"rowNumber\" style = \"font-weight: bold; text-align: right;\">5</td><td style = \"text-align: left;\">PLM</td><td style = \"text-align: right;\">0.0</td><td style = \"text-align: right;\">79.5495</td><td style = \"text-align: right;\">56.25</td><td style = \"text-align: right;\">39.7748</td><td style = \"text-align: right;\">28.125</td><td style = \"text-align: right;\">19.8874</td><td style = \"text-align: right;\">14.0625</td><td style = \"text-align: right;\">9.94369</td><td style = \"text-align: right;\">7.03125</td><td style = \"text-align: right;\">4.97184</td><td style = \"text-align: right;\">3.51562</td><td style = \"text-align: right;\">2.48592</td><td style = \"text-align: right;\">1.75781</td><td style = \"text-align: right;\">1.24296</td><td style = \"text-align: right;\">0.878906</td><td style = \"text-align: right;\">0.621481</td><td style = \"text-align: right;\">0.439453</td><td style = \"text-align: right;\">0.31074</td><td style = \"text-align: right;\">0.219727</td><td style = \"text-align: right;\">0.15537</td><td style = \"text-align: right;\">0.109863</td><td style = \"text-align: right;\">0.0776851</td><td style = \"text-align: right;\">0.0549316</td><td style = \"text-align: right;\">0.0</td></tr><tr><td class = \"rowNumber\" style = \"font-weight: bold; text-align: right;\">6</td><td style = \"text-align: left;\">NQO</td><td style = \"text-align: right;\">0.0</td><td style = \"text-align: right;\">15.9099</td><td style = \"text-align: right;\">11.25</td><td style = \"text-align: right;\">7.95495</td><td style = \"text-align: right;\">5.625</td><td style = \"text-align: right;\">3.97748</td><td style = \"text-align: right;\">2.8125</td><td style = \"text-align: right;\">1.98874</td><td style = \"text-align: right;\">1.40625</td><td style = \"text-align: right;\">0.994369</td><td style = \"text-align: right;\">0.703125</td><td style = \"text-align: right;\">0.497184</td><td style = \"text-align: right;\">0.351562</td><td style = \"text-align: right;\">0.248592</td><td style = \"text-align: right;\">0.175781</td><td style = \"text-align: right;\">0.124296</td><td style = \"text-align: right;\">0.0878906</td><td style = \"text-align: right;\">0.0621481</td><td style = \"text-align: right;\">0.0439453</td><td style = \"text-align: right;\">0.031074</td><td style = \"text-align: right;\">0.0219727</td><td style = \"text-align: right;\">0.015537</td><td style = \"text-align: right;\">0.0109863</td><td style = \"text-align: right;\">0.0</td></tr><tr><td class = \"rowNumber\" style = \"font-weight: bold; text-align: right;\">7</td><td style = \"text-align: left;\">SDC</td><td style = \"text-align: right;\">0.0</td><td style = \"text-align: right;\">159.099</td><td style = \"text-align: right;\">112.5</td><td style = \"text-align: right;\">79.5495</td><td style = \"text-align: right;\">56.25</td><td style = \"text-align: right;\">39.7748</td><td style = \"text-align: right;\">28.125</td><td style = \"text-align: right;\">19.8874</td><td style = \"text-align: right;\">14.0625</td><td style = \"text-align: right;\">9.94369</td><td style = \"text-align: right;\">7.03125</td><td style = \"text-align: right;\">4.97184</td><td style = \"text-align: right;\">3.51562</td><td style = \"text-align: right;\">2.48592</td><td style = \"text-align: right;\">1.75781</td><td style = \"text-align: right;\">1.24296</td><td style = \"text-align: right;\">0.878906</td><td style = \"text-align: right;\">0.621481</td><td style = \"text-align: right;\">0.439453</td><td style = \"text-align: right;\">0.31074</td><td style = \"text-align: right;\">0.219727</td><td style = \"text-align: right;\">0.15537</td><td style = \"text-align: right;\">0.109863</td><td style = \"text-align: right;\">0.0</td></tr><tr><td class = \"rowNumber\" style = \"font-weight: bold; text-align: right;\">8</td><td style = \"text-align: left;\">MMC</td><td style = \"text-align: right;\">0.0</td><td style = \"text-align: right;\">11.5347</td><td style = \"text-align: right;\">8.15625</td><td style = \"text-align: right;\">5.76734</td><td style = \"text-align: right;\">4.07812</td><td style = \"text-align: right;\">2.88367</td><td style = \"text-align: right;\">2.03906</td><td style = \"text-align: right;\">1.44183</td><td style = \"text-align: right;\">1.01953</td><td style = \"text-align: right;\">0.720917</td><td style = \"text-align: right;\">0.509766</td><td style = \"text-align: right;\">0.360459</td><td style = \"text-align: right;\">0.254883</td><td style = \"text-align: right;\">0.180229</td><td style = \"text-align: right;\">0.127441</td><td style = \"text-align: right;\">0.0901147</td><td style = \"text-align: right;\">0.0637207</td><td style = \"text-align: right;\">0.0450573</td><td style = \"text-align: right;\">0.0318604</td><td style = \"text-align: right;\">0.0225287</td><td style = \"text-align: right;\">0.0159302</td><td style = \"text-align: right;\">0.0112643</td><td style = \"text-align: right;\">0.00796509</td><td style = \"text-align: right;\">0.0</td></tr></tbody></table></div>"
      ],
      "text/latex": [
       "\\begin{tabular}{r|ccccccccc}\n",
       "\t& antibiotic & col1 & col2 & col3 & col4 & col5 & col6 & col7 & \\\\\n",
       "\t\\hline\n",
       "\t& String7 & Float64 & Float64 & Float64 & Float64 & Float64 & Float64 & Float64 & \\\\\n",
       "\t\\hline\n",
       "\t1 & TET & 0.0 & 4.73029 & 3.97769 & 3.34482 & 2.81265 & 2.36515 & 1.98884 & $\\dots$ \\\\\n",
       "\t2 & KM & 0.0 & 141.909 & 119.331 & 100.345 & 84.3795 & 70.9544 & 59.6653 & $\\dots$ \\\\\n",
       "\t3 & NFLX & 0.0 & 0.473029 & 0.397769 & 0.334482 & 0.281265 & 0.236515 & 0.198884 & $\\dots$ \\\\\n",
       "\t4 & SS & 0.0 & 3977.48 & 2812.5 & 1988.74 & 1406.25 & 994.369 & 703.125 & $\\dots$ \\\\\n",
       "\t5 & PLM & 0.0 & 79.5495 & 56.25 & 39.7748 & 28.125 & 19.8874 & 14.0625 & $\\dots$ \\\\\n",
       "\t6 & NQO & 0.0 & 15.9099 & 11.25 & 7.95495 & 5.625 & 3.97748 & 2.8125 & $\\dots$ \\\\\n",
       "\t7 & SDC & 0.0 & 159.099 & 112.5 & 79.5495 & 56.25 & 39.7748 & 28.125 & $\\dots$ \\\\\n",
       "\t8 & MMC & 0.0 & 11.5347 & 8.15625 & 5.76734 & 4.07812 & 2.88367 & 2.03906 & $\\dots$ \\\\\n",
       "\\end{tabular}\n"
      ],
      "text/plain": [
       "\u001b[1m8×25 DataFrame\u001b[0m\n",
       "\u001b[1m Row \u001b[0m│\u001b[1m antibiotic \u001b[0m\u001b[1m col1    \u001b[0m\u001b[1m col2        \u001b[0m\u001b[1m col3        \u001b[0m\u001b[1m col4        \u001b[0m\u001b[1m col5       \u001b[0m ⋯\n",
       "     │\u001b[90m String7    \u001b[0m\u001b[90m Float64 \u001b[0m\u001b[90m Float64     \u001b[0m\u001b[90m Float64     \u001b[0m\u001b[90m Float64     \u001b[0m\u001b[90m Float64    \u001b[0m ⋯\n",
       "─────┼──────────────────────────────────────────────────────────────────────────\n",
       "   1 │ TET             0.0     4.73029      3.97769      3.34482      2.81265  ⋯\n",
       "   2 │ KM              0.0   141.909      119.331      100.345       84.3795\n",
       "   3 │ NFLX            0.0     0.473029     0.397769     0.334482     0.281265\n",
       "   4 │ SS              0.0  3977.48      2812.5       1988.74      1406.25\n",
       "   5 │ PLM             0.0    79.5495      56.25        39.7748      28.125    ⋯\n",
       "   6 │ NQO             0.0    15.9099      11.25         7.95495      5.625\n",
       "   7 │ SDC             0.0   159.099      112.5         79.5495      56.25\n",
       "   8 │ MMC             0.0    11.5347       8.15625      5.76734      4.07812\n",
       "\u001b[36m                                                              19 columns omitted\u001b[0m"
      ]
     },
     "metadata": {},
     "output_type": "display_data"
    }
   ],
   "source": [
    "# Extract plate design\n",
    "df_plate = df_design[df_design.plate .== 1, :]\n",
    "# Generate a DataFrame with the same structure as the OD examples\n",
    "df_conc_ex = similar(df_od_ex)\n",
    "# Set first column to be the drug name\n",
    "df_conc_ex[:, :antibiotic] = df_plate[:, :StressName]\n",
    "# Define the zero-concentration columns\n",
    "df_conc_ex[:, [2, 25]] .= 0.0\n",
    "# Loop through the rest of the columns\n",
    "for (i, col) in enumerate(3:24)\n",
    "    # Compute concentration\n",
    "    df_conc_ex[:, col] = df_plate[:, :MaxConc_ug_per_ml] ./ \n",
    "                         2.0 .^((i - 1) .* df_plate[:, :step_size])\n",
    "end # for\n",
    "\n",
    "df_conc_ex"
   ]
  },
  {
   "attachments": {},
   "cell_type": "markdown",
   "metadata": {},
   "source": [
    "To make sure that this is correct, let's plot the OD of our example plate as a\n",
    "function of the concentration we computed."
   ]
  },
  {
   "cell_type": "code",
   "execution_count": 7,
   "metadata": {},
   "outputs": [
    {
     "data": {
      "image/png": "[encoded data removed]"
     },
     "metadata": {},
     "output_type": "display_data"
    }
   ],
   "source": [
    "# Initialize figure\n",
    "fig = Figure(resolution=(350, 250))\n",
    "\n",
    "# Add axis\n",
    "ax = Axis(\n",
    "    fig[1, 1],\n",
    "    xlabel=\"antibiotic concentration\",\n",
    "    ylabel=\"OD₆₂₀\",\n",
    "    xscale=log10\n",
    ")\n",
    "\n",
    "# Add line for antibiotic\n",
    "scatterlines!(\n",
    "    ax, Vector(df_conc_ex[2, 3:end-1]), Vector(df_od_ex[2, 3:end-1]),\n",
    ")\n",
    "\n",
    "fig"
   ]
  },
  {
   "attachments": {},
   "cell_type": "markdown",
   "metadata": {},
   "source": [
    "This is exactly the behavior we expect. Therefore, our concentration matrix is\n",
    "correct. Let's build a DataFrame with all the plate designs concentrations."
   ]
  },
  {
   "cell_type": "code",
   "execution_count": 8,
   "metadata": {},
   "outputs": [
    {
     "data": {
      "text/html": [
       "<div><div style = \"float: left;\"><span>5×26 DataFrame</span></div><div style = \"clear: both;\"></div></div><div class = \"data-frame\" style = \"overflow-x: scroll;\"><table class = \"data-frame\" style = \"margin-bottom: 6px;\"><thead><tr class = \"header\"><th class = \"rowNumber\" style = \"font-weight: bold; text-align: right;\">Row</th><th style = \"text-align: left;\">antibiotic</th><th style = \"text-align: left;\">col1</th><th style = \"text-align: left;\">col2</th><th style = \"text-align: left;\">col3</th><th style = \"text-align: left;\">col4</th><th style = \"text-align: left;\">col5</th><th style = \"text-align: left;\">col6</th><th style = \"text-align: left;\">col7</th><th style = \"text-align: left;\">col8</th><th style = \"text-align: left;\">col9</th><th style = \"text-align: left;\">col10</th><th style = \"text-align: left;\">col11</th><th style = \"text-align: left;\">col12</th><th style = \"text-align: left;\">col13</th><th style = \"text-align: left;\">col14</th><th style = \"text-align: left;\">col15</th><th style = \"text-align: left;\">col16</th><th style = \"text-align: left;\">col17</th><th style = \"text-align: left;\">col18</th><th style = \"text-align: left;\">col19</th><th style = \"text-align: left;\">col20</th><th style = \"text-align: left;\">col21</th><th style = \"text-align: left;\">col22</th><th style = \"text-align: left;\">col23</th><th style = \"text-align: left;\">col24</th><th style = \"text-align: left;\">design</th></tr><tr class = \"subheader headerLastRow\"><th class = \"rowNumber\" style = \"font-weight: bold; text-align: right;\"></th><th title = \"InlineStrings.String7\" style = \"text-align: left;\">String7</th><th title = \"Float64\" style = \"text-align: left;\">Float64</th><th title = \"Float64\" style = \"text-align: left;\">Float64</th><th title = \"Float64\" style = \"text-align: left;\">Float64</th><th title = \"Float64\" style = \"text-align: left;\">Float64</th><th title = \"Float64\" style = \"text-align: left;\">Float64</th><th title = \"Float64\" style = \"text-align: left;\">Float64</th><th title = \"Float64\" style = \"text-align: left;\">Float64</th><th title = \"Float64\" style = \"text-align: left;\">Float64</th><th title = \"Float64\" style = \"text-align: left;\">Float64</th><th title = \"Float64\" style = \"text-align: left;\">Float64</th><th title = \"Float64\" style = \"text-align: left;\">Float64</th><th title = \"Float64\" style = \"text-align: left;\">Float64</th><th title = \"Float64\" style = \"text-align: left;\">Float64</th><th title = \"Float64\" style = \"text-align: left;\">Float64</th><th title = \"Float64\" style = \"text-align: left;\">Float64</th><th title = \"Float64\" style = \"text-align: left;\">Float64</th><th title = \"Float64\" style = \"text-align: left;\">Float64</th><th title = \"Float64\" style = \"text-align: left;\">Float64</th><th title = \"Float64\" style = \"text-align: left;\">Float64</th><th title = \"Float64\" style = \"text-align: left;\">Float64</th><th title = \"Float64\" style = \"text-align: left;\">Float64</th><th title = \"Float64\" style = \"text-align: left;\">Float64</th><th title = \"Float64\" style = \"text-align: left;\">Float64</th><th title = \"Float64\" style = \"text-align: left;\">Float64</th><th title = \"Int64\" style = \"text-align: left;\">Int64</th></tr></thead><tbody><tr><td class = \"rowNumber\" style = \"font-weight: bold; text-align: right;\">1</td><td style = \"text-align: left;\">TET</td><td style = \"text-align: right;\">0.0</td><td style = \"text-align: right;\">4.73029</td><td style = \"text-align: right;\">3.97769</td><td style = \"text-align: right;\">3.34482</td><td style = \"text-align: right;\">2.81265</td><td style = \"text-align: right;\">2.36515</td><td style = \"text-align: right;\">1.98884</td><td style = \"text-align: right;\">1.67241</td><td style = \"text-align: right;\">1.40632</td><td style = \"text-align: right;\">1.18257</td><td style = \"text-align: right;\">0.994422</td><td style = \"text-align: right;\">0.836206</td><td style = \"text-align: right;\">0.703162</td><td style = \"text-align: right;\">0.591287</td><td style = \"text-align: right;\">0.497211</td><td style = \"text-align: right;\">0.418103</td><td style = \"text-align: right;\">0.351581</td><td style = \"text-align: right;\">0.295643</td><td style = \"text-align: right;\">0.248605</td><td style = \"text-align: right;\">0.209051</td><td style = \"text-align: right;\">0.175791</td><td style = \"text-align: right;\">0.147822</td><td style = \"text-align: right;\">0.124303</td><td style = \"text-align: right;\">0.0</td><td style = \"text-align: right;\">1</td></tr><tr><td class = \"rowNumber\" style = \"font-weight: bold; text-align: right;\">2</td><td style = \"text-align: left;\">KM</td><td style = \"text-align: right;\">0.0</td><td style = \"text-align: right;\">141.909</td><td style = \"text-align: right;\">119.331</td><td style = \"text-align: right;\">100.345</td><td style = \"text-align: right;\">84.3795</td><td style = \"text-align: right;\">70.9544</td><td style = \"text-align: right;\">59.6653</td><td style = \"text-align: right;\">50.1723</td><td style = \"text-align: right;\">42.1897</td><td style = \"text-align: right;\">35.4772</td><td style = \"text-align: right;\">29.8327</td><td style = \"text-align: right;\">25.0862</td><td style = \"text-align: right;\">21.0949</td><td style = \"text-align: right;\">17.7386</td><td style = \"text-align: right;\">14.9163</td><td style = \"text-align: right;\">12.5431</td><td style = \"text-align: right;\">10.5474</td><td style = \"text-align: right;\">8.8693</td><td style = \"text-align: right;\">7.45816</td><td style = \"text-align: right;\">6.27154</td><td style = \"text-align: right;\">5.27372</td><td style = \"text-align: right;\">4.43465</td><td style = \"text-align: right;\">3.72908</td><td style = \"text-align: right;\">0.0</td><td style = \"text-align: right;\">1</td></tr><tr><td class = \"rowNumber\" style = \"font-weight: bold; text-align: right;\">3</td><td style = \"text-align: left;\">NFLX</td><td style = \"text-align: right;\">0.0</td><td style = \"text-align: right;\">0.473029</td><td style = \"text-align: right;\">0.397769</td><td style = \"text-align: right;\">0.334482</td><td style = \"text-align: right;\">0.281265</td><td style = \"text-align: right;\">0.236515</td><td style = \"text-align: right;\">0.198884</td><td style = \"text-align: right;\">0.167241</td><td style = \"text-align: right;\">0.140632</td><td style = \"text-align: right;\">0.118257</td><td style = \"text-align: right;\">0.0994422</td><td style = \"text-align: right;\">0.0836206</td><td style = \"text-align: right;\">0.0703162</td><td style = \"text-align: right;\">0.0591287</td><td style = \"text-align: right;\">0.0497211</td><td style = \"text-align: right;\">0.0418103</td><td style = \"text-align: right;\">0.0351581</td><td style = \"text-align: right;\">0.0295643</td><td style = \"text-align: right;\">0.0248605</td><td style = \"text-align: right;\">0.0209051</td><td style = \"text-align: right;\">0.0175791</td><td style = \"text-align: right;\">0.0147822</td><td style = \"text-align: right;\">0.0124303</td><td style = \"text-align: right;\">0.0</td><td style = \"text-align: right;\">1</td></tr><tr><td class = \"rowNumber\" style = \"font-weight: bold; text-align: right;\">4</td><td style = \"text-align: left;\">SS</td><td style = \"text-align: right;\">0.0</td><td style = \"text-align: right;\">3977.48</td><td style = \"text-align: right;\">2812.5</td><td style = \"text-align: right;\">1988.74</td><td style = \"text-align: right;\">1406.25</td><td style = \"text-align: right;\">994.369</td><td style = \"text-align: right;\">703.125</td><td style = \"text-align: right;\">497.184</td><td style = \"text-align: right;\">351.562</td><td style = \"text-align: right;\">248.592</td><td style = \"text-align: right;\">175.781</td><td style = \"text-align: right;\">124.296</td><td style = \"text-align: right;\">87.8906</td><td style = \"text-align: right;\">62.1481</td><td style = \"text-align: right;\">43.9453</td><td style = \"text-align: right;\">31.074</td><td style = \"text-align: right;\">21.9727</td><td style = \"text-align: right;\">15.537</td><td style = \"text-align: right;\">10.9863</td><td style = \"text-align: right;\">7.76851</td><td style = \"text-align: right;\">5.49316</td><td style = \"text-align: right;\">3.88425</td><td style = \"text-align: right;\">2.74658</td><td style = \"text-align: right;\">0.0</td><td style = \"text-align: right;\">1</td></tr><tr><td class = \"rowNumber\" style = \"font-weight: bold; text-align: right;\">5</td><td style = \"text-align: left;\">PLM</td><td style = \"text-align: right;\">0.0</td><td style = \"text-align: right;\">79.5495</td><td style = \"text-align: right;\">56.25</td><td style = \"text-align: right;\">39.7748</td><td style = \"text-align: right;\">28.125</td><td style = \"text-align: right;\">19.8874</td><td style = \"text-align: right;\">14.0625</td><td style = \"text-align: right;\">9.94369</td><td style = \"text-align: right;\">7.03125</td><td style = \"text-align: right;\">4.97184</td><td style = \"text-align: right;\">3.51562</td><td style = \"text-align: right;\">2.48592</td><td style = \"text-align: right;\">1.75781</td><td style = \"text-align: right;\">1.24296</td><td style = \"text-align: right;\">0.878906</td><td style = \"text-align: right;\">0.621481</td><td style = \"text-align: right;\">0.439453</td><td style = \"text-align: right;\">0.31074</td><td style = \"text-align: right;\">0.219727</td><td style = \"text-align: right;\">0.15537</td><td style = \"text-align: right;\">0.109863</td><td style = \"text-align: right;\">0.0776851</td><td style = \"text-align: right;\">0.0549316</td><td style = \"text-align: right;\">0.0</td><td style = \"text-align: right;\">1</td></tr></tbody></table></div>"
      ],
      "text/latex": [
       "\\begin{tabular}{r|ccccccccc}\n",
       "\t& antibiotic & col1 & col2 & col3 & col4 & col5 & col6 & col7 & \\\\\n",
       "\t\\hline\n",
       "\t& String7 & Float64 & Float64 & Float64 & Float64 & Float64 & Float64 & Float64 & \\\\\n",
       "\t\\hline\n",
       "\t1 & TET & 0.0 & 4.73029 & 3.97769 & 3.34482 & 2.81265 & 2.36515 & 1.98884 & $\\dots$ \\\\\n",
       "\t2 & KM & 0.0 & 141.909 & 119.331 & 100.345 & 84.3795 & 70.9544 & 59.6653 & $\\dots$ \\\\\n",
       "\t3 & NFLX & 0.0 & 0.473029 & 0.397769 & 0.334482 & 0.281265 & 0.236515 & 0.198884 & $\\dots$ \\\\\n",
       "\t4 & SS & 0.0 & 3977.48 & 2812.5 & 1988.74 & 1406.25 & 994.369 & 703.125 & $\\dots$ \\\\\n",
       "\t5 & PLM & 0.0 & 79.5495 & 56.25 & 39.7748 & 28.125 & 19.8874 & 14.0625 & $\\dots$ \\\\\n",
       "\\end{tabular}\n"
      ],
      "text/plain": [
       "\u001b[1m5×26 DataFrame\u001b[0m\n",
       "\u001b[1m Row \u001b[0m│\u001b[1m antibiotic \u001b[0m\u001b[1m col1    \u001b[0m\u001b[1m col2        \u001b[0m\u001b[1m col3        \u001b[0m\u001b[1m col4        \u001b[0m\u001b[1m col5       \u001b[0m ⋯\n",
       "     │\u001b[90m String7    \u001b[0m\u001b[90m Float64 \u001b[0m\u001b[90m Float64     \u001b[0m\u001b[90m Float64     \u001b[0m\u001b[90m Float64     \u001b[0m\u001b[90m Float64    \u001b[0m ⋯\n",
       "─────┼──────────────────────────────────────────────────────────────────────────\n",
       "   1 │ TET             0.0     4.73029      3.97769      3.34482      2.81265  ⋯\n",
       "   2 │ KM              0.0   141.909      119.331      100.345       84.3795\n",
       "   3 │ NFLX            0.0     0.473029     0.397769     0.334482     0.281265\n",
       "   4 │ SS              0.0  3977.48      2812.5       1988.74      1406.25\n",
       "   5 │ PLM             0.0    79.5495      56.25        39.7748      28.125    ⋯\n",
       "\u001b[36m                                                              20 columns omitted\u001b[0m"
      ]
     },
     "metadata": {},
     "output_type": "display_data"
    }
   ],
   "source": [
    "# Initialize DataFrame where to store all plate desings\n",
    "df_plates = DF.DataFrame()\n",
    "\n",
    "# Loop through unique plate designs\n",
    "for plate in unique(df_design.plate)\n",
    "    # Extract plate design\n",
    "    df_plate = df_design[df_design.plate .== plate, :]\n",
    "    # Generate a DataFrame with the same structure as the OD examples\n",
    "    df_conc = similar(df_od_ex)\n",
    "    # Set first column to be the drug name\n",
    "    df_conc[:, :antibiotic] = df_plate[:, :StressName]\n",
    "    # Define the zero-concentration columns\n",
    "    df_conc[:, [2, 25]] .= 0.0\n",
    "    # Loop through the rest of the columns\n",
    "    for (i, col) in enumerate(3:24)\n",
    "        # Compute concentration\n",
    "        df_conc[:, col] = df_plate[:, :MaxConc_ug_per_ml] ./ \n",
    "                            2.0 .^((i - 1) .* df_plate[:, :step_size])\n",
    "    end # for\n",
    "    # Add plate columns\n",
    "    df_conc[!, :design] .= plate\n",
    "    # Append dataframe\n",
    "    append!(df_plates, df_conc)\n",
    "end # for\n",
    "\n",
    "first(df_plates, 5)"
   ]
  },
  {
   "attachments": {},
   "cell_type": "markdown",
   "metadata": {},
   "source": [
    "These are the eight plate designs that they used in this experiment. But to\n",
    "match it to which design was used on each day, the authors say:\n",
    "> `PlateX.xlsx: X = 1,...,8` corresponds to the numbers in\n",
    "> `PlateType_201907_matching_30plates_TimeSeries.xlsx`.\n",
    "\n",
    "Furthermore, they describe this file as:\n",
    "> `PlateType_201907_matching_30plates_TimeSeries.xlsx`: This xlsx file includes\n",
    "> the information of which plate in `./conc_data` was used in `dayN`. plate_num\n",
    "> in the leftmost column corresponds to `X` in\n",
    "> `./reshaped_od/OD_dayN_plateX_Y.csv`. This xlsx file was needed to track the\n",
    "> changes of the plate designs along the drug resistance evolution of the\n",
    "> strains.\n",
    "\n",
    "Let's load this file."
   ]
  },
  {
   "cell_type": "code",
   "execution_count": 9,
   "metadata": {},
   "outputs": [
    {
     "data": {
      "text/html": [
       "<div><div style = \"float: left;\"><span>5×29 DataFrame</span></div><div style = \"clear: both;\"></div></div><div class = \"data-frame\" style = \"overflow-x: scroll;\"><table class = \"data-frame\" style = \"margin-bottom: 6px;\"><thead><tr class = \"header\"><th class = \"rowNumber\" style = \"font-weight: bold; text-align: right;\">Row</th><th style = \"text-align: left;\">plate_num</th><th style = \"text-align: left;\">day1</th><th style = \"text-align: left;\">day2</th><th style = \"text-align: left;\">day3</th><th style = \"text-align: left;\">day4</th><th style = \"text-align: left;\">day5</th><th style = \"text-align: left;\">day6</th><th style = \"text-align: left;\">day7</th><th style = \"text-align: left;\">day8</th><th style = \"text-align: left;\">day9</th><th style = \"text-align: left;\">day10</th><th style = \"text-align: left;\">day11</th><th style = \"text-align: left;\">day12</th><th style = \"text-align: left;\">day13</th><th style = \"text-align: left;\">day14</th><th style = \"text-align: left;\">day15</th><th style = \"text-align: left;\">day16</th><th style = \"text-align: left;\">day17</th><th style = \"text-align: left;\">day18</th><th style = \"text-align: left;\">day19</th><th style = \"text-align: left;\">day20</th><th style = \"text-align: left;\">day21</th><th style = \"text-align: left;\">day22</th><th style = \"text-align: left;\">day23</th><th style = \"text-align: left;\">day24</th><th style = \"text-align: left;\">day25</th><th style = \"text-align: left;\">day26</th><th style = \"text-align: left;\">day27</th><th style = \"text-align: left;\">day28</th></tr><tr class = \"subheader headerLastRow\"><th class = \"rowNumber\" style = \"font-weight: bold; text-align: right;\"></th><th title = \"Any\" style = \"text-align: left;\">Any</th><th title = \"Any\" style = \"text-align: left;\">Any</th><th title = \"Any\" style = \"text-align: left;\">Any</th><th title = \"Any\" style = \"text-align: left;\">Any</th><th title = \"Any\" style = \"text-align: left;\">Any</th><th title = \"Any\" style = \"text-align: left;\">Any</th><th title = \"Any\" style = \"text-align: left;\">Any</th><th title = \"Any\" style = \"text-align: left;\">Any</th><th title = \"Any\" style = \"text-align: left;\">Any</th><th title = \"Any\" style = \"text-align: left;\">Any</th><th title = \"Any\" style = \"text-align: left;\">Any</th><th title = \"Any\" style = \"text-align: left;\">Any</th><th title = \"Any\" style = \"text-align: left;\">Any</th><th title = \"Any\" style = \"text-align: left;\">Any</th><th title = \"Any\" style = \"text-align: left;\">Any</th><th title = \"Any\" style = \"text-align: left;\">Any</th><th title = \"Any\" style = \"text-align: left;\">Any</th><th title = \"Any\" style = \"text-align: left;\">Any</th><th title = \"Any\" style = \"text-align: left;\">Any</th><th title = \"Any\" style = \"text-align: left;\">Any</th><th title = \"Any\" style = \"text-align: left;\">Any</th><th title = \"Any\" style = \"text-align: left;\">Any</th><th title = \"Any\" style = \"text-align: left;\">Any</th><th title = \"Any\" style = \"text-align: left;\">Any</th><th title = \"Any\" style = \"text-align: left;\">Any</th><th title = \"Any\" style = \"text-align: left;\">Any</th><th title = \"Any\" style = \"text-align: left;\">Any</th><th title = \"Any\" style = \"text-align: left;\">Any</th><th title = \"Any\" style = \"text-align: left;\">Any</th></tr></thead><tbody><tr><td class = \"rowNumber\" style = \"font-weight: bold; text-align: right;\">1</td><td style = \"text-align: left;\">1</td><td style = \"text-align: left;\">1</td><td style = \"text-align: left;\">1</td><td style = \"text-align: left;\">1</td><td style = \"text-align: left;\">1</td><td style = \"text-align: left;\">1</td><td style = \"text-align: left;\">1</td><td style = \"text-align: left;\">1</td><td style = \"text-align: left;\">1</td><td style = \"text-align: left;\">1</td><td style = \"text-align: left;\">1</td><td style = \"text-align: left;\">3</td><td style = \"text-align: left;\">3</td><td style = \"text-align: left;\">3</td><td style = \"text-align: left;\">3</td><td style = \"text-align: left;\">3</td><td style = \"text-align: left;\">3</td><td style = \"text-align: left;\">3</td><td style = \"text-align: left;\">3</td><td style = \"text-align: left;\">3</td><td style = \"text-align: left;\">3</td><td style = \"text-align: left;\">3</td><td style = \"text-align: left;\">3</td><td style = \"text-align: left;\">3</td><td style = \"text-align: left;\">3</td><td style = \"text-align: left;\">3</td><td style = \"text-align: left;\">3</td><td style = \"text-align: left;\">3</td><td style = \"text-align: left;\">3</td></tr><tr><td class = \"rowNumber\" style = \"font-weight: bold; text-align: right;\">2</td><td style = \"text-align: left;\">2</td><td style = \"text-align: left;\">1</td><td style = \"text-align: left;\">1</td><td style = \"text-align: left;\">1</td><td style = \"text-align: left;\">1</td><td style = \"text-align: left;\">1</td><td style = \"text-align: left;\">1</td><td style = \"text-align: left;\">1</td><td style = \"text-align: left;\">1</td><td style = \"text-align: left;\">1</td><td style = \"text-align: left;\">1</td><td style = \"text-align: left;\">3</td><td style = \"text-align: left;\">3</td><td style = \"text-align: left;\">3</td><td style = \"text-align: left;\">3</td><td style = \"text-align: left;\">3</td><td style = \"text-align: left;\">3</td><td style = \"text-align: left;\">3</td><td style = \"text-align: left;\">3</td><td style = \"text-align: left;\">3</td><td style = \"text-align: left;\">3</td><td style = \"text-align: left;\">3</td><td style = \"text-align: left;\">3</td><td style = \"text-align: left;\">3</td><td style = \"text-align: left;\">3</td><td style = \"text-align: left;\">3</td><td style = \"text-align: left;\">3</td><td style = \"text-align: left;\">3</td><td style = \"text-align: left;\">3</td></tr><tr><td class = \"rowNumber\" style = \"font-weight: bold; text-align: right;\">3</td><td style = \"text-align: left;\">3</td><td style = \"text-align: left;\">2</td><td style = \"text-align: left;\">2</td><td style = \"text-align: left;\">2</td><td style = \"text-align: left;\">2</td><td style = \"text-align: left;\">2</td><td style = \"text-align: left;\">2</td><td style = \"text-align: left;\">2</td><td style = \"text-align: left;\">2</td><td style = \"text-align: left;\">2</td><td style = \"text-align: left;\">2</td><td style = \"text-align: left;\">2</td><td style = \"text-align: left;\">2</td><td style = \"text-align: left;\">2</td><td style = \"text-align: left;\">2</td><td style = \"text-align: left;\">2</td><td style = \"text-align: left;\">2</td><td style = \"text-align: left;\">1</td><td style = \"text-align: left;\">1</td><td style = \"text-align: left;\">1</td><td style = \"text-align: left;\">1</td><td style = \"text-align: left;\">8</td><td style = \"text-align: left;\">8</td><td style = \"text-align: left;\">8</td><td style = \"text-align: left;\">8</td><td style = \"text-align: left;\">8</td><td style = \"text-align: left;\">8</td><td style = \"text-align: left;\">8</td><td style = \"text-align: left;\">8</td></tr><tr><td class = \"rowNumber\" style = \"font-weight: bold; text-align: right;\">4</td><td style = \"text-align: left;\">4</td><td style = \"text-align: left;\">2</td><td style = \"text-align: left;\">2</td><td style = \"text-align: left;\">2</td><td style = \"text-align: left;\">2</td><td style = \"text-align: left;\">2</td><td style = \"text-align: left;\">2</td><td style = \"text-align: left;\">2</td><td style = \"text-align: left;\">2</td><td style = \"text-align: left;\">2</td><td style = \"text-align: left;\">2</td><td style = \"text-align: left;\">2</td><td style = \"text-align: left;\">2</td><td style = \"text-align: left;\">2</td><td style = \"text-align: left;\">2</td><td style = \"text-align: left;\">2</td><td style = \"text-align: left;\">2</td><td style = \"text-align: left;\">2</td><td style = \"text-align: left;\">1</td><td style = \"text-align: left;\">1</td><td style = \"text-align: left;\">1</td><td style = \"text-align: left;\">8</td><td style = \"text-align: left;\">8</td><td style = \"text-align: left;\">8</td><td style = \"text-align: left;\">8</td><td style = \"text-align: left;\">8</td><td style = \"text-align: left;\">8</td><td style = \"text-align: left;\">8</td><td style = \"text-align: left;\">8</td></tr><tr><td class = \"rowNumber\" style = \"font-weight: bold; text-align: right;\">5</td><td style = \"text-align: left;\">5</td><td style = \"text-align: left;\">2</td><td style = \"text-align: left;\">2</td><td style = \"text-align: left;\">2</td><td style = \"text-align: left;\">2</td><td style = \"text-align: left;\">2</td><td style = \"text-align: left;\">2</td><td style = \"text-align: left;\">2</td><td style = \"text-align: left;\">2</td><td style = \"text-align: left;\">2</td><td style = \"text-align: left;\">2</td><td style = \"text-align: left;\">1</td><td style = \"text-align: left;\">1</td><td style = \"text-align: left;\">1</td><td style = \"text-align: left;\">1</td><td style = \"text-align: left;\">1</td><td style = \"text-align: left;\">1</td><td style = \"text-align: left;\">1</td><td style = \"text-align: left;\">1</td><td style = \"text-align: left;\">1</td><td style = \"text-align: left;\">1</td><td style = \"text-align: left;\">8</td><td style = \"text-align: left;\">8</td><td style = \"text-align: left;\">8</td><td style = \"text-align: left;\">8</td><td style = \"text-align: left;\">8</td><td style = \"text-align: left;\">8</td><td style = \"text-align: left;\">8</td><td style = \"text-align: left;\">8</td></tr></tbody></table></div>"
      ],
      "text/latex": [
       "\\begin{tabular}{r|cccccccccccccc}\n",
       "\t& plate\\_num & day1 & day2 & day3 & day4 & day5 & day6 & day7 & day8 & day9 & day10 & day11 & day12 & \\\\\n",
       "\t\\hline\n",
       "\t& Any & Any & Any & Any & Any & Any & Any & Any & Any & Any & Any & Any & Any & \\\\\n",
       "\t\\hline\n",
       "\t1 & 1 & 1 & 1 & 1 & 1 & 1 & 1 & 1 & 1 & 1 & 1 & 3 & 3 & $\\dots$ \\\\\n",
       "\t2 & 2 & 1 & 1 & 1 & 1 & 1 & 1 & 1 & 1 & 1 & 1 & 3 & 3 & $\\dots$ \\\\\n",
       "\t3 & 3 & 2 & 2 & 2 & 2 & 2 & 2 & 2 & 2 & 2 & 2 & 2 & 2 & $\\dots$ \\\\\n",
       "\t4 & 4 & 2 & 2 & 2 & 2 & 2 & 2 & 2 & 2 & 2 & 2 & 2 & 2 & $\\dots$ \\\\\n",
       "\t5 & 5 & 2 & 2 & 2 & 2 & 2 & 2 & 2 & 2 & 2 & 2 & 1 & 1 & $\\dots$ \\\\\n",
       "\\end{tabular}\n"
      ],
      "text/plain": [
       "\u001b[1m5×29 DataFrame\u001b[0m\n",
       "\u001b[1m Row \u001b[0m│\u001b[1m plate_num \u001b[0m\u001b[1m day1 \u001b[0m\u001b[1m day2 \u001b[0m\u001b[1m day3 \u001b[0m\u001b[1m day4 \u001b[0m\u001b[1m day5 \u001b[0m\u001b[1m day6 \u001b[0m\u001b[1m day7 \u001b[0m\u001b[1m day8 \u001b[0m\u001b[1m day9 \u001b[0m\u001b[1m day10 \u001b[0m\u001b[1m\u001b[0m ⋯\n",
       "     │\u001b[90m Any       \u001b[0m\u001b[90m Any  \u001b[0m\u001b[90m Any  \u001b[0m\u001b[90m Any  \u001b[0m\u001b[90m Any  \u001b[0m\u001b[90m Any  \u001b[0m\u001b[90m Any  \u001b[0m\u001b[90m Any  \u001b[0m\u001b[90m Any  \u001b[0m\u001b[90m Any  \u001b[0m\u001b[90m Any   \u001b[0m\u001b[90m\u001b[0m ⋯\n",
       "─────┼──────────────────────────────────────────────────────────────────────────\n",
       "   1 │ 1          1     1     1     1     1     1     1     1     1     1      ⋯\n",
       "   2 │ 2          1     1     1     1     1     1     1     1     1     1\n",
       "   3 │ 3          2     2     2     2     2     2     2     2     2     2\n",
       "   4 │ 4          2     2     2     2     2     2     2     2     2     2\n",
       "   5 │ 5          2     2     2     2     2     2     2     2     2     2      ⋯\n",
       "\u001b[36m                                                              18 columns omitted\u001b[0m"
      ]
     },
     "metadata": {},
     "output_type": "display_data"
    }
   ],
   "source": [
    "# Load file to match plate number to plate design\n",
    "plate_num = DF.DataFrame(\n",
    "    XLSX.readtable(\n",
    "        \"$(git_root())/data/Iwasawa_2022/od_raw_data/\" *\n",
    "        \"PlateType_201907_matching_30plates_TimeSeries.xlsx\", \n",
    "        \"Sheet1\"\n",
    "    )\n",
    ")\n",
    "\n",
    "first(plate_num, 5)"
   ]
  },
  {
   "attachments": {},
   "cell_type": "markdown",
   "metadata": {},
   "source": [
    "We now have all of the pieces in place to turn the data into a tidy dataframe.\n",
    "The only missing piece is joining the values of the concentrations with the OD.\n",
    "Let's check how to do this with our example plate."
   ]
  },
  {
   "cell_type": "code",
   "execution_count": 10,
   "metadata": {},
   "outputs": [
    {
     "data": {
      "text/html": [
       "<div><div style = \"float: left;\"><span>10×5 DataFrame</span></div><div style = \"clear: both;\"></div></div><div class = \"data-frame\" style = \"overflow-x: scroll;\"><table class = \"data-frame\" style = \"margin-bottom: 6px;\"><thead><tr class = \"header\"><th class = \"rowNumber\" style = \"font-weight: bold; text-align: right;\">Row</th><th style = \"text-align: left;\">antibiotic</th><th style = \"text-align: left;\">col</th><th style = \"text-align: left;\">OD</th><th style = \"text-align: left;\">design</th><th style = \"text-align: left;\">concentration_ugmL</th></tr><tr class = \"subheader headerLastRow\"><th class = \"rowNumber\" style = \"font-weight: bold; text-align: right;\"></th><th title = \"InlineStrings.String7\" style = \"text-align: left;\">String7</th><th title = \"String\" style = \"text-align: left;\">String</th><th title = \"Float64\" style = \"text-align: left;\">Float64</th><th title = \"Int64\" style = \"text-align: left;\">Int64</th><th title = \"Float64\" style = \"text-align: left;\">Float64</th></tr></thead><tbody><tr><td class = \"rowNumber\" style = \"font-weight: bold; text-align: right;\">1</td><td style = \"text-align: left;\">TET</td><td style = \"text-align: left;\">col1</td><td style = \"text-align: right;\">0.0464</td><td style = \"text-align: right;\">1</td><td style = \"text-align: right;\">0.0</td></tr><tr><td class = \"rowNumber\" style = \"font-weight: bold; text-align: right;\">2</td><td style = \"text-align: left;\">KM</td><td style = \"text-align: left;\">col1</td><td style = \"text-align: right;\">0.0432</td><td style = \"text-align: right;\">1</td><td style = \"text-align: right;\">0.0</td></tr><tr><td class = \"rowNumber\" style = \"font-weight: bold; text-align: right;\">3</td><td style = \"text-align: left;\">NFLX</td><td style = \"text-align: left;\">col1</td><td style = \"text-align: right;\">0.0414</td><td style = \"text-align: right;\">1</td><td style = \"text-align: right;\">0.0</td></tr><tr><td class = \"rowNumber\" style = \"font-weight: bold; text-align: right;\">4</td><td style = \"text-align: left;\">SS</td><td style = \"text-align: left;\">col1</td><td style = \"text-align: right;\">0.0415</td><td style = \"text-align: right;\">1</td><td style = \"text-align: right;\">0.0</td></tr><tr><td class = \"rowNumber\" style = \"font-weight: bold; text-align: right;\">5</td><td style = \"text-align: left;\">PLM</td><td style = \"text-align: left;\">col1</td><td style = \"text-align: right;\">0.0427</td><td style = \"text-align: right;\">1</td><td style = \"text-align: right;\">0.0</td></tr><tr><td class = \"rowNumber\" style = \"font-weight: bold; text-align: right;\">6</td><td style = \"text-align: left;\">NQO</td><td style = \"text-align: left;\">col1</td><td style = \"text-align: right;\">0.0417</td><td style = \"text-align: right;\">1</td><td style = \"text-align: right;\">0.0</td></tr><tr><td class = \"rowNumber\" style = \"font-weight: bold; text-align: right;\">7</td><td style = \"text-align: left;\">SDC</td><td style = \"text-align: left;\">col1</td><td style = \"text-align: right;\">0.0445</td><td style = \"text-align: right;\">1</td><td style = \"text-align: right;\">0.0</td></tr><tr><td class = \"rowNumber\" style = \"font-weight: bold; text-align: right;\">8</td><td style = \"text-align: left;\">MMC</td><td style = \"text-align: left;\">col1</td><td style = \"text-align: right;\">0.0452</td><td style = \"text-align: right;\">1</td><td style = \"text-align: right;\">0.0</td></tr><tr><td class = \"rowNumber\" style = \"font-weight: bold; text-align: right;\">9</td><td style = \"text-align: left;\">TET</td><td style = \"text-align: left;\">col2</td><td style = \"text-align: right;\">0.0807</td><td style = \"text-align: right;\">1</td><td style = \"text-align: right;\">4.73029</td></tr><tr><td class = \"rowNumber\" style = \"font-weight: bold; text-align: right;\">10</td><td style = \"text-align: left;\">KM</td><td style = \"text-align: left;\">col2</td><td style = \"text-align: right;\">0.0426</td><td style = \"text-align: right;\">1</td><td style = \"text-align: right;\">141.909</td></tr></tbody></table></div>"
      ],
      "text/latex": [
       "\\begin{tabular}{r|ccccc}\n",
       "\t& antibiotic & col & OD & design & concentration\\_ugmL\\\\\n",
       "\t\\hline\n",
       "\t& String7 & String & Float64 & Int64 & Float64\\\\\n",
       "\t\\hline\n",
       "\t1 & TET & col1 & 0.0464 & 1 & 0.0 \\\\\n",
       "\t2 & KM & col1 & 0.0432 & 1 & 0.0 \\\\\n",
       "\t3 & NFLX & col1 & 0.0414 & 1 & 0.0 \\\\\n",
       "\t4 & SS & col1 & 0.0415 & 1 & 0.0 \\\\\n",
       "\t5 & PLM & col1 & 0.0427 & 1 & 0.0 \\\\\n",
       "\t6 & NQO & col1 & 0.0417 & 1 & 0.0 \\\\\n",
       "\t7 & SDC & col1 & 0.0445 & 1 & 0.0 \\\\\n",
       "\t8 & MMC & col1 & 0.0452 & 1 & 0.0 \\\\\n",
       "\t9 & TET & col2 & 0.0807 & 1 & 4.73029 \\\\\n",
       "\t10 & KM & col2 & 0.0426 & 1 & 141.909 \\\\\n",
       "\\end{tabular}\n"
      ],
      "text/plain": [
       "\u001b[1m10×5 DataFrame\u001b[0m\n",
       "\u001b[1m Row \u001b[0m│\u001b[1m antibiotic \u001b[0m\u001b[1m col    \u001b[0m\u001b[1m OD      \u001b[0m\u001b[1m design \u001b[0m\u001b[1m concentration_ugmL \u001b[0m\n",
       "     │\u001b[90m String7    \u001b[0m\u001b[90m String \u001b[0m\u001b[90m Float64 \u001b[0m\u001b[90m Int64  \u001b[0m\u001b[90m Float64            \u001b[0m\n",
       "─────┼─────────────────────────────────────────────────────────\n",
       "   1 │ TET         col1     0.0464       1             0.0\n",
       "   2 │ KM          col1     0.0432       1             0.0\n",
       "   3 │ NFLX        col1     0.0414       1             0.0\n",
       "   4 │ SS          col1     0.0415       1             0.0\n",
       "   5 │ PLM         col1     0.0427       1             0.0\n",
       "   6 │ NQO         col1     0.0417       1             0.0\n",
       "   7 │ SDC         col1     0.0445       1             0.0\n",
       "   8 │ MMC         col1     0.0452       1             0.0\n",
       "   9 │ TET         col2     0.0807       1             4.73029\n",
       "  10 │ KM          col2     0.0426       1           141.909"
      ]
     },
     "metadata": {},
     "output_type": "display_data"
    }
   ],
   "source": [
    "# Pivot OD dataframe into tidy format\n",
    "df_od_tidy = DF.stack(df_od_ex, DF.Not(:antibiotic))\n",
    "# Rename columns\n",
    "DF.rename!(df_od_tidy, Dict(:variable => :col, :value => :OD))\n",
    "\n",
    "# Pivot plate 1 design into tidy format\n",
    "df_conc_tidy = DF.stack(\n",
    "    df_plates[df_plates.design .== 1, :], DF.Not([:antibiotic, :design])\n",
    ")\n",
    "# Rename columns\n",
    "DF.rename!(df_conc_tidy, Dict(:variable => :col, :value => :concentration_ugmL)) \n",
    "\n",
    "# Join dataframes by common columns\n",
    "df_join = DF.innerjoin(df_od_tidy, df_conc_tidy, on = [:antibiotic, :col])\n",
    "\n",
    "first(df_join, 10)"
   ]
  },
  {
   "attachments": {},
   "cell_type": "markdown",
   "metadata": {},
   "source": [
    "Perfect! Now we have all of the necessary tools and pieces to build the tidy\n",
    "dataframe. Let's read through all files and build it."
   ]
  },
  {
   "cell_type": "code",
   "execution_count": 11,
   "metadata": {},
   "outputs": [
    {
     "data": {
      "text/html": [
       "<div><div style = \"float: left;\"><span>5×10 DataFrame</span></div><div style = \"clear: both;\"></div></div><div class = \"data-frame\" style = \"overflow-x: scroll;\"><table class = \"data-frame\" style = \"margin-bottom: 6px;\"><thead><tr class = \"header\"><th class = \"rowNumber\" style = \"font-weight: bold; text-align: right;\">Row</th><th style = \"text-align: left;\">antibiotic</th><th style = \"text-align: left;\">col</th><th style = \"text-align: left;\">OD</th><th style = \"text-align: left;\">design</th><th style = \"text-align: left;\">concentration_ugmL</th><th style = \"text-align: left;\">day</th><th style = \"text-align: left;\">strain_num</th><th style = \"text-align: left;\">env</th><th style = \"text-align: left;\">plate</th><th style = \"text-align: left;\">blank</th></tr><tr class = \"subheader headerLastRow\"><th class = \"rowNumber\" style = \"font-weight: bold; text-align: right;\"></th><th title = \"InlineStrings.String7\" style = \"text-align: left;\">String7</th><th title = \"String\" style = \"text-align: left;\">String</th><th title = \"Float64\" style = \"text-align: left;\">Float64</th><th title = \"Int64\" style = \"text-align: left;\">Int64</th><th title = \"Float64\" style = \"text-align: left;\">Float64</th><th title = \"Int64\" style = \"text-align: left;\">Int64</th><th title = \"Int64\" style = \"text-align: left;\">Int64</th><th title = \"String\" style = \"text-align: left;\">String</th><th title = \"Int64\" style = \"text-align: left;\">Int64</th><th title = \"Bool\" style = \"text-align: left;\">Bool</th></tr></thead><tbody><tr><td class = \"rowNumber\" style = \"font-weight: bold; text-align: right;\">1</td><td style = \"text-align: left;\">TET</td><td style = \"text-align: left;\">col1</td><td style = \"text-align: right;\">0.0464</td><td style = \"text-align: right;\">3</td><td style = \"text-align: right;\">0.0</td><td style = \"text-align: right;\">1</td><td style = \"text-align: right;\">19</td><td style = \"text-align: left;\">TETE4_in_KM</td><td style = \"text-align: right;\">10</td><td style = \"text-align: right;\">true</td></tr><tr><td class = \"rowNumber\" style = \"font-weight: bold; text-align: right;\">2</td><td style = \"text-align: left;\">KM</td><td style = \"text-align: left;\">col1</td><td style = \"text-align: right;\">0.0432</td><td style = \"text-align: right;\">3</td><td style = \"text-align: right;\">0.0</td><td style = \"text-align: right;\">1</td><td style = \"text-align: right;\">19</td><td style = \"text-align: left;\">TETE4_in_KM</td><td style = \"text-align: right;\">10</td><td style = \"text-align: right;\">true</td></tr><tr><td class = \"rowNumber\" style = \"font-weight: bold; text-align: right;\">3</td><td style = \"text-align: left;\">NFLX</td><td style = \"text-align: left;\">col1</td><td style = \"text-align: right;\">0.0414</td><td style = \"text-align: right;\">3</td><td style = \"text-align: right;\">0.0</td><td style = \"text-align: right;\">1</td><td style = \"text-align: right;\">19</td><td style = \"text-align: left;\">TETE4_in_KM</td><td style = \"text-align: right;\">10</td><td style = \"text-align: right;\">true</td></tr><tr><td class = \"rowNumber\" style = \"font-weight: bold; text-align: right;\">4</td><td style = \"text-align: left;\">SS</td><td style = \"text-align: left;\">col1</td><td style = \"text-align: right;\">0.0415</td><td style = \"text-align: right;\">3</td><td style = \"text-align: right;\">0.0</td><td style = \"text-align: right;\">1</td><td style = \"text-align: right;\">19</td><td style = \"text-align: left;\">TETE4_in_KM</td><td style = \"text-align: right;\">10</td><td style = \"text-align: right;\">true</td></tr><tr><td class = \"rowNumber\" style = \"font-weight: bold; text-align: right;\">5</td><td style = \"text-align: left;\">PLM</td><td style = \"text-align: left;\">col1</td><td style = \"text-align: right;\">0.0427</td><td style = \"text-align: right;\">3</td><td style = \"text-align: right;\">0.0</td><td style = \"text-align: right;\">1</td><td style = \"text-align: right;\">19</td><td style = \"text-align: left;\">TETE4_in_KM</td><td style = \"text-align: right;\">10</td><td style = \"text-align: right;\">true</td></tr></tbody></table></div>"
      ],
      "text/latex": [
       "\\begin{tabular}{r|ccccccccc}\n",
       "\t& antibiotic & col & OD & design & concentration\\_ugmL & day & strain\\_num & env & \\\\\n",
       "\t\\hline\n",
       "\t& String7 & String & Float64 & Int64 & Float64 & Int64 & Int64 & String & \\\\\n",
       "\t\\hline\n",
       "\t1 & TET & col1 & 0.0464 & 3 & 0.0 & 1 & 19 & TETE4\\_in\\_KM & $\\dots$ \\\\\n",
       "\t2 & KM & col1 & 0.0432 & 3 & 0.0 & 1 & 19 & TETE4\\_in\\_KM & $\\dots$ \\\\\n",
       "\t3 & NFLX & col1 & 0.0414 & 3 & 0.0 & 1 & 19 & TETE4\\_in\\_KM & $\\dots$ \\\\\n",
       "\t4 & SS & col1 & 0.0415 & 3 & 0.0 & 1 & 19 & TETE4\\_in\\_KM & $\\dots$ \\\\\n",
       "\t5 & PLM & col1 & 0.0427 & 3 & 0.0 & 1 & 19 & TETE4\\_in\\_KM & $\\dots$ \\\\\n",
       "\\end{tabular}\n"
      ],
      "text/plain": [
       "\u001b[1m5×10 DataFrame\u001b[0m\n",
       "\u001b[1m Row \u001b[0m│\u001b[1m antibiotic \u001b[0m\u001b[1m col    \u001b[0m\u001b[1m OD      \u001b[0m\u001b[1m design \u001b[0m\u001b[1m concentration_ugmL \u001b[0m\u001b[1m day   \u001b[0m\u001b[1m strain_\u001b[0m ⋯\n",
       "     │\u001b[90m String7    \u001b[0m\u001b[90m String \u001b[0m\u001b[90m Float64 \u001b[0m\u001b[90m Int64  \u001b[0m\u001b[90m Float64            \u001b[0m\u001b[90m Int64 \u001b[0m\u001b[90m Int64  \u001b[0m ⋯\n",
       "─────┼──────────────────────────────────────────────────────────────────────────\n",
       "   1 │ TET         col1     0.0464       3                 0.0      1          ⋯\n",
       "   2 │ KM          col1     0.0432       3                 0.0      1\n",
       "   3 │ NFLX        col1     0.0414       3                 0.0      1\n",
       "   4 │ SS          col1     0.0415       3                 0.0      1\n",
       "   5 │ PLM         col1     0.0427       3                 0.0      1          ⋯\n",
       "\u001b[36m                                                               4 columns omitted\u001b[0m"
      ]
     },
     "metadata": {},
     "output_type": "display_data"
    }
   ],
   "source": [
    "# Initialize dataframe\n",
    "df_tidy = DF.DataFrame()\n",
    "\n",
    "# Loop through files\n",
    "for f in files_od\n",
    "    # Extract day\n",
    "    day = parse(Int64, replace(split(split(f, \"/\")[end], \"_\")[2], \"day\" => \"\"))\n",
    "    # Extract plate number\n",
    "    x = parse(\n",
    "        Int64, replace(split(split(f, \"/\")[end], \"_\")[3], \"plate\" => \"\")\n",
    "    )\n",
    "    # Extract final number\n",
    "    y = parse(Int64, replace(split(f, \"_\")[end], \".csv\" => \"\"))\n",
    "    # Compute strain number\n",
    "    strain_num = 2 * (x - 1) + y\n",
    "\n",
    "    # Extract environment from strain_num_matching\n",
    "    env = first(\n",
    "        strain_num_matching[\n",
    "            strain_num_matching.strain_num .== strain_num, :strain_env\n",
    "        ]\n",
    "    )\n",
    "    # Replace spaces with underscore\n",
    "    env = replace(env, \" \" => \"_\")\n",
    "\n",
    "    # Extract plate design from\n",
    "    # PlateType_201907_matching_30plates_TimeSeries.xlsx\n",
    "    design = first(plate_num[(plate_num.plate_num .== x), \"day$(day)\" ])\n",
    "\n",
    "    # Load table\n",
    "    df_od = CSV.read(f, DF.DataFrame)\n",
    "    # Rename antibiotic column\n",
    "    DF.rename!(df_od, \"Column1\" => :antibiotic)\n",
    "    # Rename column names\n",
    "    DF.rename!(df_od, Dict(zip(string.(1:24), \"col\" .* string.(1:24))))\n",
    "\n",
    "    # Pivot OD dataframe into tidy format\n",
    "    df_od_tidy = DF.stack(df_od, DF.Not(:antibiotic))\n",
    "    # Rename columns\n",
    "    DF.rename!(df_od_tidy, Dict(:variable => :col, :value => :OD))\n",
    "\n",
    "    # Pivot plate 1 design into tidy format\n",
    "    df_conc_tidy = DF.stack(\n",
    "        df_plates[df_plates.design .== design, :], DF.Not([:antibiotic, :design])\n",
    "    )\n",
    "    # Rename columns\n",
    "    DF.rename!(\n",
    "        df_conc_tidy, Dict(:variable => :col, :value => :concentration_ugmL)\n",
    "    )\n",
    "\n",
    "    # Join dataframes by common columns\n",
    "    df_join = DF.innerjoin(df_od_tidy, df_conc_tidy, on = [:antibiotic, :col])\n",
    "\n",
    "    # # Add day information\n",
    "    df_join[!, :day] .= day\n",
    "    # # Add strain number\n",
    "    df_join[!, :strain_num] .= strain_num\n",
    "    # Add corresponding strain environment\n",
    "    df_join[!, :env] .= env\n",
    "    # Add corresponding plate design\n",
    "    df_join[!, :plate] .= x\n",
    "    # Add column indicating if it is a blank or not\n",
    "    df_join[!, :blank] = df_join.col .== \"col1\"\n",
    "\n",
    "    # Append to final result\n",
    "    append!(df_tidy, df_join)\n",
    "\n",
    "end # for\n",
    "\n",
    "first(df_tidy, 5)"
   ]
  },
  {
   "attachments": {},
   "cell_type": "markdown",
   "metadata": {},
   "source": [
    "To double-check that the structure of the table makes sense, let's plot the time\n",
    "series for one example to see if the sequence agrees with the expectation."
   ]
  },
  {
   "cell_type": "code",
   "execution_count": 12,
   "metadata": {},
   "outputs": [
    {
     "data": {
      "image/png": "[encoded data removed]"
     },
     "metadata": {},
     "output_type": "display_data"
    }
   ],
   "source": [
    "# Define data to use\n",
    "data = df_tidy[(df_tidy.antibiotic .== \"KM\") .& \n",
    "               (df_tidy.env .== \"Parent_in_KM\") .&\n",
    "               (df_tidy.strain_num .== 13) .&\n",
    "               .!(df_tidy.blank) .&\n",
    "               (df_tidy.concentration_ugmL .> 0), :]\n",
    "# Remove blank measurement\n",
    "# Group data by day\n",
    "df_group = DF.groupby(data, :day)\n",
    "\n",
    "# Initialize figure\n",
    "fig = Figure(resolution=(600, 350))\n",
    "\n",
    "# Add axis\n",
    "ax = Axis(\n",
    "    fig[1, 1],\n",
    "    xlabel=\"antibiotic concentration\",\n",
    "    ylabel=\"OD₆₂₀\",\n",
    "    xscale=log10\n",
    ")\n",
    "\n",
    "# Define colors for plot\n",
    "colors = get(ColorSchemes.Blues_9, LinRange(0.25, 1, length(df_group)))\n",
    "\n",
    "# Loop through days\n",
    "for (i, d) in enumerate(df_group)\n",
    "    # Sort data by concentration\n",
    "    DF.sort!(d, :concentration_ugmL)\n",
    "    # Plot scatter line\n",
    "    scatterlines!(\n",
    "        ax, d.concentration_ugmL, d.OD, color=colors[i], label=\"$(first(d.day))\"\n",
    "    )\n",
    "end # for\n",
    "\n",
    "# Add legend to plot\n",
    "fig[1, 2] = Legend(\n",
    "    fig, ax, \"day\", framevisible = false, nbanks=4, labelsize=10\n",
    ")\n",
    "\n",
    "fig"
   ]
  },
  {
   "attachments": {},
   "cell_type": "markdown",
   "metadata": {},
   "source": [
    "We can see that, as expected, the curves shift to higher concentrations as the\n",
    "number of days pass by.\n",
    "\n",
    "Thus, we can confidently say that we built the right tidy DataFrame. Let's write\n",
    "it down as a `.csv` file."
   ]
  },
  {
   "cell_type": "code",
   "execution_count": 13,
   "metadata": {},
   "outputs": [
    {
     "data": {
      "text/html": [
       "<div><div style = \"float: left;\"><span>5×10 DataFrame</span></div><div style = \"clear: both;\"></div></div><div class = \"data-frame\" style = \"overflow-x: scroll;\"><table class = \"data-frame\" style = \"margin-bottom: 6px;\"><thead><tr class = \"header\"><th class = \"rowNumber\" style = \"font-weight: bold; text-align: right;\">Row</th><th style = \"text-align: left;\">antibiotic</th><th style = \"text-align: left;\">col</th><th style = \"text-align: left;\">OD</th><th style = \"text-align: left;\">design</th><th style = \"text-align: left;\">concentration_ugmL</th><th style = \"text-align: left;\">day</th><th style = \"text-align: left;\">strain_num</th><th style = \"text-align: left;\">env</th><th style = \"text-align: left;\">plate</th><th style = \"text-align: left;\">blank</th></tr><tr class = \"subheader headerLastRow\"><th class = \"rowNumber\" style = \"font-weight: bold; text-align: right;\"></th><th title = \"InlineStrings.String7\" style = \"text-align: left;\">String7</th><th title = \"String\" style = \"text-align: left;\">String</th><th title = \"Float64\" style = \"text-align: left;\">Float64</th><th title = \"Int64\" style = \"text-align: left;\">Int64</th><th title = \"Float64\" style = \"text-align: left;\">Float64</th><th title = \"Int64\" style = \"text-align: left;\">Int64</th><th title = \"Int64\" style = \"text-align: left;\">Int64</th><th title = \"String\" style = \"text-align: left;\">String</th><th title = \"Int64\" style = \"text-align: left;\">Int64</th><th title = \"Bool\" style = \"text-align: left;\">Bool</th></tr></thead><tbody><tr><td class = \"rowNumber\" style = \"font-weight: bold; text-align: right;\">1</td><td style = \"text-align: left;\">TET</td><td style = \"text-align: left;\">col1</td><td style = \"text-align: right;\">0.0464</td><td style = \"text-align: right;\">3</td><td style = \"text-align: right;\">0.0</td><td style = \"text-align: right;\">1</td><td style = \"text-align: right;\">19</td><td style = \"text-align: left;\">TETE4_in_KM</td><td style = \"text-align: right;\">10</td><td style = \"text-align: right;\">true</td></tr><tr><td class = \"rowNumber\" style = \"font-weight: bold; text-align: right;\">2</td><td style = \"text-align: left;\">KM</td><td style = \"text-align: left;\">col1</td><td style = \"text-align: right;\">0.0432</td><td style = \"text-align: right;\">3</td><td style = \"text-align: right;\">0.0</td><td style = \"text-align: right;\">1</td><td style = \"text-align: right;\">19</td><td style = \"text-align: left;\">TETE4_in_KM</td><td style = \"text-align: right;\">10</td><td style = \"text-align: right;\">true</td></tr><tr><td class = \"rowNumber\" style = \"font-weight: bold; text-align: right;\">3</td><td style = \"text-align: left;\">NFLX</td><td style = \"text-align: left;\">col1</td><td style = \"text-align: right;\">0.0414</td><td style = \"text-align: right;\">3</td><td style = \"text-align: right;\">0.0</td><td style = \"text-align: right;\">1</td><td style = \"text-align: right;\">19</td><td style = \"text-align: left;\">TETE4_in_KM</td><td style = \"text-align: right;\">10</td><td style = \"text-align: right;\">true</td></tr><tr><td class = \"rowNumber\" style = \"font-weight: bold; text-align: right;\">4</td><td style = \"text-align: left;\">SS</td><td style = \"text-align: left;\">col1</td><td style = \"text-align: right;\">0.0415</td><td style = \"text-align: right;\">3</td><td style = \"text-align: right;\">0.0</td><td style = \"text-align: right;\">1</td><td style = \"text-align: right;\">19</td><td style = \"text-align: left;\">TETE4_in_KM</td><td style = \"text-align: right;\">10</td><td style = \"text-align: right;\">true</td></tr><tr><td class = \"rowNumber\" style = \"font-weight: bold; text-align: right;\">5</td><td style = \"text-align: left;\">PLM</td><td style = \"text-align: left;\">col1</td><td style = \"text-align: right;\">0.0427</td><td style = \"text-align: right;\">3</td><td style = \"text-align: right;\">0.0</td><td style = \"text-align: right;\">1</td><td style = \"text-align: right;\">19</td><td style = \"text-align: left;\">TETE4_in_KM</td><td style = \"text-align: right;\">10</td><td style = \"text-align: right;\">true</td></tr></tbody></table></div>"
      ],
      "text/latex": [
       "\\begin{tabular}{r|ccccccccc}\n",
       "\t& antibiotic & col & OD & design & concentration\\_ugmL & day & strain\\_num & env & \\\\\n",
       "\t\\hline\n",
       "\t& String7 & String & Float64 & Int64 & Float64 & Int64 & Int64 & String & \\\\\n",
       "\t\\hline\n",
       "\t1 & TET & col1 & 0.0464 & 3 & 0.0 & 1 & 19 & TETE4\\_in\\_KM & $\\dots$ \\\\\n",
       "\t2 & KM & col1 & 0.0432 & 3 & 0.0 & 1 & 19 & TETE4\\_in\\_KM & $\\dots$ \\\\\n",
       "\t3 & NFLX & col1 & 0.0414 & 3 & 0.0 & 1 & 19 & TETE4\\_in\\_KM & $\\dots$ \\\\\n",
       "\t4 & SS & col1 & 0.0415 & 3 & 0.0 & 1 & 19 & TETE4\\_in\\_KM & $\\dots$ \\\\\n",
       "\t5 & PLM & col1 & 0.0427 & 3 & 0.0 & 1 & 19 & TETE4\\_in\\_KM & $\\dots$ \\\\\n",
       "\\end{tabular}\n"
      ],
      "text/plain": [
       "\u001b[1m5×10 DataFrame\u001b[0m\n",
       "\u001b[1m Row \u001b[0m│\u001b[1m antibiotic \u001b[0m\u001b[1m col    \u001b[0m\u001b[1m OD      \u001b[0m\u001b[1m design \u001b[0m\u001b[1m concentration_ugmL \u001b[0m\u001b[1m day   \u001b[0m\u001b[1m strain_\u001b[0m ⋯\n",
       "     │\u001b[90m String7    \u001b[0m\u001b[90m String \u001b[0m\u001b[90m Float64 \u001b[0m\u001b[90m Int64  \u001b[0m\u001b[90m Float64            \u001b[0m\u001b[90m Int64 \u001b[0m\u001b[90m Int64  \u001b[0m ⋯\n",
       "─────┼──────────────────────────────────────────────────────────────────────────\n",
       "   1 │ TET         col1     0.0464       3                 0.0      1          ⋯\n",
       "   2 │ KM          col1     0.0432       3                 0.0      1\n",
       "   3 │ NFLX        col1     0.0414       3                 0.0      1\n",
       "   4 │ SS          col1     0.0415       3                 0.0      1\n",
       "   5 │ PLM         col1     0.0427       3                 0.0      1          ⋯\n",
       "\u001b[36m                                                               4 columns omitted\u001b[0m"
      ]
     },
     "metadata": {},
     "output_type": "display_data"
    }
   ],
   "source": [
    "first(df_tidy, 5)"
   ]
  },
  {
   "cell_type": "code",
   "execution_count": 14,
   "metadata": {},
   "outputs": [
    {
     "data": {
      "text/plain": [
       "\"/Users/mrazo/git/antibiotic_landscape/data/Iwasawa_2022/iwasawa_tidy.csv\""
      ]
     },
     "metadata": {},
     "output_type": "display_data"
    }
   ],
   "source": [
    "CSV.write(\"$(git_root())/data/Iwasawa_2022/iwasawa_tidy.csv\", df_tidy)"
   ]
  }
 ],
 "metadata": {
  "kernelspec": {
   "display_name": "Julia 1.8.5",
   "language": "julia",
   "name": "julia-1.8"
  },
  "language_info": {
   "file_extension": ".jl",
   "mimetype": "application/julia",
   "name": "julia",
   "version": "1.8.5"
  },
  "orig_nbformat": 4,
  "vscode": {
   "interpreter": {
    "hash": "b0fa6594d8f4cbf19f97940f81e996739fb7646882a419484c72d19e05852a7e"
   }
  }
 },
 "nbformat": 4,
 "nbformat_minor": 2
}
