{
 "cells": [
  {
   "cell_type": "markdown",
   "metadata": {},
   "source": [
    "(c) 2024 Manuel Razo. This work is licensed under a [Creative Commons\n",
    "Attribution License CC-BY 4.0](https://creativecommons.org/licenses/by/4.0/).\n",
    "All code contained herein is licensed under an [MIT\n",
    "license](https://opensource.org/licenses/MIT)."
   ]
  },
  {
   "cell_type": "code",
   "execution_count": 69,
   "metadata": {},
   "outputs": [],
   "source": [
    "# Import project package\n",
    "import Antibiotic\n",
    "import Antibiotic.mh as mh\n",
    "\n",
    "# Import packages for storing results\n",
    "import DimensionalData as DD\n",
    "\n",
    "# Load CairoMakie for plotting\n",
    "using CairoMakie\n",
    "import PairPlots\n",
    "import ColorSchemes\n",
    "\n",
    "# Import basic math libraries\n",
    "import StatsBase\n",
    "import LinearAlgebra\n",
    "import Random\n",
    "import Distributions\n",
    "import Distances\n",
    "\n",
    "# Activate backend\n",
    "CairoMakie.activate!()\n",
    "\n",
    "# Set PBoC Plotting style\n",
    "Antibiotic.viz.theme_makie!()"
   ]
  },
  {
   "cell_type": "markdown",
   "metadata": {},
   "source": [
    "# Evolutionary dynamics on a fitness and mutational landscape with hidden dimensions"
   ]
  },
  {
   "cell_type": "markdown",
   "metadata": {},
   "source": [
    "In this notebook, we will explore the effects of \"hidden dimensions\" on the evolutionary dynamics of a population. Effectively, this means that we will use the same Metropolis-Hastings algorithm developed previously, but one of the\n",
    "dimensions in the phenotypic space will not be under selection, giving an extra degree of freedom."
   ]
  },
  {
   "cell_type": "markdown",
   "metadata": {},
   "source": [
    "## 3D Example"
   ]
  },
  {
   "cell_type": "markdown",
   "metadata": {},
   "source": [
    "Let's begin with a simple 3D example. To remove the selection pressure in one \n",
    "of the dimensions, we will set the variance of that dimension to a very large value."
   ]
  },
  {
   "cell_type": "code",
   "execution_count": null,
   "metadata": {},
   "outputs": [],
   "source": [
    "# Evolution condition amplitude\n",
    "fit_evo_amplitude = 5.0\n",
    "# Evolution condition mean\n",
    "fit_evo_mean = [0.0, 0.0, 0.0]\n",
    "# Evolution condition covariance\n",
    "fit_evo_cov = [1.0 0.0 0.0; 0.0 1.0 0.0; 0.0 0.0 100.0]\n",
    "# Create fitness landscape\n",
    "fit_evo = mh.GaussianPeak(fit_evo_amplitude, fit_evo_mean, fit_evo_cov)"
   ]
  },
  {
   "cell_type": "markdown",
   "metadata": {},
   "source": [
    "Let's visualize the fitness landscape as a corner plot, where each panel shows either the marginal distribution or a 2D slice through the landscape."
   ]
  },
  {
   "cell_type": "code",
   "execution_count": null,
   "metadata": {},
   "outputs": [],
   "source": [
    "# Define ranges of phenotypes to evaluate\n",
    "x = y = z = range(-6, 6, length=100)\n",
    "coords = (x, y, z)\n",
    "\n",
    "# Evaluate fitness landscape\n",
    "F = mh.fitness(coords, fit_evo)"
   ]
  },
  {
   "cell_type": "code",
   "execution_count": null,
   "metadata": {},
   "outputs": [],
   "source": [
    "# Initialize figure\n",
    "fig = Figure(size=(200 * length(coords), 200 * length(coords)))\n",
    "\n",
    "# Add grid layout\n",
    "gl = fig[1, 1] = GridLayout()\n",
    "\n",
    "# Extract indexes of axes to form lower triangular grid\n",
    "axes_idx = [\n",
    "    idx for idx in CartesianIndices((length(coords), length(coords)))\n",
    "    if idx[1] >= idx[2]\n",
    "]\n",
    "\n",
    "# Extract dimensions\n",
    "dims = DD.dims(F)\n",
    "\n",
    "# Add axes to figure\n",
    "for (i, idx) in enumerate(axes_idx)\n",
    "    # Extract coordinates for this axis\n",
    "    local x, y = idx.I\n",
    "    # Extract dimension for this axis\n",
    "    xdim = dims[x]\n",
    "    ydim = dims[y]\n",
    "    # Add axis to figure\n",
    "    ax = Axis(gl[x, y], aspect=AxisAspect(1))\n",
    "    # Hide x and y ticks\n",
    "    hidedecorations!(ax)\n",
    "\n",
    "    # Check if x == y\n",
    "    if x == y\n",
    "        # Compute marginal fitness landscape by summing over the other dimension\n",
    "        F_marg = vec(sum(F, dims=dims[[d for d in 1:length(dims) if d != x]]))\n",
    "        # Plot marginal fitness landscape\n",
    "        lines!(ax, coords[x], F_marg, color=:black)\n",
    "    else\n",
    "        # Marginalize over the other dimension\n",
    "        F_marg = sum(F, dims=dims[[d for d in 1:length(dims) if d != x && d != y]])\n",
    "        # Drop dimensions that were marginalized over\n",
    "        # NOTE: The dims argument must be a tuple of the dimensions to drop.\n",
    "        F_marg = dropdims(\n",
    "            F_marg.data,\n",
    "            dims=tuple(findall(size(F_marg.data) .== 1)...)\n",
    "        )\n",
    "        # Plot fitness landscape\n",
    "        heatmap!(ax, coords[x], coords[y], F_marg, colormap=:algae)\n",
    "        contour!(ax, coords[x], coords[y], F_marg, color=:white)\n",
    "    end\n",
    "end\n",
    "\n",
    "# Reduce spacing between subplots\n",
    "rowgap!(gl, 5)\n",
    "colgap!(gl, 5)\n",
    "\n",
    "fig"
   ]
  },
  {
   "cell_type": "code",
   "execution_count": null,
   "metadata": {},
   "outputs": [],
   "source": []
  }
 ],
 "metadata": {
  "kernelspec": {
   "display_name": "Julia 1.11.3",
   "language": "julia",
   "name": "julia-1.11"
  },
  "language_info": {
   "file_extension": ".jl",
   "mimetype": "application/julia",
   "name": "julia",
   "version": "1.11.3"
  }
 },
 "nbformat": 4,
 "nbformat_minor": 2
}
